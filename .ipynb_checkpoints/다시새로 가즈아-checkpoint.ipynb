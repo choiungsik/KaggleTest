{
 "cells": [
  {
   "cell_type": "markdown",
   "metadata": {},
   "source": [
    "# 결측치 이번엔 다 채워보자\n",
    " - ctrl+f 해서 데이터 전처리 검색"
   ]
  },
  {
   "cell_type": "code",
   "execution_count": 200,
   "metadata": {},
   "outputs": [],
   "source": [
    "import numpy as np\n",
    "import pandas as pd\n",
    "import matplotlib.pyplot as plt\n",
    "import seaborn as sns\n",
    "sns.set()"
   ]
  },
  {
   "cell_type": "code",
   "execution_count": 201,
   "metadata": {},
   "outputs": [],
   "source": [
    "train_data = pd.read_csv('./data_kaggle/train7.csv')\n",
    "test_data = pd.read_csv('./data_kaggle/test2.csv')"
   ]
  },
  {
   "cell_type": "code",
   "execution_count": 202,
   "metadata": {},
   "outputs": [
    {
     "name": "stdout",
     "output_type": "stream",
     "text": [
      "<class 'pandas.core.frame.DataFrame'>\n",
      "RangeIndex: 4999 entries, 0 to 4998\n",
      "Data columns (total 14 columns):\n",
      " #   Column             Non-Null Count  Dtype  \n",
      "---  ------             --------------  -----  \n",
      " 0   ID                 4999 non-null   int64  \n",
      " 1   Name               4999 non-null   object \n",
      " 2   Location           4906 non-null   object \n",
      " 3   Year               4999 non-null   int64  \n",
      " 4   Kilometers_Driven  4368 non-null   float64\n",
      " 5   Fuel_Type          4999 non-null   object \n",
      " 6   Transmission       4999 non-null   object \n",
      " 7   Owner_Type         4999 non-null   object \n",
      " 8   Mileage            4999 non-null   float64\n",
      " 9   Engine             4999 non-null   int64  \n",
      " 10  Power              4999 non-null   float64\n",
      " 11  Seats              4999 non-null   int64  \n",
      " 12  Price              4999 non-null   float64\n",
      " 13  Brand              4999 non-null   object \n",
      "dtypes: float64(4), int64(4), object(6)\n",
      "memory usage: 546.9+ KB\n"
     ]
    }
   ],
   "source": [
    "train_data.info() # 결측치 컬럼 = [Location, Year, Kilometers_Driven, Fuel_Type, Owner_Type, Mileage, Power, Seats] 8개"
   ]
  },
  {
   "cell_type": "code",
   "execution_count": 203,
   "metadata": {},
   "outputs": [
    {
     "name": "stdout",
     "output_type": "stream",
     "text": [
      "<class 'pandas.core.frame.DataFrame'>\n",
      "RangeIndex: 1019 entries, 0 to 1018\n",
      "Data columns (total 13 columns):\n",
      " #   Column             Non-Null Count  Dtype  \n",
      "---  ------             --------------  -----  \n",
      " 0   ID                 1019 non-null   int64  \n",
      " 1   Name               1019 non-null   object \n",
      " 2   Location           1019 non-null   object \n",
      " 3   Year               1019 non-null   int64  \n",
      " 4   Kilometers_Driven  1019 non-null   int64  \n",
      " 5   Fuel_Type          1019 non-null   object \n",
      " 6   Transmission       1019 non-null   object \n",
      " 7   Owner_Type         1019 non-null   object \n",
      " 8   Mileage            1019 non-null   float64\n",
      " 9   Engine             1019 non-null   int64  \n",
      " 10  Power              1019 non-null   float64\n",
      " 11  Seats              1019 non-null   int64  \n",
      " 12  Brand              1019 non-null   object \n",
      "dtypes: float64(2), int64(5), object(6)\n",
      "memory usage: 103.6+ KB\n"
     ]
    }
   ],
   "source": [
    "test_data.info() # 결측치 컬럼 = [Kilometers_Driven, Year, Engine, Power, Seats] 5개 train_data와 다르게 Engine이 결측치"
   ]
  },
  {
   "cell_type": "code",
   "execution_count": 204,
   "metadata": {},
   "outputs": [],
   "source": [
    "# test_data 기준에 맞춰서 채워야되는듯?"
   ]
  },
  {
   "cell_type": "markdown",
   "metadata": {},
   "source": [
    "### 1. train_data 결측치 채우기\n",
    " 1. Kilometers_Driven\n",
    " 2. Year\n",
    " 3. Engine\n",
    " 4. Power\n",
    " 5. Seats"
   ]
  },
  {
   "cell_type": "code",
   "execution_count": 205,
   "metadata": {},
   "outputs": [
    {
     "data": {
      "text/plain": [
       "60000.0    65\n",
       "45000.0    52\n",
       "65000.0    47\n",
       "50000.0    47\n",
       "70000.0    44\n",
       "           ..\n",
       "65097.0     1\n",
       "66296.0     1\n",
       "58734.0     1\n",
       "55116.0     1\n",
       "45252.0     1\n",
       "Name: Kilometers_Driven, Length: 2298, dtype: int64"
      ]
     },
     "execution_count": 205,
     "metadata": {},
     "output_type": "execute_result"
    }
   ],
   "source": [
    "train_data['Kilometers_Driven'].value_counts()  # train_data 총 개수 = 4353 개   null값 = 646개"
   ]
  },
  {
   "cell_type": "code",
   "execution_count": 206,
   "metadata": {
    "scrolled": true
   },
   "outputs": [
    {
     "data": {
      "text/plain": [
       "59397.51602564102"
      ]
     },
     "execution_count": 206,
     "metadata": {},
     "output_type": "execute_result"
    }
   ],
   "source": [
    "# 골고루 있는거 같아서 mean() 값을 넣기로해봄\n",
    "train_data['Kilometers_Driven'].mean()"
   ]
  },
  {
   "cell_type": "code",
   "execution_count": 207,
   "metadata": {},
   "outputs": [
    {
     "name": "stdout",
     "output_type": "stream",
     "text": [
      "train_data[Kilometers_Driven] fillna 한 후 isnull().sum() :  0\n"
     ]
    }
   ],
   "source": [
    "train_data['Kilometers_Driven'] = train_data['Kilometers_Driven'].fillna(59442) #mean 값\n",
    "print('train_data[Kilometers_Driven] fillna 한 후 isnull().sum() : ',train_data['Kilometers_Driven'].isnull().sum())"
   ]
  },
  {
   "cell_type": "code",
   "execution_count": 208,
   "metadata": {
    "scrolled": false
   },
   "outputs": [
    {
     "data": {
      "text/plain": [
       "56000     201\n",
       "65000      13\n",
       "30000      12\n",
       "42000      11\n",
       "52000      11\n",
       "         ... \n",
       "149000      1\n",
       "32450       1\n",
       "31817       1\n",
       "39566       1\n",
       "67585       1\n",
       "Name: Kilometers_Driven, Length: 514, dtype: int64"
      ]
     },
     "execution_count": 208,
     "metadata": {},
     "output_type": "execute_result"
    }
   ],
   "source": [
    "test_data['Kilometers_Driven'].value_counts()  # test_data 총 개수 = 819개  null값 = 200"
   ]
  },
  {
   "cell_type": "code",
   "execution_count": 209,
   "metadata": {},
   "outputs": [
    {
     "name": "stdout",
     "output_type": "stream",
     "text": [
      "test_data[Kilometers_Driven] fillna 한 후 isnull().sum() :  0\n"
     ]
    }
   ],
   "source": [
    "test_data['Kilometers_Driven'] = test_data['Kilometers_Driven'].fillna(59442) # -> 결측치 채우기\n",
    "print('test_data[Kilometers_Driven] fillna 한 후 isnull().sum() : ' , test_data['Kilometers_Driven'].isnull().sum())"
   ]
  },
  {
   "cell_type": "code",
   "execution_count": 210,
   "metadata": {},
   "outputs": [
    {
     "name": "stdout",
     "output_type": "stream",
     "text": [
      "<class 'pandas.core.frame.DataFrame'>\n",
      "RangeIndex: 4999 entries, 0 to 4998\n",
      "Data columns (total 14 columns):\n",
      " #   Column             Non-Null Count  Dtype  \n",
      "---  ------             --------------  -----  \n",
      " 0   ID                 4999 non-null   int64  \n",
      " 1   Name               4999 non-null   object \n",
      " 2   Location           4906 non-null   object \n",
      " 3   Year               4999 non-null   int64  \n",
      " 4   Kilometers_Driven  4999 non-null   float64\n",
      " 5   Fuel_Type          4999 non-null   object \n",
      " 6   Transmission       4999 non-null   object \n",
      " 7   Owner_Type         4999 non-null   object \n",
      " 8   Mileage            4999 non-null   float64\n",
      " 9   Engine             4999 non-null   int64  \n",
      " 10  Power              4999 non-null   float64\n",
      " 11  Seats              4999 non-null   int64  \n",
      " 12  Price              4999 non-null   float64\n",
      " 13  Brand              4999 non-null   object \n",
      "dtypes: float64(4), int64(4), object(6)\n",
      "memory usage: 546.9+ KB\n"
     ]
    }
   ],
   "source": [
    "train_data.info()"
   ]
  },
  {
   "cell_type": "code",
   "execution_count": 211,
   "metadata": {},
   "outputs": [
    {
     "name": "stdout",
     "output_type": "stream",
     "text": [
      "<class 'pandas.core.frame.DataFrame'>\n",
      "RangeIndex: 1019 entries, 0 to 1018\n",
      "Data columns (total 13 columns):\n",
      " #   Column             Non-Null Count  Dtype  \n",
      "---  ------             --------------  -----  \n",
      " 0   ID                 1019 non-null   int64  \n",
      " 1   Name               1019 non-null   object \n",
      " 2   Location           1019 non-null   object \n",
      " 3   Year               1019 non-null   int64  \n",
      " 4   Kilometers_Driven  1019 non-null   int64  \n",
      " 5   Fuel_Type          1019 non-null   object \n",
      " 6   Transmission       1019 non-null   object \n",
      " 7   Owner_Type         1019 non-null   object \n",
      " 8   Mileage            1019 non-null   float64\n",
      " 9   Engine             1019 non-null   int64  \n",
      " 10  Power              1019 non-null   float64\n",
      " 11  Seats              1019 non-null   int64  \n",
      " 12  Brand              1019 non-null   object \n",
      "dtypes: float64(2), int64(5), object(6)\n",
      "memory usage: 103.6+ KB\n"
     ]
    }
   ],
   "source": [
    "test_data.info()  # 확인 결과 두개 다 참"
   ]
  },
  {
   "cell_type": "markdown",
   "metadata": {},
   "source": [
    " 2. Year"
   ]
  },
  {
   "cell_type": "code",
   "execution_count": 212,
   "metadata": {},
   "outputs": [
    {
     "data": {
      "text/plain": [
       "2014    688\n",
       "2016    612\n",
       "2015    609\n",
       "2013    516\n",
       "2017    499\n",
       "2012    479\n",
       "2011    370\n",
       "2010    290\n",
       "2018    255\n",
       "2009    163\n",
       "2008    146\n",
       "2007    110\n",
       "2019     80\n",
       "2006     67\n",
       "2005     52\n",
       "2004     25\n",
       "2003     13\n",
       "2002     11\n",
       "2001      6\n",
       "1998      4\n",
       "2000      3\n",
       "1999      1\n",
       "Name: Year, dtype: int64"
      ]
     },
     "execution_count": 212,
     "metadata": {},
     "output_type": "execute_result"
    }
   ],
   "source": [
    "train_data['Year'].value_counts()# train_data 4660개 null 339개"
   ]
  },
  {
   "cell_type": "code",
   "execution_count": 213,
   "metadata": {},
   "outputs": [
    {
     "data": {
      "text/plain": [
       "2013.3632726545309"
      ]
     },
     "execution_count": 213,
     "metadata": {},
     "output_type": "execute_result"
    }
   ],
   "source": [
    "train_data['Year'].mean()"
   ]
  },
  {
   "cell_type": "code",
   "execution_count": 214,
   "metadata": {},
   "outputs": [
    {
     "name": "stdout",
     "output_type": "stream",
     "text": [
      "train_data[year] null값 확인 :  0\n"
     ]
    }
   ],
   "source": [
    "# year는 2012~2017년에 많이 몰려있는거 같음\n",
    "# 평균값인 2015년을 넣자\n",
    "train_data['Year'] = train_data['Year'].fillna(2015.0)\n",
    "\n",
    "\n",
    "print('train_data[year] null값 확인 : ',train_data['Year'].isnull().sum())"
   ]
  },
  {
   "cell_type": "code",
   "execution_count": 215,
   "metadata": {},
   "outputs": [
    {
     "name": "stdout",
     "output_type": "stream",
     "text": [
      "<class 'pandas.core.frame.DataFrame'>\n",
      "RangeIndex: 4999 entries, 0 to 4998\n",
      "Data columns (total 14 columns):\n",
      " #   Column             Non-Null Count  Dtype  \n",
      "---  ------             --------------  -----  \n",
      " 0   ID                 4999 non-null   int64  \n",
      " 1   Name               4999 non-null   object \n",
      " 2   Location           4906 non-null   object \n",
      " 3   Year               4999 non-null   int64  \n",
      " 4   Kilometers_Driven  4999 non-null   float64\n",
      " 5   Fuel_Type          4999 non-null   object \n",
      " 6   Transmission       4999 non-null   object \n",
      " 7   Owner_Type         4999 non-null   object \n",
      " 8   Mileage            4999 non-null   float64\n",
      " 9   Engine             4999 non-null   int64  \n",
      " 10  Power              4999 non-null   float64\n",
      " 11  Seats              4999 non-null   int64  \n",
      " 12  Price              4999 non-null   float64\n",
      " 13  Brand              4999 non-null   object \n",
      "dtypes: float64(4), int64(4), object(6)\n",
      "memory usage: 546.9+ KB\n"
     ]
    }
   ],
   "source": [
    "train_data.info()"
   ]
  },
  {
   "cell_type": "code",
   "execution_count": 216,
   "metadata": {},
   "outputs": [],
   "source": [
    "# test_data['year'] 도 똑같이 ㄱㄱ"
   ]
  },
  {
   "cell_type": "code",
   "execution_count": 217,
   "metadata": {},
   "outputs": [
    {
     "data": {
      "text/plain": [
       "1019"
      ]
     },
     "execution_count": 217,
     "metadata": {},
     "output_type": "execute_result"
    }
   ],
   "source": [
    "test_data['Year'].value_counts().sum() # test_data 1001 개 null 18개"
   ]
  },
  {
   "cell_type": "code",
   "execution_count": 218,
   "metadata": {},
   "outputs": [],
   "source": [
    "test_data['Year'] = test_data['Year'].fillna(2015.0)"
   ]
  },
  {
   "cell_type": "code",
   "execution_count": 219,
   "metadata": {},
   "outputs": [
    {
     "name": "stdout",
     "output_type": "stream",
     "text": [
      "<class 'pandas.core.frame.DataFrame'>\n",
      "RangeIndex: 1019 entries, 0 to 1018\n",
      "Data columns (total 13 columns):\n",
      " #   Column             Non-Null Count  Dtype  \n",
      "---  ------             --------------  -----  \n",
      " 0   ID                 1019 non-null   int64  \n",
      " 1   Name               1019 non-null   object \n",
      " 2   Location           1019 non-null   object \n",
      " 3   Year               1019 non-null   int64  \n",
      " 4   Kilometers_Driven  1019 non-null   int64  \n",
      " 5   Fuel_Type          1019 non-null   object \n",
      " 6   Transmission       1019 non-null   object \n",
      " 7   Owner_Type         1019 non-null   object \n",
      " 8   Mileage            1019 non-null   float64\n",
      " 9   Engine             1019 non-null   int64  \n",
      " 10  Power              1019 non-null   float64\n",
      " 11  Seats              1019 non-null   int64  \n",
      " 12  Brand              1019 non-null   object \n",
      "dtypes: float64(2), int64(5), object(6)\n",
      "memory usage: 103.6+ KB\n"
     ]
    }
   ],
   "source": [
    "test_data.info()"
   ]
  },
  {
   "cell_type": "markdown",
   "metadata": {},
   "source": [
    " 3. Engine\n",
    "  - 이거 왠지 1000~ 1100 이런식으로 그룹화 해야될 느낌이 팍팍들긴하네"
   ]
  },
  {
   "cell_type": "code",
   "execution_count": 220,
   "metadata": {},
   "outputs": [
    {
     "data": {
      "text/plain": [
       "1197    491\n",
       "1248    442\n",
       "1498    241\n",
       "998     217\n",
       "2179    194\n",
       "       ... \n",
       "1948      1\n",
       "1797      1\n",
       "1978      1\n",
       "1468      1\n",
       "2147      1\n",
       "Name: Engine, Length: 142, dtype: int64"
      ]
     },
     "execution_count": 220,
     "metadata": {},
     "output_type": "execute_result"
    }
   ],
   "source": [
    "train_data['Engine'].value_counts() # 골고루 있네.. 일단 CC 부터 빼야될듯"
   ]
  },
  {
   "cell_type": "code",
   "execution_count": 221,
   "metadata": {
    "scrolled": true
   },
   "outputs": [],
   "source": [
    "for i in range(len(train_data['Name'])):\n",
    "    if train_data['Engine'][i] == '0CC':\n",
    "        train_data['Engine'][i] = '0 CC'"
   ]
  },
  {
   "cell_type": "code",
   "execution_count": 222,
   "metadata": {},
   "outputs": [
    {
     "ename": "AttributeError",
     "evalue": "'numpy.int64' object has no attribute 'split'",
     "output_type": "error",
     "traceback": [
      "\u001b[1;31m---------------------------------------------------------------------------\u001b[0m",
      "\u001b[1;31mAttributeError\u001b[0m                            Traceback (most recent call last)",
      "\u001b[1;32m<ipython-input-222-7be2f0bb47e9>\u001b[0m in \u001b[0;36m<module>\u001b[1;34m\u001b[0m\n\u001b[0;32m      1\u001b[0m \u001b[1;32mfor\u001b[0m \u001b[0mi\u001b[0m \u001b[1;32min\u001b[0m \u001b[0mrange\u001b[0m\u001b[1;33m(\u001b[0m\u001b[0mlen\u001b[0m\u001b[1;33m(\u001b[0m\u001b[0mtrain_data\u001b[0m\u001b[1;33m[\u001b[0m\u001b[1;34m'Name'\u001b[0m\u001b[1;33m]\u001b[0m\u001b[1;33m)\u001b[0m\u001b[1;33m)\u001b[0m\u001b[1;33m:\u001b[0m\u001b[1;33m\u001b[0m\u001b[1;33m\u001b[0m\u001b[0m\n\u001b[1;32m----> 2\u001b[1;33m     \u001b[0mtrain_data\u001b[0m\u001b[1;33m[\u001b[0m\u001b[1;34m'Engine'\u001b[0m\u001b[1;33m]\u001b[0m\u001b[1;33m[\u001b[0m\u001b[0mi\u001b[0m\u001b[1;33m]\u001b[0m \u001b[1;33m=\u001b[0m \u001b[0mtrain_data\u001b[0m\u001b[1;33m[\u001b[0m\u001b[1;34m'Engine'\u001b[0m\u001b[1;33m]\u001b[0m\u001b[1;33m[\u001b[0m\u001b[0mi\u001b[0m\u001b[1;33m]\u001b[0m\u001b[1;33m.\u001b[0m\u001b[0msplit\u001b[0m\u001b[1;33m(\u001b[0m\u001b[1;34m' '\u001b[0m\u001b[1;33m,\u001b[0m\u001b[1;36m1\u001b[0m\u001b[1;33m)\u001b[0m\u001b[1;33m[\u001b[0m\u001b[1;36m0\u001b[0m\u001b[1;33m]\u001b[0m\u001b[1;33m\u001b[0m\u001b[1;33m\u001b[0m\u001b[0m\n\u001b[0m\u001b[0;32m      3\u001b[0m \u001b[1;33m\u001b[0m\u001b[0m\n\u001b[0;32m      4\u001b[0m \u001b[1;33m\u001b[0m\u001b[0m\n\u001b[0;32m      5\u001b[0m \u001b[1;31m# 노나 놨으니까 이거를 float 으로 바꿔야해\u001b[0m\u001b[1;33m\u001b[0m\u001b[1;33m\u001b[0m\u001b[1;33m\u001b[0m\u001b[0m\n",
      "\u001b[1;31mAttributeError\u001b[0m: 'numpy.int64' object has no attribute 'split'"
     ]
    }
   ],
   "source": [
    "for i in range(len(train_data['Name'])):\n",
    "    train_data['Engine'][i] = train_data['Engine'][i].split(' ',1)[0]\n",
    "    \n",
    "    \n",
    "# 노나 놨으니까 이거를 float 으로 바꿔야해"
   ]
  },
  {
   "cell_type": "code",
   "execution_count": 223,
   "metadata": {},
   "outputs": [
    {
     "name": "stdout",
     "output_type": "stream",
     "text": [
      "<class 'pandas.core.frame.DataFrame'>\n",
      "RangeIndex: 4999 entries, 0 to 4998\n",
      "Data columns (total 14 columns):\n",
      " #   Column             Non-Null Count  Dtype  \n",
      "---  ------             --------------  -----  \n",
      " 0   ID                 4999 non-null   int64  \n",
      " 1   Name               4999 non-null   object \n",
      " 2   Location           4906 non-null   object \n",
      " 3   Year               4999 non-null   int64  \n",
      " 4   Kilometers_Driven  4999 non-null   float64\n",
      " 5   Fuel_Type          4999 non-null   object \n",
      " 6   Transmission       4999 non-null   object \n",
      " 7   Owner_Type         4999 non-null   object \n",
      " 8   Mileage            4999 non-null   float64\n",
      " 9   Engine             4999 non-null   float64\n",
      " 10  Power              4999 non-null   float64\n",
      " 11  Seats              4999 non-null   int64  \n",
      " 12  Price              4999 non-null   float64\n",
      " 13  Brand              4999 non-null   object \n",
      "dtypes: float64(5), int64(3), object(6)\n",
      "memory usage: 546.9+ KB\n"
     ]
    }
   ],
   "source": [
    "train_data['Engine'] = train_data['Engine'].astype(float)\n",
    "train_data.info() # float 으로 바꿈"
   ]
  },
  {
   "cell_type": "code",
   "execution_count": 224,
   "metadata": {},
   "outputs": [
    {
     "data": {
      "text/plain": [
       "1629.6965393078615"
      ]
     },
     "execution_count": 224,
     "metadata": {},
     "output_type": "execute_result"
    }
   ],
   "source": [
    "train_data['Engine'].mean() # 평균 값 1514.242... 인데 이게 새로운값이라 의미가 있나 싶네"
   ]
  },
  {
   "cell_type": "code",
   "execution_count": 225,
   "metadata": {},
   "outputs": [
    {
     "data": {
      "text/plain": [
       "1620    122\n",
       "1197     84\n",
       "1248     67\n",
       "1498     60\n",
       "998      46\n",
       "       ... \n",
       "1590      1\n",
       "3597      1\n",
       "2446      1\n",
       "2496      1\n",
       "1047      1\n",
       "Name: Engine, Length: 98, dtype: int64"
      ]
     },
     "execution_count": 225,
     "metadata": {},
     "output_type": "execute_result"
    }
   ],
   "source": [
    "test_data['Engine'].value_counts() # test_data"
   ]
  },
  {
   "cell_type": "code",
   "execution_count": 226,
   "metadata": {},
   "outputs": [
    {
     "data": {
      "text/plain": [
       "0"
      ]
     },
     "execution_count": 226,
     "metadata": {},
     "output_type": "execute_result"
    }
   ],
   "source": [
    "test_data['Engine'].isnull().sum() # 122개 null 값"
   ]
  },
  {
   "cell_type": "code",
   "execution_count": 227,
   "metadata": {},
   "outputs": [],
   "source": [
    "# 일단 CC 부터 빼겟음\n",
    "for i in range(len(test_data['Name'])):\n",
    "    if test_data['Engine'][i] == '0CC':\n",
    "        test_data['Engine'][i] = '0 CC'"
   ]
  },
  {
   "cell_type": "code",
   "execution_count": 228,
   "metadata": {},
   "outputs": [
    {
     "data": {
      "text/plain": [
       "0        998\n",
       "1       1198\n",
       "2       1498\n",
       "3       1248\n",
       "4       2198\n",
       "        ... \n",
       "1014    2179\n",
       "1015    2179\n",
       "1016    2499\n",
       "1017    1968\n",
       "1018    1620\n",
       "Name: Engine, Length: 1019, dtype: int64"
      ]
     },
     "execution_count": 228,
     "metadata": {},
     "output_type": "execute_result"
    }
   ],
   "source": [
    "test_data['Engine'] # null 데이터 때문에 막힘 먼저 넣어야될듯"
   ]
  },
  {
   "cell_type": "code",
   "execution_count": 229,
   "metadata": {},
   "outputs": [],
   "source": [
    "# 무슨 값을 넣어야할지 모르곘다 제일 많은 1197 값을 넣겠음 -> 결측치 채우기\n",
    "test_data['Engine'] = test_data['Engine'].fillna('1197 CC')\n"
   ]
  },
  {
   "cell_type": "code",
   "execution_count": 230,
   "metadata": {
    "scrolled": true
   },
   "outputs": [
    {
     "ename": "AttributeError",
     "evalue": "'numpy.int64' object has no attribute 'split'",
     "output_type": "error",
     "traceback": [
      "\u001b[1;31m---------------------------------------------------------------------------\u001b[0m",
      "\u001b[1;31mAttributeError\u001b[0m                            Traceback (most recent call last)",
      "\u001b[1;32m<ipython-input-230-22c98724006b>\u001b[0m in \u001b[0;36m<module>\u001b[1;34m\u001b[0m\n\u001b[0;32m      1\u001b[0m \u001b[1;32mfor\u001b[0m \u001b[0mi\u001b[0m \u001b[1;32min\u001b[0m \u001b[0mrange\u001b[0m\u001b[1;33m(\u001b[0m\u001b[0mlen\u001b[0m\u001b[1;33m(\u001b[0m\u001b[0mtest_data\u001b[0m\u001b[1;33m[\u001b[0m\u001b[1;34m'Name'\u001b[0m\u001b[1;33m]\u001b[0m\u001b[1;33m)\u001b[0m\u001b[1;33m)\u001b[0m\u001b[1;33m:\u001b[0m\u001b[1;33m\u001b[0m\u001b[1;33m\u001b[0m\u001b[0m\n\u001b[1;32m----> 2\u001b[1;33m     \u001b[0mtest_data\u001b[0m\u001b[1;33m[\u001b[0m\u001b[1;34m'Engine'\u001b[0m\u001b[1;33m]\u001b[0m\u001b[1;33m[\u001b[0m\u001b[0mi\u001b[0m\u001b[1;33m]\u001b[0m \u001b[1;33m=\u001b[0m \u001b[0mtest_data\u001b[0m\u001b[1;33m[\u001b[0m\u001b[1;34m'Engine'\u001b[0m\u001b[1;33m]\u001b[0m\u001b[1;33m[\u001b[0m\u001b[0mi\u001b[0m\u001b[1;33m]\u001b[0m\u001b[1;33m.\u001b[0m\u001b[0msplit\u001b[0m\u001b[1;33m(\u001b[0m\u001b[1;34m' '\u001b[0m\u001b[1;33m,\u001b[0m\u001b[1;36m1\u001b[0m\u001b[1;33m)\u001b[0m\u001b[1;33m[\u001b[0m\u001b[1;36m0\u001b[0m\u001b[1;33m]\u001b[0m\u001b[1;33m\u001b[0m\u001b[1;33m\u001b[0m\u001b[0m\n\u001b[0m",
      "\u001b[1;31mAttributeError\u001b[0m: 'numpy.int64' object has no attribute 'split'"
     ]
    }
   ],
   "source": [
    "for i in range(len(test_data['Name'])):\n",
    "    test_data['Engine'][i] = test_data['Engine'][i].split(' ',1)[0]"
   ]
  },
  {
   "cell_type": "code",
   "execution_count": 231,
   "metadata": {},
   "outputs": [],
   "source": [
    "test_data['Engine'] = test_data['Engine'].astype(float)"
   ]
  },
  {
   "cell_type": "code",
   "execution_count": 232,
   "metadata": {},
   "outputs": [
    {
     "name": "stdout",
     "output_type": "stream",
     "text": [
      "<class 'pandas.core.frame.DataFrame'>\n",
      "RangeIndex: 1019 entries, 0 to 1018\n",
      "Data columns (total 13 columns):\n",
      " #   Column             Non-Null Count  Dtype  \n",
      "---  ------             --------------  -----  \n",
      " 0   ID                 1019 non-null   int64  \n",
      " 1   Name               1019 non-null   object \n",
      " 2   Location           1019 non-null   object \n",
      " 3   Year               1019 non-null   int64  \n",
      " 4   Kilometers_Driven  1019 non-null   int64  \n",
      " 5   Fuel_Type          1019 non-null   object \n",
      " 6   Transmission       1019 non-null   object \n",
      " 7   Owner_Type         1019 non-null   object \n",
      " 8   Mileage            1019 non-null   float64\n",
      " 9   Engine             1019 non-null   float64\n",
      " 10  Power              1019 non-null   float64\n",
      " 11  Seats              1019 non-null   int64  \n",
      " 12  Brand              1019 non-null   object \n",
      "dtypes: float64(3), int64(4), object(6)\n",
      "memory usage: 103.6+ KB\n"
     ]
    }
   ],
   "source": [
    "test_data.info()"
   ]
  },
  {
   "cell_type": "markdown",
   "metadata": {},
   "source": [
    " 4. Power\n",
    "  - 이거도 그룹화 시켜야될 가능성이 있어"
   ]
  },
  {
   "cell_type": "code",
   "execution_count": 233,
   "metadata": {},
   "outputs": [
    {
     "data": {
      "text/plain": [
       "74.00     222\n",
       "98.60     103\n",
       "73.90     101\n",
       "140.00     97\n",
       "67.10      93\n",
       "         ... \n",
       "270.88      1\n",
       "71.01       1\n",
       "174.57      1\n",
       "98.79       1\n",
       "362.90      1\n",
       "Name: Power, Length: 360, dtype: int64"
      ]
     },
     "execution_count": 233,
     "metadata": {},
     "output_type": "execute_result"
    }
   ],
   "source": [
    "train_data['Power'].value_counts()"
   ]
  },
  {
   "cell_type": "code",
   "execution_count": 234,
   "metadata": {},
   "outputs": [
    {
     "data": {
      "text/plain": [
       "0"
      ]
     },
     "execution_count": 234,
     "metadata": {},
     "output_type": "execute_result"
    }
   ],
   "source": [
    "train_data['Power'].isnull().sum() # 573개 "
   ]
  },
  {
   "cell_type": "code",
   "execution_count": 235,
   "metadata": {},
   "outputs": [
    {
     "data": {
      "text/plain": [
       "0       143.0\n",
       "1       143.0\n",
       "2       143.0\n",
       "3       143.0\n",
       "4       163.2\n",
       "        ...  \n",
       "4994    215.0\n",
       "4995    215.0\n",
       "4996    215.0\n",
       "4997    200.0\n",
       "4998    200.0\n",
       "Name: Power, Length: 4999, dtype: float64"
      ]
     },
     "execution_count": 235,
     "metadata": {},
     "output_type": "execute_result"
    }
   ],
   "source": [
    "train_data['Power'] # NaN 데이터 때문에 안노나지는 상황"
   ]
  },
  {
   "cell_type": "code",
   "execution_count": 236,
   "metadata": {},
   "outputs": [],
   "source": [
    "# 일단 제일 많은 74 bhp 로 넣어보기로함 -> 데이터 전처리\n",
    "train_data['Power'] = train_data['Power'].fillna('74 bhp')"
   ]
  },
  {
   "cell_type": "code",
   "execution_count": 237,
   "metadata": {
    "scrolled": true
   },
   "outputs": [
    {
     "ename": "AttributeError",
     "evalue": "'numpy.float64' object has no attribute 'split'",
     "output_type": "error",
     "traceback": [
      "\u001b[1;31m---------------------------------------------------------------------------\u001b[0m",
      "\u001b[1;31mAttributeError\u001b[0m                            Traceback (most recent call last)",
      "\u001b[1;32m<ipython-input-237-28f0615ac620>\u001b[0m in \u001b[0;36m<module>\u001b[1;34m\u001b[0m\n\u001b[0;32m      2\u001b[0m \u001b[1;33m\u001b[0m\u001b[0m\n\u001b[0;32m      3\u001b[0m \u001b[1;32mfor\u001b[0m \u001b[0mi\u001b[0m \u001b[1;32min\u001b[0m \u001b[0mrange\u001b[0m\u001b[1;33m(\u001b[0m\u001b[0mlen\u001b[0m\u001b[1;33m(\u001b[0m\u001b[0mtrain_data\u001b[0m\u001b[1;33m[\u001b[0m\u001b[1;34m'Name'\u001b[0m\u001b[1;33m]\u001b[0m\u001b[1;33m)\u001b[0m\u001b[1;33m)\u001b[0m\u001b[1;33m:\u001b[0m\u001b[1;33m\u001b[0m\u001b[1;33m\u001b[0m\u001b[0m\n\u001b[1;32m----> 4\u001b[1;33m     \u001b[0mtrain_data\u001b[0m\u001b[1;33m[\u001b[0m\u001b[1;34m'Power'\u001b[0m\u001b[1;33m]\u001b[0m\u001b[1;33m[\u001b[0m\u001b[0mi\u001b[0m\u001b[1;33m]\u001b[0m \u001b[1;33m=\u001b[0m \u001b[0mtrain_data\u001b[0m\u001b[1;33m[\u001b[0m\u001b[1;34m'Power'\u001b[0m\u001b[1;33m]\u001b[0m\u001b[1;33m[\u001b[0m\u001b[0mi\u001b[0m\u001b[1;33m]\u001b[0m\u001b[1;33m.\u001b[0m\u001b[0msplit\u001b[0m\u001b[1;33m(\u001b[0m\u001b[1;34m' '\u001b[0m\u001b[1;33m,\u001b[0m\u001b[1;36m1\u001b[0m\u001b[1;33m)\u001b[0m\u001b[1;33m[\u001b[0m\u001b[1;36m0\u001b[0m\u001b[1;33m]\u001b[0m\u001b[1;33m\u001b[0m\u001b[1;33m\u001b[0m\u001b[0m\n\u001b[0m",
      "\u001b[1;31mAttributeError\u001b[0m: 'numpy.float64' object has no attribute 'split'"
     ]
    }
   ],
   "source": [
    "# 일단 bhp 없애는 작업 시작\n",
    "\n",
    "for i in range(len(train_data['Name'])):\n",
    "    train_data['Power'][i] = train_data['Power'][i].split(' ',1)[0]"
   ]
  },
  {
   "cell_type": "code",
   "execution_count": 238,
   "metadata": {
    "scrolled": true
   },
   "outputs": [],
   "source": [
    "for i in range(len(train_data['Name'])):\n",
    "    if train_data['Power'][i] == 'null':\n",
    "        train_data['Power'][i] = 74\n",
    "\n",
    "\n",
    "train_data['Power'] = train_data['Power'].astype(float) # 데이터 전처리 -> null 값없애던지 바꾸던지"
   ]
  },
  {
   "cell_type": "code",
   "execution_count": 239,
   "metadata": {},
   "outputs": [
    {
     "name": "stdout",
     "output_type": "stream",
     "text": [
      "<class 'pandas.core.frame.DataFrame'>\n",
      "RangeIndex: 4999 entries, 0 to 4998\n",
      "Data columns (total 14 columns):\n",
      " #   Column             Non-Null Count  Dtype  \n",
      "---  ------             --------------  -----  \n",
      " 0   ID                 4999 non-null   int64  \n",
      " 1   Name               4999 non-null   object \n",
      " 2   Location           4906 non-null   object \n",
      " 3   Year               4999 non-null   int64  \n",
      " 4   Kilometers_Driven  4999 non-null   float64\n",
      " 5   Fuel_Type          4999 non-null   object \n",
      " 6   Transmission       4999 non-null   object \n",
      " 7   Owner_Type         4999 non-null   object \n",
      " 8   Mileage            4999 non-null   float64\n",
      " 9   Engine             4999 non-null   float64\n",
      " 10  Power              4999 non-null   float64\n",
      " 11  Seats              4999 non-null   int64  \n",
      " 12  Price              4999 non-null   float64\n",
      " 13  Brand              4999 non-null   object \n",
      "dtypes: float64(5), int64(3), object(6)\n",
      "memory usage: 546.9+ KB\n"
     ]
    }
   ],
   "source": [
    "train_data.info() # 다 찼넹?"
   ]
  },
  {
   "cell_type": "code",
   "execution_count": 240,
   "metadata": {},
   "outputs": [
    {
     "data": {
      "text/plain": [
       "113.00    305\n",
       "74.00      33\n",
       "73.90      21\n",
       "67.10      20\n",
       "98.60      18\n",
       "         ... \n",
       "66.00       1\n",
       "254.79      1\n",
       "35.00       1\n",
       "37.48       1\n",
       "148.31      1\n",
       "Name: Power, Length: 199, dtype: int64"
      ]
     },
     "execution_count": 240,
     "metadata": {},
     "output_type": "execute_result"
    }
   ],
   "source": [
    "test_data['Power'].value_counts()"
   ]
  },
  {
   "cell_type": "code",
   "execution_count": 241,
   "metadata": {},
   "outputs": [
    {
     "data": {
      "text/plain": [
       "0"
      ]
     },
     "execution_count": 241,
     "metadata": {},
     "output_type": "execute_result"
    }
   ],
   "source": [
    "test_data['Power'].isnull().sum() # 291개가 있네"
   ]
  },
  {
   "cell_type": "code",
   "execution_count": 242,
   "metadata": {},
   "outputs": [],
   "source": [
    "# 일단 제일 많은 74 bhp 로 넣어보기로함 -> 데이터 전처리\n",
    "test_data['Power'] = test_data['Power'].fillna('74 bhp')"
   ]
  },
  {
   "cell_type": "code",
   "execution_count": 243,
   "metadata": {},
   "outputs": [
    {
     "ename": "AttributeError",
     "evalue": "'numpy.float64' object has no attribute 'split'",
     "output_type": "error",
     "traceback": [
      "\u001b[1;31m---------------------------------------------------------------------------\u001b[0m",
      "\u001b[1;31mAttributeError\u001b[0m                            Traceback (most recent call last)",
      "\u001b[1;32m<ipython-input-243-9ee8e9f6e9c0>\u001b[0m in \u001b[0;36m<module>\u001b[1;34m\u001b[0m\n\u001b[0;32m      2\u001b[0m \u001b[1;33m\u001b[0m\u001b[0m\n\u001b[0;32m      3\u001b[0m \u001b[1;32mfor\u001b[0m \u001b[0mi\u001b[0m \u001b[1;32min\u001b[0m \u001b[0mrange\u001b[0m\u001b[1;33m(\u001b[0m\u001b[0mlen\u001b[0m\u001b[1;33m(\u001b[0m\u001b[0mtest_data\u001b[0m\u001b[1;33m[\u001b[0m\u001b[1;34m'Name'\u001b[0m\u001b[1;33m]\u001b[0m\u001b[1;33m)\u001b[0m\u001b[1;33m)\u001b[0m\u001b[1;33m:\u001b[0m\u001b[1;33m\u001b[0m\u001b[1;33m\u001b[0m\u001b[0m\n\u001b[1;32m----> 4\u001b[1;33m     \u001b[0mtest_data\u001b[0m\u001b[1;33m[\u001b[0m\u001b[1;34m'Power'\u001b[0m\u001b[1;33m]\u001b[0m\u001b[1;33m[\u001b[0m\u001b[0mi\u001b[0m\u001b[1;33m]\u001b[0m \u001b[1;33m=\u001b[0m \u001b[0mtest_data\u001b[0m\u001b[1;33m[\u001b[0m\u001b[1;34m'Power'\u001b[0m\u001b[1;33m]\u001b[0m\u001b[1;33m[\u001b[0m\u001b[0mi\u001b[0m\u001b[1;33m]\u001b[0m\u001b[1;33m.\u001b[0m\u001b[0msplit\u001b[0m\u001b[1;33m(\u001b[0m\u001b[1;34m' '\u001b[0m\u001b[1;33m,\u001b[0m\u001b[1;36m1\u001b[0m\u001b[1;33m)\u001b[0m\u001b[1;33m[\u001b[0m\u001b[1;36m0\u001b[0m\u001b[1;33m]\u001b[0m\u001b[1;33m\u001b[0m\u001b[1;33m\u001b[0m\u001b[0m\n\u001b[0m",
      "\u001b[1;31mAttributeError\u001b[0m: 'numpy.float64' object has no attribute 'split'"
     ]
    }
   ],
   "source": [
    "# 일단 bhp 없애는 작업 시작\n",
    "\n",
    "for i in range(len(test_data['Name'])):\n",
    "    test_data['Power'][i] = test_data['Power'][i].split(' ',1)[0]"
   ]
  },
  {
   "cell_type": "code",
   "execution_count": 244,
   "metadata": {},
   "outputs": [],
   "source": [
    "for i in range(len(test_data['Name'])):\n",
    "    if test_data['Power'][i] == 'null':\n",
    "        test_data['Power'][i] = 74\n",
    "\n",
    "test_data['Power'] = test_data['Power'].astype(float)"
   ]
  },
  {
   "cell_type": "code",
   "execution_count": 245,
   "metadata": {},
   "outputs": [
    {
     "name": "stdout",
     "output_type": "stream",
     "text": [
      "<class 'pandas.core.frame.DataFrame'>\n",
      "RangeIndex: 1019 entries, 0 to 1018\n",
      "Data columns (total 13 columns):\n",
      " #   Column             Non-Null Count  Dtype  \n",
      "---  ------             --------------  -----  \n",
      " 0   ID                 1019 non-null   int64  \n",
      " 1   Name               1019 non-null   object \n",
      " 2   Location           1019 non-null   object \n",
      " 3   Year               1019 non-null   int64  \n",
      " 4   Kilometers_Driven  1019 non-null   int64  \n",
      " 5   Fuel_Type          1019 non-null   object \n",
      " 6   Transmission       1019 non-null   object \n",
      " 7   Owner_Type         1019 non-null   object \n",
      " 8   Mileage            1019 non-null   float64\n",
      " 9   Engine             1019 non-null   float64\n",
      " 10  Power              1019 non-null   float64\n",
      " 11  Seats              1019 non-null   int64  \n",
      " 12  Brand              1019 non-null   object \n",
      "dtypes: float64(3), int64(4), object(6)\n",
      "memory usage: 103.6+ KB\n"
     ]
    }
   ],
   "source": [
    "test_data.info()"
   ]
  },
  {
   "cell_type": "markdown",
   "metadata": {},
   "source": [
    " 5. Seats"
   ]
  },
  {
   "cell_type": "code",
   "execution_count": 246,
   "metadata": {},
   "outputs": [
    {
     "data": {
      "text/plain": [
       "5     4163\n",
       "7      585\n",
       "8      116\n",
       "4       86\n",
       "6       28\n",
       "2       14\n",
       "10       4\n",
       "9        3\n",
       "Name: Seats, dtype: int64"
      ]
     },
     "execution_count": 246,
     "metadata": {},
     "output_type": "execute_result"
    }
   ],
   "source": [
    "train_data['Seats'].value_counts()"
   ]
  },
  {
   "cell_type": "code",
   "execution_count": 247,
   "metadata": {},
   "outputs": [
    {
     "data": {
      "text/plain": [
       "0"
      ]
     },
     "execution_count": 247,
     "metadata": {},
     "output_type": "execute_result"
    }
   ],
   "source": [
    "train_data['Seats'].isnull().sum() # 72개밖에 없지만 5.0이 압도적으로 높아서 5로 다넣기 -> 데이터 전처리"
   ]
  },
  {
   "cell_type": "code",
   "execution_count": 248,
   "metadata": {},
   "outputs": [],
   "source": [
    "train_data['Seats'] = train_data['Seats'].fillna(5.0)"
   ]
  },
  {
   "cell_type": "code",
   "execution_count": 249,
   "metadata": {},
   "outputs": [
    {
     "name": "stdout",
     "output_type": "stream",
     "text": [
      "<class 'pandas.core.frame.DataFrame'>\n",
      "RangeIndex: 4999 entries, 0 to 4998\n",
      "Data columns (total 14 columns):\n",
      " #   Column             Non-Null Count  Dtype  \n",
      "---  ------             --------------  -----  \n",
      " 0   ID                 4999 non-null   int64  \n",
      " 1   Name               4999 non-null   object \n",
      " 2   Location           4906 non-null   object \n",
      " 3   Year               4999 non-null   int64  \n",
      " 4   Kilometers_Driven  4999 non-null   float64\n",
      " 5   Fuel_Type          4999 non-null   object \n",
      " 6   Transmission       4999 non-null   object \n",
      " 7   Owner_Type         4999 non-null   object \n",
      " 8   Mileage            4999 non-null   float64\n",
      " 9   Engine             4999 non-null   float64\n",
      " 10  Power              4999 non-null   float64\n",
      " 11  Seats              4999 non-null   int64  \n",
      " 12  Price              4999 non-null   float64\n",
      " 13  Brand              4999 non-null   object \n",
      "dtypes: float64(5), int64(3), object(6)\n",
      "memory usage: 546.9+ KB\n"
     ]
    }
   ],
   "source": [
    "train_data.info()"
   ]
  },
  {
   "cell_type": "code",
   "execution_count": 250,
   "metadata": {},
   "outputs": [
    {
     "data": {
      "text/plain": [
       "5    855\n",
       "7    112\n",
       "8     23\n",
       "4     20\n",
       "6      6\n",
       "2      3\n",
       "Name: Seats, dtype: int64"
      ]
     },
     "execution_count": 250,
     "metadata": {},
     "output_type": "execute_result"
    }
   ],
   "source": [
    "test_data['Seats'].value_counts()"
   ]
  },
  {
   "cell_type": "code",
   "execution_count": 251,
   "metadata": {},
   "outputs": [
    {
     "data": {
      "text/plain": [
       "0"
      ]
     },
     "execution_count": 251,
     "metadata": {},
     "output_type": "execute_result"
    }
   ],
   "source": [
    "test_data['Seats'].isnull().sum() # null 값 4개라 이것도 그냥 5.0 넣기 -> 데이터 전처리"
   ]
  },
  {
   "cell_type": "code",
   "execution_count": 252,
   "metadata": {},
   "outputs": [],
   "source": [
    "test_data['Seats'] = test_data['Seats'].fillna(5.0)"
   ]
  },
  {
   "cell_type": "code",
   "execution_count": 253,
   "metadata": {},
   "outputs": [
    {
     "name": "stdout",
     "output_type": "stream",
     "text": [
      "<class 'pandas.core.frame.DataFrame'>\n",
      "RangeIndex: 1019 entries, 0 to 1018\n",
      "Data columns (total 13 columns):\n",
      " #   Column             Non-Null Count  Dtype  \n",
      "---  ------             --------------  -----  \n",
      " 0   ID                 1019 non-null   int64  \n",
      " 1   Name               1019 non-null   object \n",
      " 2   Location           1019 non-null   object \n",
      " 3   Year               1019 non-null   int64  \n",
      " 4   Kilometers_Driven  1019 non-null   int64  \n",
      " 5   Fuel_Type          1019 non-null   object \n",
      " 6   Transmission       1019 non-null   object \n",
      " 7   Owner_Type         1019 non-null   object \n",
      " 8   Mileage            1019 non-null   float64\n",
      " 9   Engine             1019 non-null   float64\n",
      " 10  Power              1019 non-null   float64\n",
      " 11  Seats              1019 non-null   int64  \n",
      " 12  Brand              1019 non-null   object \n",
      "dtypes: float64(3), int64(4), object(6)\n",
      "memory usage: 103.6+ KB\n"
     ]
    }
   ],
   "source": [
    "test_data.info()"
   ]
  },
  {
   "cell_type": "markdown",
   "metadata": {},
   "source": [
    "### 먼저 Mileage 컬럼 kmpl 없애자 -> astype(float)"
   ]
  },
  {
   "cell_type": "code",
   "execution_count": 254,
   "metadata": {},
   "outputs": [],
   "source": [
    "train_data['Mileage'] = train_data['Mileage'].fillna('18.9 kmpl') # 카운트벨류 제일 높은값 그냥 집어넣음 -> 전처리"
   ]
  },
  {
   "cell_type": "code",
   "execution_count": 255,
   "metadata": {
    "scrolled": true
   },
   "outputs": [
    {
     "ename": "AttributeError",
     "evalue": "'numpy.float64' object has no attribute 'split'",
     "output_type": "error",
     "traceback": [
      "\u001b[1;31m---------------------------------------------------------------------------\u001b[0m",
      "\u001b[1;31mAttributeError\u001b[0m                            Traceback (most recent call last)",
      "\u001b[1;32m<ipython-input-255-cc3aa3fc366c>\u001b[0m in \u001b[0;36m<module>\u001b[1;34m\u001b[0m\n\u001b[0;32m      1\u001b[0m \u001b[1;32mfor\u001b[0m \u001b[0mi\u001b[0m \u001b[1;32min\u001b[0m \u001b[0mrange\u001b[0m\u001b[1;33m(\u001b[0m\u001b[0mlen\u001b[0m\u001b[1;33m(\u001b[0m\u001b[0mtrain_data\u001b[0m\u001b[1;33m[\u001b[0m\u001b[1;34m'Name'\u001b[0m\u001b[1;33m]\u001b[0m\u001b[1;33m)\u001b[0m\u001b[1;33m)\u001b[0m\u001b[1;33m:\u001b[0m\u001b[1;33m\u001b[0m\u001b[1;33m\u001b[0m\u001b[0m\n\u001b[1;32m----> 2\u001b[1;33m     \u001b[0mtrain_data\u001b[0m\u001b[1;33m[\u001b[0m\u001b[1;34m'Mileage'\u001b[0m\u001b[1;33m]\u001b[0m\u001b[1;33m[\u001b[0m\u001b[0mi\u001b[0m\u001b[1;33m]\u001b[0m \u001b[1;33m=\u001b[0m \u001b[0mtrain_data\u001b[0m\u001b[1;33m[\u001b[0m\u001b[1;34m'Mileage'\u001b[0m\u001b[1;33m]\u001b[0m\u001b[1;33m[\u001b[0m\u001b[0mi\u001b[0m\u001b[1;33m]\u001b[0m\u001b[1;33m.\u001b[0m\u001b[0msplit\u001b[0m\u001b[1;33m(\u001b[0m\u001b[1;34m' '\u001b[0m\u001b[1;33m,\u001b[0m\u001b[1;36m1\u001b[0m\u001b[1;33m)\u001b[0m\u001b[1;33m[\u001b[0m\u001b[1;36m0\u001b[0m\u001b[1;33m]\u001b[0m\u001b[1;33m\u001b[0m\u001b[1;33m\u001b[0m\u001b[0m\n\u001b[0m",
      "\u001b[1;31mAttributeError\u001b[0m: 'numpy.float64' object has no attribute 'split'"
     ]
    }
   ],
   "source": [
    "for i in range(len(train_data['Name'])):\n",
    "    train_data['Mileage'][i] = train_data['Mileage'][i].split(' ',1)[0]"
   ]
  },
  {
   "cell_type": "code",
   "execution_count": 256,
   "metadata": {},
   "outputs": [
    {
     "data": {
      "text/plain": [
       "17.00    148\n",
       "18.90    148\n",
       "18.60     94\n",
       "17.80     77\n",
       "20.36     71\n",
       "        ... \n",
       "13.45      1\n",
       "15.85      1\n",
       "6.40       1\n",
       "12.35      1\n",
       "8.77       1\n",
       "Name: Mileage, Length: 417, dtype: int64"
      ]
     },
     "execution_count": 256,
     "metadata": {},
     "output_type": "execute_result"
    }
   ],
   "source": [
    "train_data['Mileage'].value_counts()"
   ]
  },
  {
   "cell_type": "code",
   "execution_count": 257,
   "metadata": {},
   "outputs": [
    {
     "ename": "AttributeError",
     "evalue": "'numpy.float64' object has no attribute 'split'",
     "output_type": "error",
     "traceback": [
      "\u001b[1;31m---------------------------------------------------------------------------\u001b[0m",
      "\u001b[1;31mAttributeError\u001b[0m                            Traceback (most recent call last)",
      "\u001b[1;32m<ipython-input-257-2ef6411422be>\u001b[0m in \u001b[0;36m<module>\u001b[1;34m\u001b[0m\n\u001b[0;32m      1\u001b[0m \u001b[1;32mfor\u001b[0m \u001b[0mi\u001b[0m \u001b[1;32min\u001b[0m \u001b[0mrange\u001b[0m\u001b[1;33m(\u001b[0m\u001b[0mlen\u001b[0m\u001b[1;33m(\u001b[0m\u001b[0mtest_data\u001b[0m\u001b[1;33m[\u001b[0m\u001b[1;34m'Name'\u001b[0m\u001b[1;33m]\u001b[0m\u001b[1;33m)\u001b[0m\u001b[1;33m)\u001b[0m\u001b[1;33m:\u001b[0m\u001b[1;33m\u001b[0m\u001b[1;33m\u001b[0m\u001b[0m\n\u001b[1;32m----> 2\u001b[1;33m     \u001b[0mtest_data\u001b[0m\u001b[1;33m[\u001b[0m\u001b[1;34m'Mileage'\u001b[0m\u001b[1;33m]\u001b[0m\u001b[1;33m[\u001b[0m\u001b[0mi\u001b[0m\u001b[1;33m]\u001b[0m \u001b[1;33m=\u001b[0m \u001b[0mtest_data\u001b[0m\u001b[1;33m[\u001b[0m\u001b[1;34m'Mileage'\u001b[0m\u001b[1;33m]\u001b[0m\u001b[1;33m[\u001b[0m\u001b[0mi\u001b[0m\u001b[1;33m]\u001b[0m\u001b[1;33m.\u001b[0m\u001b[0msplit\u001b[0m\u001b[1;33m(\u001b[0m\u001b[1;34m' '\u001b[0m\u001b[1;33m,\u001b[0m\u001b[1;36m1\u001b[0m\u001b[1;33m)\u001b[0m\u001b[1;33m[\u001b[0m\u001b[1;36m0\u001b[0m\u001b[1;33m]\u001b[0m\u001b[1;33m\u001b[0m\u001b[1;33m\u001b[0m\u001b[0m\n\u001b[0m",
      "\u001b[1;31mAttributeError\u001b[0m: 'numpy.float64' object has no attribute 'split'"
     ]
    }
   ],
   "source": [
    "for i in range(len(test_data['Name'])):\n",
    "    test_data['Mileage'][i] = test_data['Mileage'][i].split(' ',1)[0]"
   ]
  },
  {
   "cell_type": "code",
   "execution_count": 258,
   "metadata": {
    "scrolled": true
   },
   "outputs": [],
   "source": [
    "train_data['Mileage'] = train_data['Mileage'].astype(float)\n",
    "test_data['Mileage'] = test_data['Mileage'].astype(float)"
   ]
  },
  {
   "cell_type": "markdown",
   "metadata": {},
   "source": [
    "### Name 등등 ONE HOT ENCODING"
   ]
  },
  {
   "cell_type": "code",
   "execution_count": 259,
   "metadata": {},
   "outputs": [
    {
     "name": "stderr",
     "output_type": "stream",
     "text": [
      "C:\\Users\\SMHRD\\Anaconda3\\lib\\site-packages\\ipykernel_launcher.py:2: SettingWithCopyWarning: \n",
      "A value is trying to be set on a copy of a slice from a DataFrame\n",
      "\n",
      "See the caveats in the documentation: https://pandas.pydata.org/pandas-docs/stable/user_guide/indexing.html#returning-a-view-versus-a-copy\n",
      "  \n"
     ]
    }
   ],
   "source": [
    "for i in range(len(train_data['Name'])):\n",
    "    train_data['Name'][i] = train_data['Name'][i].split(' ',1)[0] # Name 분해"
   ]
  },
  {
   "cell_type": "code",
   "execution_count": 260,
   "metadata": {},
   "outputs": [
    {
     "name": "stderr",
     "output_type": "stream",
     "text": [
      "C:\\Users\\SMHRD\\Anaconda3\\lib\\site-packages\\ipykernel_launcher.py:2: SettingWithCopyWarning: \n",
      "A value is trying to be set on a copy of a slice from a DataFrame\n",
      "\n",
      "See the caveats in the documentation: https://pandas.pydata.org/pandas-docs/stable/user_guide/indexing.html#returning-a-view-versus-a-copy\n",
      "  \n"
     ]
    }
   ],
   "source": [
    "for i in range(len(test_data['Name'])):\n",
    "    test_data['Name'][i] = test_data['Name'][i].split(' ',1)[0]"
   ]
  },
  {
   "cell_type": "code",
   "execution_count": 261,
   "metadata": {},
   "outputs": [
    {
     "data": {
      "text/plain": [
       "array(['Maruti', 'Honda', 'Volkswagen', 'Ford', 'Force', 'Audi',\n",
       "       'Hyundai', 'Renault', 'Tata', 'BMW', 'Mahindra', 'Chevrolet',\n",
       "       'Toyota', 'Skoda', 'Nissan', 'Land', 'Mercedes-Benz', 'Porsche',\n",
       "       'Mitsubishi', 'Volvo', 'Mini', 'Jaguar', 'Jeep', 'Bentley', 'Fiat',\n",
       "       'ISUZU', 'Lamborghini'], dtype=object)"
      ]
     },
     "execution_count": 261,
     "metadata": {},
     "output_type": "execute_result"
    }
   ],
   "source": [
    "test_data['Name'].unique()  # Datsun 이 없음"
   ]
  },
  {
   "cell_type": "code",
   "execution_count": 262,
   "metadata": {},
   "outputs": [
    {
     "name": "stderr",
     "output_type": "stream",
     "text": [
      "C:\\Users\\SMHRD\\Anaconda3\\lib\\site-packages\\ipykernel_launcher.py:3: SettingWithCopyWarning: \n",
      "A value is trying to be set on a copy of a slice from a DataFrame\n",
      "\n",
      "See the caveats in the documentation: https://pandas.pydata.org/pandas-docs/stable/user_guide/indexing.html#returning-a-view-versus-a-copy\n",
      "  This is separate from the ipykernel package so we can avoid doing imports until\n"
     ]
    }
   ],
   "source": [
    "for i in range(len(train_data['Name'])):  # Isuzu 를 ISUZU로 바꿔서 컬럼 통일\n",
    "    if train_data['Name'][i] == 'Isuzu':\n",
    "        train_data['Name'][i] = 'ISUZU'"
   ]
  },
  {
   "cell_type": "code",
   "execution_count": 263,
   "metadata": {
    "scrolled": true
   },
   "outputs": [
    {
     "name": "stdout",
     "output_type": "stream",
     "text": [
      "28\n",
      "27\n"
     ]
    }
   ],
   "source": [
    "print(len(train_data['Name'].unique()))  \n",
    "print(len(test_data['Name'].unique()))  # 컬럼 개수가 다름"
   ]
  },
  {
   "cell_type": "code",
   "execution_count": 264,
   "metadata": {},
   "outputs": [],
   "source": [
    "categorical_feature = ['Name','Location','Fuel_Type','Transmission','Owner_Type', 'Brand']\n",
    "for cat_name in categorical_feature:\n",
    "    one_hot = pd.get_dummies(train_data[cat_name],prefix=cat_name)\n",
    "    train_data = pd.concat([train_data,one_hot],axis=1)\n",
    "    train_data.drop(cat_name, axis=1, inplace=True) "
   ]
  },
  {
   "cell_type": "code",
   "execution_count": 265,
   "metadata": {},
   "outputs": [],
   "source": [
    "categorical_feature = ['Name','Location','Fuel_Type','Transmission','Owner_Type', 'Brand']\n",
    "for cat_name in categorical_feature:\n",
    "    one_hot = pd.get_dummies(test_data[cat_name],prefix=cat_name)\n",
    "    test_data = pd.concat([test_data,one_hot],axis=1)\n",
    "    test_data.drop(cat_name, axis=1, inplace=True) "
   ]
  },
  {
   "cell_type": "code",
   "execution_count": 266,
   "metadata": {},
   "outputs": [
    {
     "data": {
      "text/html": [
       "<div>\n",
       "<style scoped>\n",
       "    .dataframe tbody tr th:only-of-type {\n",
       "        vertical-align: middle;\n",
       "    }\n",
       "\n",
       "    .dataframe tbody tr th {\n",
       "        vertical-align: top;\n",
       "    }\n",
       "\n",
       "    .dataframe thead th {\n",
       "        text-align: right;\n",
       "    }\n",
       "</style>\n",
       "<table border=\"1\" class=\"dataframe\">\n",
       "  <thead>\n",
       "    <tr style=\"text-align: right;\">\n",
       "      <th></th>\n",
       "      <th>ID</th>\n",
       "      <th>Year</th>\n",
       "      <th>Kilometers_Driven</th>\n",
       "      <th>Mileage</th>\n",
       "      <th>Engine</th>\n",
       "      <th>Power</th>\n",
       "      <th>Seats</th>\n",
       "      <th>Price</th>\n",
       "      <th>Name_Audi</th>\n",
       "      <th>Name_BMW</th>\n",
       "      <th>...</th>\n",
       "      <th>Brand_Mini</th>\n",
       "      <th>Brand_Mitsubishi</th>\n",
       "      <th>Brand_Nissan</th>\n",
       "      <th>Brand_Porsche</th>\n",
       "      <th>Brand_Renault</th>\n",
       "      <th>Brand_Skoda</th>\n",
       "      <th>Brand_Tata</th>\n",
       "      <th>Brand_Toyota</th>\n",
       "      <th>Brand_Volkswagen</th>\n",
       "      <th>Brand_Volvo</th>\n",
       "    </tr>\n",
       "  </thead>\n",
       "  <tbody>\n",
       "    <tr>\n",
       "      <th>0</th>\n",
       "      <td>4250</td>\n",
       "      <td>2014</td>\n",
       "      <td>79271.0</td>\n",
       "      <td>20.38</td>\n",
       "      <td>1968.0</td>\n",
       "      <td>143.0</td>\n",
       "      <td>5</td>\n",
       "      <td>16.50</td>\n",
       "      <td>1</td>\n",
       "      <td>0</td>\n",
       "      <td>...</td>\n",
       "      <td>0</td>\n",
       "      <td>0</td>\n",
       "      <td>0</td>\n",
       "      <td>0</td>\n",
       "      <td>0</td>\n",
       "      <td>0</td>\n",
       "      <td>0</td>\n",
       "      <td>0</td>\n",
       "      <td>0</td>\n",
       "      <td>0</td>\n",
       "    </tr>\n",
       "    <tr>\n",
       "      <th>1</th>\n",
       "      <td>4303</td>\n",
       "      <td>2016</td>\n",
       "      <td>20003.0</td>\n",
       "      <td>20.38</td>\n",
       "      <td>1968.0</td>\n",
       "      <td>143.0</td>\n",
       "      <td>5</td>\n",
       "      <td>19.25</td>\n",
       "      <td>1</td>\n",
       "      <td>0</td>\n",
       "      <td>...</td>\n",
       "      <td>0</td>\n",
       "      <td>0</td>\n",
       "      <td>0</td>\n",
       "      <td>0</td>\n",
       "      <td>0</td>\n",
       "      <td>0</td>\n",
       "      <td>0</td>\n",
       "      <td>0</td>\n",
       "      <td>0</td>\n",
       "      <td>0</td>\n",
       "    </tr>\n",
       "    <tr>\n",
       "      <th>2</th>\n",
       "      <td>2713</td>\n",
       "      <td>2016</td>\n",
       "      <td>39000.0</td>\n",
       "      <td>20.38</td>\n",
       "      <td>1968.0</td>\n",
       "      <td>143.0</td>\n",
       "      <td>5</td>\n",
       "      <td>18.90</td>\n",
       "      <td>1</td>\n",
       "      <td>0</td>\n",
       "      <td>...</td>\n",
       "      <td>0</td>\n",
       "      <td>0</td>\n",
       "      <td>0</td>\n",
       "      <td>0</td>\n",
       "      <td>0</td>\n",
       "      <td>0</td>\n",
       "      <td>0</td>\n",
       "      <td>0</td>\n",
       "      <td>0</td>\n",
       "      <td>0</td>\n",
       "    </tr>\n",
       "    <tr>\n",
       "      <th>3</th>\n",
       "      <td>563</td>\n",
       "      <td>2017</td>\n",
       "      <td>59442.0</td>\n",
       "      <td>20.38</td>\n",
       "      <td>1968.0</td>\n",
       "      <td>143.0</td>\n",
       "      <td>5</td>\n",
       "      <td>22.50</td>\n",
       "      <td>1</td>\n",
       "      <td>0</td>\n",
       "      <td>...</td>\n",
       "      <td>0</td>\n",
       "      <td>0</td>\n",
       "      <td>0</td>\n",
       "      <td>0</td>\n",
       "      <td>0</td>\n",
       "      <td>0</td>\n",
       "      <td>0</td>\n",
       "      <td>0</td>\n",
       "      <td>0</td>\n",
       "      <td>0</td>\n",
       "    </tr>\n",
       "    <tr>\n",
       "      <th>4</th>\n",
       "      <td>2960</td>\n",
       "      <td>2011</td>\n",
       "      <td>53000.0</td>\n",
       "      <td>12.30</td>\n",
       "      <td>1798.0</td>\n",
       "      <td>163.2</td>\n",
       "      <td>5</td>\n",
       "      <td>9.50</td>\n",
       "      <td>1</td>\n",
       "      <td>0</td>\n",
       "      <td>...</td>\n",
       "      <td>0</td>\n",
       "      <td>0</td>\n",
       "      <td>0</td>\n",
       "      <td>0</td>\n",
       "      <td>0</td>\n",
       "      <td>0</td>\n",
       "      <td>0</td>\n",
       "      <td>0</td>\n",
       "      <td>0</td>\n",
       "      <td>0</td>\n",
       "    </tr>\n",
       "    <tr>\n",
       "      <th>...</th>\n",
       "      <td>...</td>\n",
       "      <td>...</td>\n",
       "      <td>...</td>\n",
       "      <td>...</td>\n",
       "      <td>...</td>\n",
       "      <td>...</td>\n",
       "      <td>...</td>\n",
       "      <td>...</td>\n",
       "      <td>...</td>\n",
       "      <td>...</td>\n",
       "      <td>...</td>\n",
       "      <td>...</td>\n",
       "      <td>...</td>\n",
       "      <td>...</td>\n",
       "      <td>...</td>\n",
       "      <td>...</td>\n",
       "      <td>...</td>\n",
       "      <td>...</td>\n",
       "      <td>...</td>\n",
       "      <td>...</td>\n",
       "      <td>...</td>\n",
       "    </tr>\n",
       "    <tr>\n",
       "      <th>4994</th>\n",
       "      <td>536</td>\n",
       "      <td>2015</td>\n",
       "      <td>100000.0</td>\n",
       "      <td>13.50</td>\n",
       "      <td>2400.0</td>\n",
       "      <td>215.0</td>\n",
       "      <td>5</td>\n",
       "      <td>32.50</td>\n",
       "      <td>0</td>\n",
       "      <td>0</td>\n",
       "      <td>...</td>\n",
       "      <td>0</td>\n",
       "      <td>0</td>\n",
       "      <td>0</td>\n",
       "      <td>0</td>\n",
       "      <td>0</td>\n",
       "      <td>0</td>\n",
       "      <td>0</td>\n",
       "      <td>0</td>\n",
       "      <td>0</td>\n",
       "      <td>1</td>\n",
       "    </tr>\n",
       "    <tr>\n",
       "      <th>4995</th>\n",
       "      <td>828</td>\n",
       "      <td>2011</td>\n",
       "      <td>173000.0</td>\n",
       "      <td>13.50</td>\n",
       "      <td>2400.0</td>\n",
       "      <td>215.0</td>\n",
       "      <td>5</td>\n",
       "      <td>12.00</td>\n",
       "      <td>0</td>\n",
       "      <td>0</td>\n",
       "      <td>...</td>\n",
       "      <td>0</td>\n",
       "      <td>0</td>\n",
       "      <td>0</td>\n",
       "      <td>0</td>\n",
       "      <td>0</td>\n",
       "      <td>0</td>\n",
       "      <td>0</td>\n",
       "      <td>0</td>\n",
       "      <td>0</td>\n",
       "      <td>1</td>\n",
       "    </tr>\n",
       "    <tr>\n",
       "      <th>4996</th>\n",
       "      <td>2942</td>\n",
       "      <td>2014</td>\n",
       "      <td>59442.0</td>\n",
       "      <td>11.20</td>\n",
       "      <td>2400.0</td>\n",
       "      <td>215.0</td>\n",
       "      <td>5</td>\n",
       "      <td>17.18</td>\n",
       "      <td>0</td>\n",
       "      <td>0</td>\n",
       "      <td>...</td>\n",
       "      <td>0</td>\n",
       "      <td>0</td>\n",
       "      <td>0</td>\n",
       "      <td>0</td>\n",
       "      <td>0</td>\n",
       "      <td>0</td>\n",
       "      <td>0</td>\n",
       "      <td>0</td>\n",
       "      <td>0</td>\n",
       "      <td>1</td>\n",
       "    </tr>\n",
       "    <tr>\n",
       "      <th>4997</th>\n",
       "      <td>4437</td>\n",
       "      <td>2014</td>\n",
       "      <td>102001.0</td>\n",
       "      <td>11.10</td>\n",
       "      <td>2400.0</td>\n",
       "      <td>200.0</td>\n",
       "      <td>7</td>\n",
       "      <td>23.58</td>\n",
       "      <td>0</td>\n",
       "      <td>0</td>\n",
       "      <td>...</td>\n",
       "      <td>0</td>\n",
       "      <td>0</td>\n",
       "      <td>0</td>\n",
       "      <td>0</td>\n",
       "      <td>0</td>\n",
       "      <td>0</td>\n",
       "      <td>0</td>\n",
       "      <td>0</td>\n",
       "      <td>0</td>\n",
       "      <td>1</td>\n",
       "    </tr>\n",
       "    <tr>\n",
       "      <th>4998</th>\n",
       "      <td>1520</td>\n",
       "      <td>2014</td>\n",
       "      <td>89230.0</td>\n",
       "      <td>11.10</td>\n",
       "      <td>2400.0</td>\n",
       "      <td>200.0</td>\n",
       "      <td>7</td>\n",
       "      <td>23.65</td>\n",
       "      <td>0</td>\n",
       "      <td>0</td>\n",
       "      <td>...</td>\n",
       "      <td>0</td>\n",
       "      <td>0</td>\n",
       "      <td>0</td>\n",
       "      <td>0</td>\n",
       "      <td>0</td>\n",
       "      <td>0</td>\n",
       "      <td>0</td>\n",
       "      <td>0</td>\n",
       "      <td>0</td>\n",
       "      <td>1</td>\n",
       "    </tr>\n",
       "  </tbody>\n",
       "</table>\n",
       "<p>4999 rows × 87 columns</p>\n",
       "</div>"
      ],
      "text/plain": [
       "        ID  Year  Kilometers_Driven  Mileage  Engine  Power  Seats  Price  \\\n",
       "0     4250  2014            79271.0    20.38  1968.0  143.0      5  16.50   \n",
       "1     4303  2016            20003.0    20.38  1968.0  143.0      5  19.25   \n",
       "2     2713  2016            39000.0    20.38  1968.0  143.0      5  18.90   \n",
       "3      563  2017            59442.0    20.38  1968.0  143.0      5  22.50   \n",
       "4     2960  2011            53000.0    12.30  1798.0  163.2      5   9.50   \n",
       "...    ...   ...                ...      ...     ...    ...    ...    ...   \n",
       "4994   536  2015           100000.0    13.50  2400.0  215.0      5  32.50   \n",
       "4995   828  2011           173000.0    13.50  2400.0  215.0      5  12.00   \n",
       "4996  2942  2014            59442.0    11.20  2400.0  215.0      5  17.18   \n",
       "4997  4437  2014           102001.0    11.10  2400.0  200.0      7  23.58   \n",
       "4998  1520  2014            89230.0    11.10  2400.0  200.0      7  23.65   \n",
       "\n",
       "      Name_Audi  Name_BMW  ...  Brand_Mini  Brand_Mitsubishi  Brand_Nissan  \\\n",
       "0             1         0  ...           0                 0             0   \n",
       "1             1         0  ...           0                 0             0   \n",
       "2             1         0  ...           0                 0             0   \n",
       "3             1         0  ...           0                 0             0   \n",
       "4             1         0  ...           0                 0             0   \n",
       "...         ...       ...  ...         ...               ...           ...   \n",
       "4994          0         0  ...           0                 0             0   \n",
       "4995          0         0  ...           0                 0             0   \n",
       "4996          0         0  ...           0                 0             0   \n",
       "4997          0         0  ...           0                 0             0   \n",
       "4998          0         0  ...           0                 0             0   \n",
       "\n",
       "      Brand_Porsche  Brand_Renault  Brand_Skoda  Brand_Tata  Brand_Toyota  \\\n",
       "0                 0              0            0           0             0   \n",
       "1                 0              0            0           0             0   \n",
       "2                 0              0            0           0             0   \n",
       "3                 0              0            0           0             0   \n",
       "4                 0              0            0           0             0   \n",
       "...             ...            ...          ...         ...           ...   \n",
       "4994              0              0            0           0             0   \n",
       "4995              0              0            0           0             0   \n",
       "4996              0              0            0           0             0   \n",
       "4997              0              0            0           0             0   \n",
       "4998              0              0            0           0             0   \n",
       "\n",
       "      Brand_Volkswagen  Brand_Volvo  \n",
       "0                    0            0  \n",
       "1                    0            0  \n",
       "2                    0            0  \n",
       "3                    0            0  \n",
       "4                    0            0  \n",
       "...                ...          ...  \n",
       "4994                 0            1  \n",
       "4995                 0            1  \n",
       "4996                 0            1  \n",
       "4997                 0            1  \n",
       "4998                 0            1  \n",
       "\n",
       "[4999 rows x 87 columns]"
      ]
     },
     "execution_count": 266,
     "metadata": {},
     "output_type": "execute_result"
    }
   ],
   "source": [
    "train_data"
   ]
  },
  {
   "cell_type": "code",
   "execution_count": 267,
   "metadata": {},
   "outputs": [
    {
     "ename": "KeyError",
     "evalue": "'Name'",
     "output_type": "error",
     "traceback": [
      "\u001b[1;31m---------------------------------------------------------------------------\u001b[0m",
      "\u001b[1;31mKeyError\u001b[0m                                  Traceback (most recent call last)",
      "\u001b[1;32m~\\Anaconda3\\lib\\site-packages\\pandas\\core\\indexes\\base.py\u001b[0m in \u001b[0;36mget_loc\u001b[1;34m(self, key, method, tolerance)\u001b[0m\n\u001b[0;32m   2645\u001b[0m             \u001b[1;32mtry\u001b[0m\u001b[1;33m:\u001b[0m\u001b[1;33m\u001b[0m\u001b[1;33m\u001b[0m\u001b[0m\n\u001b[1;32m-> 2646\u001b[1;33m                 \u001b[1;32mreturn\u001b[0m \u001b[0mself\u001b[0m\u001b[1;33m.\u001b[0m\u001b[0m_engine\u001b[0m\u001b[1;33m.\u001b[0m\u001b[0mget_loc\u001b[0m\u001b[1;33m(\u001b[0m\u001b[0mkey\u001b[0m\u001b[1;33m)\u001b[0m\u001b[1;33m\u001b[0m\u001b[1;33m\u001b[0m\u001b[0m\n\u001b[0m\u001b[0;32m   2647\u001b[0m             \u001b[1;32mexcept\u001b[0m \u001b[0mKeyError\u001b[0m\u001b[1;33m:\u001b[0m\u001b[1;33m\u001b[0m\u001b[1;33m\u001b[0m\u001b[0m\n",
      "\u001b[1;32mpandas\\_libs\\index.pyx\u001b[0m in \u001b[0;36mpandas._libs.index.IndexEngine.get_loc\u001b[1;34m()\u001b[0m\n",
      "\u001b[1;32mpandas\\_libs\\index.pyx\u001b[0m in \u001b[0;36mpandas._libs.index.IndexEngine.get_loc\u001b[1;34m()\u001b[0m\n",
      "\u001b[1;32mpandas\\_libs\\hashtable_class_helper.pxi\u001b[0m in \u001b[0;36mpandas._libs.hashtable.PyObjectHashTable.get_item\u001b[1;34m()\u001b[0m\n",
      "\u001b[1;32mpandas\\_libs\\hashtable_class_helper.pxi\u001b[0m in \u001b[0;36mpandas._libs.hashtable.PyObjectHashTable.get_item\u001b[1;34m()\u001b[0m\n",
      "\u001b[1;31mKeyError\u001b[0m: 'Name'",
      "\nDuring handling of the above exception, another exception occurred:\n",
      "\u001b[1;31mKeyError\u001b[0m                                  Traceback (most recent call last)",
      "\u001b[1;32m<ipython-input-267-c33dba063ebd>\u001b[0m in \u001b[0;36m<module>\u001b[1;34m\u001b[0m\n\u001b[1;32m----> 1\u001b[1;33m \u001b[0mtrain_data\u001b[0m\u001b[1;33m[\u001b[0m\u001b[1;34m'Name'\u001b[0m\u001b[1;33m]\u001b[0m\u001b[1;33m.\u001b[0m\u001b[0mvalue_counts\u001b[0m\u001b[1;33m(\u001b[0m\u001b[1;33m)\u001b[0m  \u001b[1;31m# Datsun 12개라 그냥 날리기로 정함 -> 데이터 전처리\u001b[0m\u001b[1;33m\u001b[0m\u001b[1;33m\u001b[0m\u001b[0m\n\u001b[0m",
      "\u001b[1;32m~\\Anaconda3\\lib\\site-packages\\pandas\\core\\frame.py\u001b[0m in \u001b[0;36m__getitem__\u001b[1;34m(self, key)\u001b[0m\n\u001b[0;32m   2798\u001b[0m             \u001b[1;32mif\u001b[0m \u001b[0mself\u001b[0m\u001b[1;33m.\u001b[0m\u001b[0mcolumns\u001b[0m\u001b[1;33m.\u001b[0m\u001b[0mnlevels\u001b[0m \u001b[1;33m>\u001b[0m \u001b[1;36m1\u001b[0m\u001b[1;33m:\u001b[0m\u001b[1;33m\u001b[0m\u001b[1;33m\u001b[0m\u001b[0m\n\u001b[0;32m   2799\u001b[0m                 \u001b[1;32mreturn\u001b[0m \u001b[0mself\u001b[0m\u001b[1;33m.\u001b[0m\u001b[0m_getitem_multilevel\u001b[0m\u001b[1;33m(\u001b[0m\u001b[0mkey\u001b[0m\u001b[1;33m)\u001b[0m\u001b[1;33m\u001b[0m\u001b[1;33m\u001b[0m\u001b[0m\n\u001b[1;32m-> 2800\u001b[1;33m             \u001b[0mindexer\u001b[0m \u001b[1;33m=\u001b[0m \u001b[0mself\u001b[0m\u001b[1;33m.\u001b[0m\u001b[0mcolumns\u001b[0m\u001b[1;33m.\u001b[0m\u001b[0mget_loc\u001b[0m\u001b[1;33m(\u001b[0m\u001b[0mkey\u001b[0m\u001b[1;33m)\u001b[0m\u001b[1;33m\u001b[0m\u001b[1;33m\u001b[0m\u001b[0m\n\u001b[0m\u001b[0;32m   2801\u001b[0m             \u001b[1;32mif\u001b[0m \u001b[0mis_integer\u001b[0m\u001b[1;33m(\u001b[0m\u001b[0mindexer\u001b[0m\u001b[1;33m)\u001b[0m\u001b[1;33m:\u001b[0m\u001b[1;33m\u001b[0m\u001b[1;33m\u001b[0m\u001b[0m\n\u001b[0;32m   2802\u001b[0m                 \u001b[0mindexer\u001b[0m \u001b[1;33m=\u001b[0m \u001b[1;33m[\u001b[0m\u001b[0mindexer\u001b[0m\u001b[1;33m]\u001b[0m\u001b[1;33m\u001b[0m\u001b[1;33m\u001b[0m\u001b[0m\n",
      "\u001b[1;32m~\\Anaconda3\\lib\\site-packages\\pandas\\core\\indexes\\base.py\u001b[0m in \u001b[0;36mget_loc\u001b[1;34m(self, key, method, tolerance)\u001b[0m\n\u001b[0;32m   2646\u001b[0m                 \u001b[1;32mreturn\u001b[0m \u001b[0mself\u001b[0m\u001b[1;33m.\u001b[0m\u001b[0m_engine\u001b[0m\u001b[1;33m.\u001b[0m\u001b[0mget_loc\u001b[0m\u001b[1;33m(\u001b[0m\u001b[0mkey\u001b[0m\u001b[1;33m)\u001b[0m\u001b[1;33m\u001b[0m\u001b[1;33m\u001b[0m\u001b[0m\n\u001b[0;32m   2647\u001b[0m             \u001b[1;32mexcept\u001b[0m \u001b[0mKeyError\u001b[0m\u001b[1;33m:\u001b[0m\u001b[1;33m\u001b[0m\u001b[1;33m\u001b[0m\u001b[0m\n\u001b[1;32m-> 2648\u001b[1;33m                 \u001b[1;32mreturn\u001b[0m \u001b[0mself\u001b[0m\u001b[1;33m.\u001b[0m\u001b[0m_engine\u001b[0m\u001b[1;33m.\u001b[0m\u001b[0mget_loc\u001b[0m\u001b[1;33m(\u001b[0m\u001b[0mself\u001b[0m\u001b[1;33m.\u001b[0m\u001b[0m_maybe_cast_indexer\u001b[0m\u001b[1;33m(\u001b[0m\u001b[0mkey\u001b[0m\u001b[1;33m)\u001b[0m\u001b[1;33m)\u001b[0m\u001b[1;33m\u001b[0m\u001b[1;33m\u001b[0m\u001b[0m\n\u001b[0m\u001b[0;32m   2649\u001b[0m         \u001b[0mindexer\u001b[0m \u001b[1;33m=\u001b[0m \u001b[0mself\u001b[0m\u001b[1;33m.\u001b[0m\u001b[0mget_indexer\u001b[0m\u001b[1;33m(\u001b[0m\u001b[1;33m[\u001b[0m\u001b[0mkey\u001b[0m\u001b[1;33m]\u001b[0m\u001b[1;33m,\u001b[0m \u001b[0mmethod\u001b[0m\u001b[1;33m=\u001b[0m\u001b[0mmethod\u001b[0m\u001b[1;33m,\u001b[0m \u001b[0mtolerance\u001b[0m\u001b[1;33m=\u001b[0m\u001b[0mtolerance\u001b[0m\u001b[1;33m)\u001b[0m\u001b[1;33m\u001b[0m\u001b[1;33m\u001b[0m\u001b[0m\n\u001b[0;32m   2650\u001b[0m         \u001b[1;32mif\u001b[0m \u001b[0mindexer\u001b[0m\u001b[1;33m.\u001b[0m\u001b[0mndim\u001b[0m \u001b[1;33m>\u001b[0m \u001b[1;36m1\u001b[0m \u001b[1;32mor\u001b[0m \u001b[0mindexer\u001b[0m\u001b[1;33m.\u001b[0m\u001b[0msize\u001b[0m \u001b[1;33m>\u001b[0m \u001b[1;36m1\u001b[0m\u001b[1;33m:\u001b[0m\u001b[1;33m\u001b[0m\u001b[1;33m\u001b[0m\u001b[0m\n",
      "\u001b[1;32mpandas\\_libs\\index.pyx\u001b[0m in \u001b[0;36mpandas._libs.index.IndexEngine.get_loc\u001b[1;34m()\u001b[0m\n",
      "\u001b[1;32mpandas\\_libs\\index.pyx\u001b[0m in \u001b[0;36mpandas._libs.index.IndexEngine.get_loc\u001b[1;34m()\u001b[0m\n",
      "\u001b[1;32mpandas\\_libs\\hashtable_class_helper.pxi\u001b[0m in \u001b[0;36mpandas._libs.hashtable.PyObjectHashTable.get_item\u001b[1;34m()\u001b[0m\n",
      "\u001b[1;32mpandas\\_libs\\hashtable_class_helper.pxi\u001b[0m in \u001b[0;36mpandas._libs.hashtable.PyObjectHashTable.get_item\u001b[1;34m()\u001b[0m\n",
      "\u001b[1;31mKeyError\u001b[0m: 'Name'"
     ]
    }
   ],
   "source": [
    "train_data['Name'].value_counts()  # Datsun 12개라 그냥 날리기로 정함 -> 데이터 전처리"
   ]
  },
  {
   "cell_type": "code",
   "execution_count": 268,
   "metadata": {},
   "outputs": [
    {
     "ename": "KeyError",
     "evalue": "'Fuel_Type'",
     "output_type": "error",
     "traceback": [
      "\u001b[1;31m---------------------------------------------------------------------------\u001b[0m",
      "\u001b[1;31mKeyError\u001b[0m                                  Traceback (most recent call last)",
      "\u001b[1;32m~\\Anaconda3\\lib\\site-packages\\pandas\\core\\indexes\\base.py\u001b[0m in \u001b[0;36mget_loc\u001b[1;34m(self, key, method, tolerance)\u001b[0m\n\u001b[0;32m   2645\u001b[0m             \u001b[1;32mtry\u001b[0m\u001b[1;33m:\u001b[0m\u001b[1;33m\u001b[0m\u001b[1;33m\u001b[0m\u001b[0m\n\u001b[1;32m-> 2646\u001b[1;33m                 \u001b[1;32mreturn\u001b[0m \u001b[0mself\u001b[0m\u001b[1;33m.\u001b[0m\u001b[0m_engine\u001b[0m\u001b[1;33m.\u001b[0m\u001b[0mget_loc\u001b[0m\u001b[1;33m(\u001b[0m\u001b[0mkey\u001b[0m\u001b[1;33m)\u001b[0m\u001b[1;33m\u001b[0m\u001b[1;33m\u001b[0m\u001b[0m\n\u001b[0m\u001b[0;32m   2647\u001b[0m             \u001b[1;32mexcept\u001b[0m \u001b[0mKeyError\u001b[0m\u001b[1;33m:\u001b[0m\u001b[1;33m\u001b[0m\u001b[1;33m\u001b[0m\u001b[0m\n",
      "\u001b[1;32mpandas\\_libs\\index.pyx\u001b[0m in \u001b[0;36mpandas._libs.index.IndexEngine.get_loc\u001b[1;34m()\u001b[0m\n",
      "\u001b[1;32mpandas\\_libs\\index.pyx\u001b[0m in \u001b[0;36mpandas._libs.index.IndexEngine.get_loc\u001b[1;34m()\u001b[0m\n",
      "\u001b[1;32mpandas\\_libs\\hashtable_class_helper.pxi\u001b[0m in \u001b[0;36mpandas._libs.hashtable.PyObjectHashTable.get_item\u001b[1;34m()\u001b[0m\n",
      "\u001b[1;32mpandas\\_libs\\hashtable_class_helper.pxi\u001b[0m in \u001b[0;36mpandas._libs.hashtable.PyObjectHashTable.get_item\u001b[1;34m()\u001b[0m\n",
      "\u001b[1;31mKeyError\u001b[0m: 'Fuel_Type'",
      "\nDuring handling of the above exception, another exception occurred:\n",
      "\u001b[1;31mKeyError\u001b[0m                                  Traceback (most recent call last)",
      "\u001b[1;32m<ipython-input-268-b861355acbf5>\u001b[0m in \u001b[0;36m<module>\u001b[1;34m\u001b[0m\n\u001b[1;32m----> 1\u001b[1;33m \u001b[0mtrain_data\u001b[0m\u001b[1;33m[\u001b[0m\u001b[1;34m'Fuel_Type'\u001b[0m\u001b[1;33m]\u001b[0m\u001b[1;33m.\u001b[0m\u001b[0mvalue_counts\u001b[0m\u001b[1;33m(\u001b[0m\u001b[1;33m)\u001b[0m \u001b[1;31m# Electric 2개라 그냥 날리기로 함 -> 데이터 전처리\u001b[0m\u001b[1;33m\u001b[0m\u001b[1;33m\u001b[0m\u001b[0m\n\u001b[0m",
      "\u001b[1;32m~\\Anaconda3\\lib\\site-packages\\pandas\\core\\frame.py\u001b[0m in \u001b[0;36m__getitem__\u001b[1;34m(self, key)\u001b[0m\n\u001b[0;32m   2798\u001b[0m             \u001b[1;32mif\u001b[0m \u001b[0mself\u001b[0m\u001b[1;33m.\u001b[0m\u001b[0mcolumns\u001b[0m\u001b[1;33m.\u001b[0m\u001b[0mnlevels\u001b[0m \u001b[1;33m>\u001b[0m \u001b[1;36m1\u001b[0m\u001b[1;33m:\u001b[0m\u001b[1;33m\u001b[0m\u001b[1;33m\u001b[0m\u001b[0m\n\u001b[0;32m   2799\u001b[0m                 \u001b[1;32mreturn\u001b[0m \u001b[0mself\u001b[0m\u001b[1;33m.\u001b[0m\u001b[0m_getitem_multilevel\u001b[0m\u001b[1;33m(\u001b[0m\u001b[0mkey\u001b[0m\u001b[1;33m)\u001b[0m\u001b[1;33m\u001b[0m\u001b[1;33m\u001b[0m\u001b[0m\n\u001b[1;32m-> 2800\u001b[1;33m             \u001b[0mindexer\u001b[0m \u001b[1;33m=\u001b[0m \u001b[0mself\u001b[0m\u001b[1;33m.\u001b[0m\u001b[0mcolumns\u001b[0m\u001b[1;33m.\u001b[0m\u001b[0mget_loc\u001b[0m\u001b[1;33m(\u001b[0m\u001b[0mkey\u001b[0m\u001b[1;33m)\u001b[0m\u001b[1;33m\u001b[0m\u001b[1;33m\u001b[0m\u001b[0m\n\u001b[0m\u001b[0;32m   2801\u001b[0m             \u001b[1;32mif\u001b[0m \u001b[0mis_integer\u001b[0m\u001b[1;33m(\u001b[0m\u001b[0mindexer\u001b[0m\u001b[1;33m)\u001b[0m\u001b[1;33m:\u001b[0m\u001b[1;33m\u001b[0m\u001b[1;33m\u001b[0m\u001b[0m\n\u001b[0;32m   2802\u001b[0m                 \u001b[0mindexer\u001b[0m \u001b[1;33m=\u001b[0m \u001b[1;33m[\u001b[0m\u001b[0mindexer\u001b[0m\u001b[1;33m]\u001b[0m\u001b[1;33m\u001b[0m\u001b[1;33m\u001b[0m\u001b[0m\n",
      "\u001b[1;32m~\\Anaconda3\\lib\\site-packages\\pandas\\core\\indexes\\base.py\u001b[0m in \u001b[0;36mget_loc\u001b[1;34m(self, key, method, tolerance)\u001b[0m\n\u001b[0;32m   2646\u001b[0m                 \u001b[1;32mreturn\u001b[0m \u001b[0mself\u001b[0m\u001b[1;33m.\u001b[0m\u001b[0m_engine\u001b[0m\u001b[1;33m.\u001b[0m\u001b[0mget_loc\u001b[0m\u001b[1;33m(\u001b[0m\u001b[0mkey\u001b[0m\u001b[1;33m)\u001b[0m\u001b[1;33m\u001b[0m\u001b[1;33m\u001b[0m\u001b[0m\n\u001b[0;32m   2647\u001b[0m             \u001b[1;32mexcept\u001b[0m \u001b[0mKeyError\u001b[0m\u001b[1;33m:\u001b[0m\u001b[1;33m\u001b[0m\u001b[1;33m\u001b[0m\u001b[0m\n\u001b[1;32m-> 2648\u001b[1;33m                 \u001b[1;32mreturn\u001b[0m \u001b[0mself\u001b[0m\u001b[1;33m.\u001b[0m\u001b[0m_engine\u001b[0m\u001b[1;33m.\u001b[0m\u001b[0mget_loc\u001b[0m\u001b[1;33m(\u001b[0m\u001b[0mself\u001b[0m\u001b[1;33m.\u001b[0m\u001b[0m_maybe_cast_indexer\u001b[0m\u001b[1;33m(\u001b[0m\u001b[0mkey\u001b[0m\u001b[1;33m)\u001b[0m\u001b[1;33m)\u001b[0m\u001b[1;33m\u001b[0m\u001b[1;33m\u001b[0m\u001b[0m\n\u001b[0m\u001b[0;32m   2649\u001b[0m         \u001b[0mindexer\u001b[0m \u001b[1;33m=\u001b[0m \u001b[0mself\u001b[0m\u001b[1;33m.\u001b[0m\u001b[0mget_indexer\u001b[0m\u001b[1;33m(\u001b[0m\u001b[1;33m[\u001b[0m\u001b[0mkey\u001b[0m\u001b[1;33m]\u001b[0m\u001b[1;33m,\u001b[0m \u001b[0mmethod\u001b[0m\u001b[1;33m=\u001b[0m\u001b[0mmethod\u001b[0m\u001b[1;33m,\u001b[0m \u001b[0mtolerance\u001b[0m\u001b[1;33m=\u001b[0m\u001b[0mtolerance\u001b[0m\u001b[1;33m)\u001b[0m\u001b[1;33m\u001b[0m\u001b[1;33m\u001b[0m\u001b[0m\n\u001b[0;32m   2650\u001b[0m         \u001b[1;32mif\u001b[0m \u001b[0mindexer\u001b[0m\u001b[1;33m.\u001b[0m\u001b[0mndim\u001b[0m \u001b[1;33m>\u001b[0m \u001b[1;36m1\u001b[0m \u001b[1;32mor\u001b[0m \u001b[0mindexer\u001b[0m\u001b[1;33m.\u001b[0m\u001b[0msize\u001b[0m \u001b[1;33m>\u001b[0m \u001b[1;36m1\u001b[0m\u001b[1;33m:\u001b[0m\u001b[1;33m\u001b[0m\u001b[1;33m\u001b[0m\u001b[0m\n",
      "\u001b[1;32mpandas\\_libs\\index.pyx\u001b[0m in \u001b[0;36mpandas._libs.index.IndexEngine.get_loc\u001b[1;34m()\u001b[0m\n",
      "\u001b[1;32mpandas\\_libs\\index.pyx\u001b[0m in \u001b[0;36mpandas._libs.index.IndexEngine.get_loc\u001b[1;34m()\u001b[0m\n",
      "\u001b[1;32mpandas\\_libs\\hashtable_class_helper.pxi\u001b[0m in \u001b[0;36mpandas._libs.hashtable.PyObjectHashTable.get_item\u001b[1;34m()\u001b[0m\n",
      "\u001b[1;32mpandas\\_libs\\hashtable_class_helper.pxi\u001b[0m in \u001b[0;36mpandas._libs.hashtable.PyObjectHashTable.get_item\u001b[1;34m()\u001b[0m\n",
      "\u001b[1;31mKeyError\u001b[0m: 'Fuel_Type'"
     ]
    }
   ],
   "source": [
    "train_data['Fuel_Type'].value_counts() # Electric 2개라 그냥 날리기로 함 -> 데이터 전처리"
   ]
  },
  {
   "cell_type": "code",
   "execution_count": 269,
   "metadata": {},
   "outputs": [
    {
     "ename": "KeyError",
     "evalue": "'Name'",
     "output_type": "error",
     "traceback": [
      "\u001b[1;31m---------------------------------------------------------------------------\u001b[0m",
      "\u001b[1;31mKeyError\u001b[0m                                  Traceback (most recent call last)",
      "\u001b[1;32m~\\Anaconda3\\lib\\site-packages\\pandas\\core\\indexes\\base.py\u001b[0m in \u001b[0;36mget_loc\u001b[1;34m(self, key, method, tolerance)\u001b[0m\n\u001b[0;32m   2645\u001b[0m             \u001b[1;32mtry\u001b[0m\u001b[1;33m:\u001b[0m\u001b[1;33m\u001b[0m\u001b[1;33m\u001b[0m\u001b[0m\n\u001b[1;32m-> 2646\u001b[1;33m                 \u001b[1;32mreturn\u001b[0m \u001b[0mself\u001b[0m\u001b[1;33m.\u001b[0m\u001b[0m_engine\u001b[0m\u001b[1;33m.\u001b[0m\u001b[0mget_loc\u001b[0m\u001b[1;33m(\u001b[0m\u001b[0mkey\u001b[0m\u001b[1;33m)\u001b[0m\u001b[1;33m\u001b[0m\u001b[1;33m\u001b[0m\u001b[0m\n\u001b[0m\u001b[0;32m   2647\u001b[0m             \u001b[1;32mexcept\u001b[0m \u001b[0mKeyError\u001b[0m\u001b[1;33m:\u001b[0m\u001b[1;33m\u001b[0m\u001b[1;33m\u001b[0m\u001b[0m\n",
      "\u001b[1;32mpandas\\_libs\\index.pyx\u001b[0m in \u001b[0;36mpandas._libs.index.IndexEngine.get_loc\u001b[1;34m()\u001b[0m\n",
      "\u001b[1;32mpandas\\_libs\\index.pyx\u001b[0m in \u001b[0;36mpandas._libs.index.IndexEngine.get_loc\u001b[1;34m()\u001b[0m\n",
      "\u001b[1;32mpandas\\_libs\\hashtable_class_helper.pxi\u001b[0m in \u001b[0;36mpandas._libs.hashtable.PyObjectHashTable.get_item\u001b[1;34m()\u001b[0m\n",
      "\u001b[1;32mpandas\\_libs\\hashtable_class_helper.pxi\u001b[0m in \u001b[0;36mpandas._libs.hashtable.PyObjectHashTable.get_item\u001b[1;34m()\u001b[0m\n",
      "\u001b[1;31mKeyError\u001b[0m: 'Name'",
      "\nDuring handling of the above exception, another exception occurred:\n",
      "\u001b[1;31mKeyError\u001b[0m                                  Traceback (most recent call last)",
      "\u001b[1;32m<ipython-input-269-c21dc1129976>\u001b[0m in \u001b[0;36m<module>\u001b[1;34m\u001b[0m\n\u001b[1;32m----> 1\u001b[1;33m \u001b[1;32mfor\u001b[0m \u001b[0mi\u001b[0m \u001b[1;32min\u001b[0m \u001b[0mrange\u001b[0m\u001b[1;33m(\u001b[0m\u001b[0mlen\u001b[0m\u001b[1;33m(\u001b[0m\u001b[0mtrain_data\u001b[0m\u001b[1;33m[\u001b[0m\u001b[1;34m'Name'\u001b[0m\u001b[1;33m]\u001b[0m\u001b[1;33m)\u001b[0m\u001b[1;33m)\u001b[0m\u001b[1;33m:\u001b[0m\u001b[1;33m\u001b[0m\u001b[1;33m\u001b[0m\u001b[0m\n\u001b[0m\u001b[0;32m      2\u001b[0m     \u001b[1;32mif\u001b[0m \u001b[0mtrain_data\u001b[0m\u001b[1;33m[\u001b[0m\u001b[1;34m'Name'\u001b[0m\u001b[1;33m]\u001b[0m\u001b[1;33m[\u001b[0m\u001b[0mi\u001b[0m\u001b[1;33m]\u001b[0m \u001b[1;33m==\u001b[0m \u001b[1;34m'Datsun'\u001b[0m\u001b[1;33m:\u001b[0m\u001b[1;33m\u001b[0m\u001b[1;33m\u001b[0m\u001b[0m\n\u001b[0;32m      3\u001b[0m         \u001b[0mtrain_data\u001b[0m\u001b[1;33m[\u001b[0m\u001b[1;34m'Name'\u001b[0m\u001b[1;33m]\u001b[0m\u001b[1;33m[\u001b[0m\u001b[0mi\u001b[0m\u001b[1;33m]\u001b[0m \u001b[1;33m=\u001b[0m \u001b[1;32mNone\u001b[0m\u001b[1;33m\u001b[0m\u001b[1;33m\u001b[0m\u001b[0m\n",
      "\u001b[1;32m~\\Anaconda3\\lib\\site-packages\\pandas\\core\\frame.py\u001b[0m in \u001b[0;36m__getitem__\u001b[1;34m(self, key)\u001b[0m\n\u001b[0;32m   2798\u001b[0m             \u001b[1;32mif\u001b[0m \u001b[0mself\u001b[0m\u001b[1;33m.\u001b[0m\u001b[0mcolumns\u001b[0m\u001b[1;33m.\u001b[0m\u001b[0mnlevels\u001b[0m \u001b[1;33m>\u001b[0m \u001b[1;36m1\u001b[0m\u001b[1;33m:\u001b[0m\u001b[1;33m\u001b[0m\u001b[1;33m\u001b[0m\u001b[0m\n\u001b[0;32m   2799\u001b[0m                 \u001b[1;32mreturn\u001b[0m \u001b[0mself\u001b[0m\u001b[1;33m.\u001b[0m\u001b[0m_getitem_multilevel\u001b[0m\u001b[1;33m(\u001b[0m\u001b[0mkey\u001b[0m\u001b[1;33m)\u001b[0m\u001b[1;33m\u001b[0m\u001b[1;33m\u001b[0m\u001b[0m\n\u001b[1;32m-> 2800\u001b[1;33m             \u001b[0mindexer\u001b[0m \u001b[1;33m=\u001b[0m \u001b[0mself\u001b[0m\u001b[1;33m.\u001b[0m\u001b[0mcolumns\u001b[0m\u001b[1;33m.\u001b[0m\u001b[0mget_loc\u001b[0m\u001b[1;33m(\u001b[0m\u001b[0mkey\u001b[0m\u001b[1;33m)\u001b[0m\u001b[1;33m\u001b[0m\u001b[1;33m\u001b[0m\u001b[0m\n\u001b[0m\u001b[0;32m   2801\u001b[0m             \u001b[1;32mif\u001b[0m \u001b[0mis_integer\u001b[0m\u001b[1;33m(\u001b[0m\u001b[0mindexer\u001b[0m\u001b[1;33m)\u001b[0m\u001b[1;33m:\u001b[0m\u001b[1;33m\u001b[0m\u001b[1;33m\u001b[0m\u001b[0m\n\u001b[0;32m   2802\u001b[0m                 \u001b[0mindexer\u001b[0m \u001b[1;33m=\u001b[0m \u001b[1;33m[\u001b[0m\u001b[0mindexer\u001b[0m\u001b[1;33m]\u001b[0m\u001b[1;33m\u001b[0m\u001b[1;33m\u001b[0m\u001b[0m\n",
      "\u001b[1;32m~\\Anaconda3\\lib\\site-packages\\pandas\\core\\indexes\\base.py\u001b[0m in \u001b[0;36mget_loc\u001b[1;34m(self, key, method, tolerance)\u001b[0m\n\u001b[0;32m   2646\u001b[0m                 \u001b[1;32mreturn\u001b[0m \u001b[0mself\u001b[0m\u001b[1;33m.\u001b[0m\u001b[0m_engine\u001b[0m\u001b[1;33m.\u001b[0m\u001b[0mget_loc\u001b[0m\u001b[1;33m(\u001b[0m\u001b[0mkey\u001b[0m\u001b[1;33m)\u001b[0m\u001b[1;33m\u001b[0m\u001b[1;33m\u001b[0m\u001b[0m\n\u001b[0;32m   2647\u001b[0m             \u001b[1;32mexcept\u001b[0m \u001b[0mKeyError\u001b[0m\u001b[1;33m:\u001b[0m\u001b[1;33m\u001b[0m\u001b[1;33m\u001b[0m\u001b[0m\n\u001b[1;32m-> 2648\u001b[1;33m                 \u001b[1;32mreturn\u001b[0m \u001b[0mself\u001b[0m\u001b[1;33m.\u001b[0m\u001b[0m_engine\u001b[0m\u001b[1;33m.\u001b[0m\u001b[0mget_loc\u001b[0m\u001b[1;33m(\u001b[0m\u001b[0mself\u001b[0m\u001b[1;33m.\u001b[0m\u001b[0m_maybe_cast_indexer\u001b[0m\u001b[1;33m(\u001b[0m\u001b[0mkey\u001b[0m\u001b[1;33m)\u001b[0m\u001b[1;33m)\u001b[0m\u001b[1;33m\u001b[0m\u001b[1;33m\u001b[0m\u001b[0m\n\u001b[0m\u001b[0;32m   2649\u001b[0m         \u001b[0mindexer\u001b[0m \u001b[1;33m=\u001b[0m \u001b[0mself\u001b[0m\u001b[1;33m.\u001b[0m\u001b[0mget_indexer\u001b[0m\u001b[1;33m(\u001b[0m\u001b[1;33m[\u001b[0m\u001b[0mkey\u001b[0m\u001b[1;33m]\u001b[0m\u001b[1;33m,\u001b[0m \u001b[0mmethod\u001b[0m\u001b[1;33m=\u001b[0m\u001b[0mmethod\u001b[0m\u001b[1;33m,\u001b[0m \u001b[0mtolerance\u001b[0m\u001b[1;33m=\u001b[0m\u001b[0mtolerance\u001b[0m\u001b[1;33m)\u001b[0m\u001b[1;33m\u001b[0m\u001b[1;33m\u001b[0m\u001b[0m\n\u001b[0;32m   2650\u001b[0m         \u001b[1;32mif\u001b[0m \u001b[0mindexer\u001b[0m\u001b[1;33m.\u001b[0m\u001b[0mndim\u001b[0m \u001b[1;33m>\u001b[0m \u001b[1;36m1\u001b[0m \u001b[1;32mor\u001b[0m \u001b[0mindexer\u001b[0m\u001b[1;33m.\u001b[0m\u001b[0msize\u001b[0m \u001b[1;33m>\u001b[0m \u001b[1;36m1\u001b[0m\u001b[1;33m:\u001b[0m\u001b[1;33m\u001b[0m\u001b[1;33m\u001b[0m\u001b[0m\n",
      "\u001b[1;32mpandas\\_libs\\index.pyx\u001b[0m in \u001b[0;36mpandas._libs.index.IndexEngine.get_loc\u001b[1;34m()\u001b[0m\n",
      "\u001b[1;32mpandas\\_libs\\index.pyx\u001b[0m in \u001b[0;36mpandas._libs.index.IndexEngine.get_loc\u001b[1;34m()\u001b[0m\n",
      "\u001b[1;32mpandas\\_libs\\hashtable_class_helper.pxi\u001b[0m in \u001b[0;36mpandas._libs.hashtable.PyObjectHashTable.get_item\u001b[1;34m()\u001b[0m\n",
      "\u001b[1;32mpandas\\_libs\\hashtable_class_helper.pxi\u001b[0m in \u001b[0;36mpandas._libs.hashtable.PyObjectHashTable.get_item\u001b[1;34m()\u001b[0m\n",
      "\u001b[1;31mKeyError\u001b[0m: 'Name'"
     ]
    }
   ],
   "source": [
    "for i in range(len(train_data['Name'])):\n",
    "    if train_data['Name'][i] == 'Datsun':\n",
    "        train_data['Name'][i] = None"
   ]
  },
  {
   "cell_type": "code",
   "execution_count": 270,
   "metadata": {},
   "outputs": [
    {
     "ename": "KeyError",
     "evalue": "'Fuel_Type'",
     "output_type": "error",
     "traceback": [
      "\u001b[1;31m---------------------------------------------------------------------------\u001b[0m",
      "\u001b[1;31mKeyError\u001b[0m                                  Traceback (most recent call last)",
      "\u001b[1;32m~\\Anaconda3\\lib\\site-packages\\pandas\\core\\indexes\\base.py\u001b[0m in \u001b[0;36mget_loc\u001b[1;34m(self, key, method, tolerance)\u001b[0m\n\u001b[0;32m   2645\u001b[0m             \u001b[1;32mtry\u001b[0m\u001b[1;33m:\u001b[0m\u001b[1;33m\u001b[0m\u001b[1;33m\u001b[0m\u001b[0m\n\u001b[1;32m-> 2646\u001b[1;33m                 \u001b[1;32mreturn\u001b[0m \u001b[0mself\u001b[0m\u001b[1;33m.\u001b[0m\u001b[0m_engine\u001b[0m\u001b[1;33m.\u001b[0m\u001b[0mget_loc\u001b[0m\u001b[1;33m(\u001b[0m\u001b[0mkey\u001b[0m\u001b[1;33m)\u001b[0m\u001b[1;33m\u001b[0m\u001b[1;33m\u001b[0m\u001b[0m\n\u001b[0m\u001b[0;32m   2647\u001b[0m             \u001b[1;32mexcept\u001b[0m \u001b[0mKeyError\u001b[0m\u001b[1;33m:\u001b[0m\u001b[1;33m\u001b[0m\u001b[1;33m\u001b[0m\u001b[0m\n",
      "\u001b[1;32mpandas\\_libs\\index.pyx\u001b[0m in \u001b[0;36mpandas._libs.index.IndexEngine.get_loc\u001b[1;34m()\u001b[0m\n",
      "\u001b[1;32mpandas\\_libs\\index.pyx\u001b[0m in \u001b[0;36mpandas._libs.index.IndexEngine.get_loc\u001b[1;34m()\u001b[0m\n",
      "\u001b[1;32mpandas\\_libs\\hashtable_class_helper.pxi\u001b[0m in \u001b[0;36mpandas._libs.hashtable.PyObjectHashTable.get_item\u001b[1;34m()\u001b[0m\n",
      "\u001b[1;32mpandas\\_libs\\hashtable_class_helper.pxi\u001b[0m in \u001b[0;36mpandas._libs.hashtable.PyObjectHashTable.get_item\u001b[1;34m()\u001b[0m\n",
      "\u001b[1;31mKeyError\u001b[0m: 'Fuel_Type'",
      "\nDuring handling of the above exception, another exception occurred:\n",
      "\u001b[1;31mKeyError\u001b[0m                                  Traceback (most recent call last)",
      "\u001b[1;32m<ipython-input-270-8cd3bf42fdce>\u001b[0m in \u001b[0;36m<module>\u001b[1;34m\u001b[0m\n\u001b[1;32m----> 1\u001b[1;33m \u001b[1;32mfor\u001b[0m \u001b[0mi\u001b[0m \u001b[1;32min\u001b[0m \u001b[0mrange\u001b[0m\u001b[1;33m(\u001b[0m\u001b[0mlen\u001b[0m\u001b[1;33m(\u001b[0m\u001b[0mtrain_data\u001b[0m\u001b[1;33m[\u001b[0m\u001b[1;34m'Fuel_Type'\u001b[0m\u001b[1;33m]\u001b[0m\u001b[1;33m)\u001b[0m\u001b[1;33m)\u001b[0m\u001b[1;33m:\u001b[0m\u001b[1;33m\u001b[0m\u001b[1;33m\u001b[0m\u001b[0m\n\u001b[0m\u001b[0;32m      2\u001b[0m     \u001b[1;32mif\u001b[0m \u001b[0mtrain_data\u001b[0m\u001b[1;33m[\u001b[0m\u001b[1;34m'Fuel_Type'\u001b[0m\u001b[1;33m]\u001b[0m\u001b[1;33m[\u001b[0m\u001b[0mi\u001b[0m\u001b[1;33m]\u001b[0m \u001b[1;33m==\u001b[0m \u001b[1;34m'Electric'\u001b[0m\u001b[1;33m:\u001b[0m\u001b[1;33m\u001b[0m\u001b[1;33m\u001b[0m\u001b[0m\n\u001b[0;32m      3\u001b[0m         \u001b[0mtrain_data\u001b[0m\u001b[1;33m[\u001b[0m\u001b[1;34m'Fuel_Type'\u001b[0m\u001b[1;33m]\u001b[0m\u001b[1;33m[\u001b[0m\u001b[0mi\u001b[0m\u001b[1;33m]\u001b[0m \u001b[1;33m=\u001b[0m \u001b[1;32mNone\u001b[0m\u001b[1;33m\u001b[0m\u001b[1;33m\u001b[0m\u001b[0m\n",
      "\u001b[1;32m~\\Anaconda3\\lib\\site-packages\\pandas\\core\\frame.py\u001b[0m in \u001b[0;36m__getitem__\u001b[1;34m(self, key)\u001b[0m\n\u001b[0;32m   2798\u001b[0m             \u001b[1;32mif\u001b[0m \u001b[0mself\u001b[0m\u001b[1;33m.\u001b[0m\u001b[0mcolumns\u001b[0m\u001b[1;33m.\u001b[0m\u001b[0mnlevels\u001b[0m \u001b[1;33m>\u001b[0m \u001b[1;36m1\u001b[0m\u001b[1;33m:\u001b[0m\u001b[1;33m\u001b[0m\u001b[1;33m\u001b[0m\u001b[0m\n\u001b[0;32m   2799\u001b[0m                 \u001b[1;32mreturn\u001b[0m \u001b[0mself\u001b[0m\u001b[1;33m.\u001b[0m\u001b[0m_getitem_multilevel\u001b[0m\u001b[1;33m(\u001b[0m\u001b[0mkey\u001b[0m\u001b[1;33m)\u001b[0m\u001b[1;33m\u001b[0m\u001b[1;33m\u001b[0m\u001b[0m\n\u001b[1;32m-> 2800\u001b[1;33m             \u001b[0mindexer\u001b[0m \u001b[1;33m=\u001b[0m \u001b[0mself\u001b[0m\u001b[1;33m.\u001b[0m\u001b[0mcolumns\u001b[0m\u001b[1;33m.\u001b[0m\u001b[0mget_loc\u001b[0m\u001b[1;33m(\u001b[0m\u001b[0mkey\u001b[0m\u001b[1;33m)\u001b[0m\u001b[1;33m\u001b[0m\u001b[1;33m\u001b[0m\u001b[0m\n\u001b[0m\u001b[0;32m   2801\u001b[0m             \u001b[1;32mif\u001b[0m \u001b[0mis_integer\u001b[0m\u001b[1;33m(\u001b[0m\u001b[0mindexer\u001b[0m\u001b[1;33m)\u001b[0m\u001b[1;33m:\u001b[0m\u001b[1;33m\u001b[0m\u001b[1;33m\u001b[0m\u001b[0m\n\u001b[0;32m   2802\u001b[0m                 \u001b[0mindexer\u001b[0m \u001b[1;33m=\u001b[0m \u001b[1;33m[\u001b[0m\u001b[0mindexer\u001b[0m\u001b[1;33m]\u001b[0m\u001b[1;33m\u001b[0m\u001b[1;33m\u001b[0m\u001b[0m\n",
      "\u001b[1;32m~\\Anaconda3\\lib\\site-packages\\pandas\\core\\indexes\\base.py\u001b[0m in \u001b[0;36mget_loc\u001b[1;34m(self, key, method, tolerance)\u001b[0m\n\u001b[0;32m   2646\u001b[0m                 \u001b[1;32mreturn\u001b[0m \u001b[0mself\u001b[0m\u001b[1;33m.\u001b[0m\u001b[0m_engine\u001b[0m\u001b[1;33m.\u001b[0m\u001b[0mget_loc\u001b[0m\u001b[1;33m(\u001b[0m\u001b[0mkey\u001b[0m\u001b[1;33m)\u001b[0m\u001b[1;33m\u001b[0m\u001b[1;33m\u001b[0m\u001b[0m\n\u001b[0;32m   2647\u001b[0m             \u001b[1;32mexcept\u001b[0m \u001b[0mKeyError\u001b[0m\u001b[1;33m:\u001b[0m\u001b[1;33m\u001b[0m\u001b[1;33m\u001b[0m\u001b[0m\n\u001b[1;32m-> 2648\u001b[1;33m                 \u001b[1;32mreturn\u001b[0m \u001b[0mself\u001b[0m\u001b[1;33m.\u001b[0m\u001b[0m_engine\u001b[0m\u001b[1;33m.\u001b[0m\u001b[0mget_loc\u001b[0m\u001b[1;33m(\u001b[0m\u001b[0mself\u001b[0m\u001b[1;33m.\u001b[0m\u001b[0m_maybe_cast_indexer\u001b[0m\u001b[1;33m(\u001b[0m\u001b[0mkey\u001b[0m\u001b[1;33m)\u001b[0m\u001b[1;33m)\u001b[0m\u001b[1;33m\u001b[0m\u001b[1;33m\u001b[0m\u001b[0m\n\u001b[0m\u001b[0;32m   2649\u001b[0m         \u001b[0mindexer\u001b[0m \u001b[1;33m=\u001b[0m \u001b[0mself\u001b[0m\u001b[1;33m.\u001b[0m\u001b[0mget_indexer\u001b[0m\u001b[1;33m(\u001b[0m\u001b[1;33m[\u001b[0m\u001b[0mkey\u001b[0m\u001b[1;33m]\u001b[0m\u001b[1;33m,\u001b[0m \u001b[0mmethod\u001b[0m\u001b[1;33m=\u001b[0m\u001b[0mmethod\u001b[0m\u001b[1;33m,\u001b[0m \u001b[0mtolerance\u001b[0m\u001b[1;33m=\u001b[0m\u001b[0mtolerance\u001b[0m\u001b[1;33m)\u001b[0m\u001b[1;33m\u001b[0m\u001b[1;33m\u001b[0m\u001b[0m\n\u001b[0;32m   2650\u001b[0m         \u001b[1;32mif\u001b[0m \u001b[0mindexer\u001b[0m\u001b[1;33m.\u001b[0m\u001b[0mndim\u001b[0m \u001b[1;33m>\u001b[0m \u001b[1;36m1\u001b[0m \u001b[1;32mor\u001b[0m \u001b[0mindexer\u001b[0m\u001b[1;33m.\u001b[0m\u001b[0msize\u001b[0m \u001b[1;33m>\u001b[0m \u001b[1;36m1\u001b[0m\u001b[1;33m:\u001b[0m\u001b[1;33m\u001b[0m\u001b[1;33m\u001b[0m\u001b[0m\n",
      "\u001b[1;32mpandas\\_libs\\index.pyx\u001b[0m in \u001b[0;36mpandas._libs.index.IndexEngine.get_loc\u001b[1;34m()\u001b[0m\n",
      "\u001b[1;32mpandas\\_libs\\index.pyx\u001b[0m in \u001b[0;36mpandas._libs.index.IndexEngine.get_loc\u001b[1;34m()\u001b[0m\n",
      "\u001b[1;32mpandas\\_libs\\hashtable_class_helper.pxi\u001b[0m in \u001b[0;36mpandas._libs.hashtable.PyObjectHashTable.get_item\u001b[1;34m()\u001b[0m\n",
      "\u001b[1;32mpandas\\_libs\\hashtable_class_helper.pxi\u001b[0m in \u001b[0;36mpandas._libs.hashtable.PyObjectHashTable.get_item\u001b[1;34m()\u001b[0m\n",
      "\u001b[1;31mKeyError\u001b[0m: 'Fuel_Type'"
     ]
    }
   ],
   "source": [
    "for i in range(len(train_data['Fuel_Type'])):\n",
    "    if train_data['Fuel_Type'][i] == 'Electric':\n",
    "        train_data['Fuel_Type'][i] = None"
   ]
  },
  {
   "cell_type": "code",
   "execution_count": 271,
   "metadata": {},
   "outputs": [
    {
     "name": "stdout",
     "output_type": "stream",
     "text": [
      "<class 'pandas.core.frame.DataFrame'>\n",
      "RangeIndex: 4999 entries, 0 to 4998\n",
      "Data columns (total 87 columns):\n",
      " #   Column                     Non-Null Count  Dtype  \n",
      "---  ------                     --------------  -----  \n",
      " 0   ID                         4999 non-null   int64  \n",
      " 1   Year                       4999 non-null   int64  \n",
      " 2   Kilometers_Driven          4999 non-null   float64\n",
      " 3   Mileage                    4999 non-null   float64\n",
      " 4   Engine                     4999 non-null   float64\n",
      " 5   Power                      4999 non-null   float64\n",
      " 6   Seats                      4999 non-null   int64  \n",
      " 7   Price                      4999 non-null   float64\n",
      " 8   Name_Audi                  4999 non-null   uint8  \n",
      " 9   Name_BMW                   4999 non-null   uint8  \n",
      " 10  Name_Bentley               4999 non-null   uint8  \n",
      " 11  Name_Chevrolet             4999 non-null   uint8  \n",
      " 12  Name_Datsun                4999 non-null   uint8  \n",
      " 13  Name_Fiat                  4999 non-null   uint8  \n",
      " 14  Name_Force                 4999 non-null   uint8  \n",
      " 15  Name_Ford                  4999 non-null   uint8  \n",
      " 16  Name_Honda                 4999 non-null   uint8  \n",
      " 17  Name_Hyundai               4999 non-null   uint8  \n",
      " 18  Name_ISUZU                 4999 non-null   uint8  \n",
      " 19  Name_Jaguar                4999 non-null   uint8  \n",
      " 20  Name_Jeep                  4999 non-null   uint8  \n",
      " 21  Name_Lamborghini           4999 non-null   uint8  \n",
      " 22  Name_Land                  4999 non-null   uint8  \n",
      " 23  Name_Mahindra              4999 non-null   uint8  \n",
      " 24  Name_Maruti                4999 non-null   uint8  \n",
      " 25  Name_Mercedes-Benz         4999 non-null   uint8  \n",
      " 26  Name_Mini                  4999 non-null   uint8  \n",
      " 27  Name_Mitsubishi            4999 non-null   uint8  \n",
      " 28  Name_Nissan                4999 non-null   uint8  \n",
      " 29  Name_Porsche               4999 non-null   uint8  \n",
      " 30  Name_Renault               4999 non-null   uint8  \n",
      " 31  Name_Skoda                 4999 non-null   uint8  \n",
      " 32  Name_Tata                  4999 non-null   uint8  \n",
      " 33  Name_Toyota                4999 non-null   uint8  \n",
      " 34  Name_Volkswagen            4999 non-null   uint8  \n",
      " 35  Name_Volvo                 4999 non-null   uint8  \n",
      " 36  Location_Ahmedabad         4999 non-null   uint8  \n",
      " 37  Location_Bangalore         4999 non-null   uint8  \n",
      " 38  Location_Chennai           4999 non-null   uint8  \n",
      " 39  Location_Coimbatore        4999 non-null   uint8  \n",
      " 40  Location_Delhi             4999 non-null   uint8  \n",
      " 41  Location_Hyderabad         4999 non-null   uint8  \n",
      " 42  Location_Jaipur            4999 non-null   uint8  \n",
      " 43  Location_Kochi             4999 non-null   uint8  \n",
      " 44  Location_Kolkata           4999 non-null   uint8  \n",
      " 45  Location_Mumbai            4999 non-null   uint8  \n",
      " 46  Location_Pune              4999 non-null   uint8  \n",
      " 47  Fuel_Type_CNG              4999 non-null   uint8  \n",
      " 48  Fuel_Type_Diesel           4999 non-null   uint8  \n",
      " 49  Fuel_Type_Electric         4999 non-null   uint8  \n",
      " 50  Fuel_Type_LPG              4999 non-null   uint8  \n",
      " 51  Fuel_Type_Petrol           4999 non-null   uint8  \n",
      " 52  Transmission_Automatic     4999 non-null   uint8  \n",
      " 53  Transmission_Manual        4999 non-null   uint8  \n",
      " 54  Owner_Type_First           4999 non-null   uint8  \n",
      " 55  Owner_Type_Fourth & Above  4999 non-null   uint8  \n",
      " 56  Owner_Type_Second          4999 non-null   uint8  \n",
      " 57  Owner_Type_Third           4999 non-null   uint8  \n",
      " 58  Brand_Audi                 4999 non-null   uint8  \n",
      " 59  Brand_BMW                  4999 non-null   uint8  \n",
      " 60  Brand_Bentley              4999 non-null   uint8  \n",
      " 61  Brand_Chevrolet            4999 non-null   uint8  \n",
      " 62  Brand_Datsun               4999 non-null   uint8  \n",
      " 63  Brand_Fiat                 4999 non-null   uint8  \n",
      " 64  Brand_Force                4999 non-null   uint8  \n",
      " 65  Brand_Ford                 4999 non-null   uint8  \n",
      " 66  Brand_Honda                4999 non-null   uint8  \n",
      " 67  Brand_Hyundai              4999 non-null   uint8  \n",
      " 68  Brand_ISUZU                4999 non-null   uint8  \n",
      " 69  Brand_Isuzu                4999 non-null   uint8  \n",
      " 70  Brand_Jaguar               4999 non-null   uint8  \n",
      " 71  Brand_Jeep                 4999 non-null   uint8  \n",
      " 72  Brand_Lamborghini          4999 non-null   uint8  \n",
      " 73  Brand_Land                 4999 non-null   uint8  \n",
      " 74  Brand_Mahindra             4999 non-null   uint8  \n",
      " 75  Brand_Maruti               4999 non-null   uint8  \n",
      " 76  Brand_Mercedes-Benz        4999 non-null   uint8  \n",
      " 77  Brand_Mini                 4999 non-null   uint8  \n",
      " 78  Brand_Mitsubishi           4999 non-null   uint8  \n",
      " 79  Brand_Nissan               4999 non-null   uint8  \n",
      " 80  Brand_Porsche              4999 non-null   uint8  \n",
      " 81  Brand_Renault              4999 non-null   uint8  \n",
      " 82  Brand_Skoda                4999 non-null   uint8  \n",
      " 83  Brand_Tata                 4999 non-null   uint8  \n",
      " 84  Brand_Toyota               4999 non-null   uint8  \n",
      " 85  Brand_Volkswagen           4999 non-null   uint8  \n",
      " 86  Brand_Volvo                4999 non-null   uint8  \n",
      "dtypes: float64(5), int64(3), uint8(79)\n",
      "memory usage: 698.2 KB\n"
     ]
    }
   ],
   "source": [
    "train_data.info() # Isuzu, ISUZU 2개임"
   ]
  },
  {
   "cell_type": "code",
   "execution_count": 272,
   "metadata": {},
   "outputs": [
    {
     "name": "stdout",
     "output_type": "stream",
     "text": [
      "<class 'pandas.core.frame.DataFrame'>\n",
      "RangeIndex: 1019 entries, 0 to 1018\n",
      "Data columns (total 82 columns):\n",
      " #   Column                     Non-Null Count  Dtype  \n",
      "---  ------                     --------------  -----  \n",
      " 0   ID                         1019 non-null   int64  \n",
      " 1   Year                       1019 non-null   int64  \n",
      " 2   Kilometers_Driven          1019 non-null   int64  \n",
      " 3   Mileage                    1019 non-null   float64\n",
      " 4   Engine                     1019 non-null   float64\n",
      " 5   Power                      1019 non-null   float64\n",
      " 6   Seats                      1019 non-null   int64  \n",
      " 7   Name_Audi                  1019 non-null   uint8  \n",
      " 8   Name_BMW                   1019 non-null   uint8  \n",
      " 9   Name_Bentley               1019 non-null   uint8  \n",
      " 10  Name_Chevrolet             1019 non-null   uint8  \n",
      " 11  Name_Fiat                  1019 non-null   uint8  \n",
      " 12  Name_Force                 1019 non-null   uint8  \n",
      " 13  Name_Ford                  1019 non-null   uint8  \n",
      " 14  Name_Honda                 1019 non-null   uint8  \n",
      " 15  Name_Hyundai               1019 non-null   uint8  \n",
      " 16  Name_ISUZU                 1019 non-null   uint8  \n",
      " 17  Name_Jaguar                1019 non-null   uint8  \n",
      " 18  Name_Jeep                  1019 non-null   uint8  \n",
      " 19  Name_Lamborghini           1019 non-null   uint8  \n",
      " 20  Name_Land                  1019 non-null   uint8  \n",
      " 21  Name_Mahindra              1019 non-null   uint8  \n",
      " 22  Name_Maruti                1019 non-null   uint8  \n",
      " 23  Name_Mercedes-Benz         1019 non-null   uint8  \n",
      " 24  Name_Mini                  1019 non-null   uint8  \n",
      " 25  Name_Mitsubishi            1019 non-null   uint8  \n",
      " 26  Name_Nissan                1019 non-null   uint8  \n",
      " 27  Name_Porsche               1019 non-null   uint8  \n",
      " 28  Name_Renault               1019 non-null   uint8  \n",
      " 29  Name_Skoda                 1019 non-null   uint8  \n",
      " 30  Name_Tata                  1019 non-null   uint8  \n",
      " 31  Name_Toyota                1019 non-null   uint8  \n",
      " 32  Name_Volkswagen            1019 non-null   uint8  \n",
      " 33  Name_Volvo                 1019 non-null   uint8  \n",
      " 34  Location_Ahmedabad         1019 non-null   uint8  \n",
      " 35  Location_Bangalore         1019 non-null   uint8  \n",
      " 36  Location_Chennai           1019 non-null   uint8  \n",
      " 37  Location_Coimbatore        1019 non-null   uint8  \n",
      " 38  Location_Delhi             1019 non-null   uint8  \n",
      " 39  Location_Hyderabad         1019 non-null   uint8  \n",
      " 40  Location_Jaipur            1019 non-null   uint8  \n",
      " 41  Location_Kochi             1019 non-null   uint8  \n",
      " 42  Location_Kolkata           1019 non-null   uint8  \n",
      " 43  Location_Mumbai            1019 non-null   uint8  \n",
      " 44  Location_Pune              1019 non-null   uint8  \n",
      " 45  Fuel_Type_CNG              1019 non-null   uint8  \n",
      " 46  Fuel_Type_Diesel           1019 non-null   uint8  \n",
      " 47  Fuel_Type_LPG              1019 non-null   uint8  \n",
      " 48  Fuel_Type_Petrol           1019 non-null   uint8  \n",
      " 49  Transmission_Automatic     1019 non-null   uint8  \n",
      " 50  Transmission_Manual        1019 non-null   uint8  \n",
      " 51  Owner_Type_First           1019 non-null   uint8  \n",
      " 52  Owner_Type_Fourth & Above  1019 non-null   uint8  \n",
      " 53  Owner_Type_Second          1019 non-null   uint8  \n",
      " 54  Owner_Type_Third           1019 non-null   uint8  \n",
      " 55  Brand_Audi                 1019 non-null   uint8  \n",
      " 56  Brand_BMW                  1019 non-null   uint8  \n",
      " 57  Brand_Bentley              1019 non-null   uint8  \n",
      " 58  Brand_Chevrolet            1019 non-null   uint8  \n",
      " 59  Brand_Fiat                 1019 non-null   uint8  \n",
      " 60  Brand_Force                1019 non-null   uint8  \n",
      " 61  Brand_Ford                 1019 non-null   uint8  \n",
      " 62  Brand_Honda                1019 non-null   uint8  \n",
      " 63  Brand_Hyundai              1019 non-null   uint8  \n",
      " 64  Brand_ISUZU                1019 non-null   uint8  \n",
      " 65  Brand_Jaguar               1019 non-null   uint8  \n",
      " 66  Brand_Jeep                 1019 non-null   uint8  \n",
      " 67  Brand_Lamborghini          1019 non-null   uint8  \n",
      " 68  Brand_Land                 1019 non-null   uint8  \n",
      " 69  Brand_Mahindra             1019 non-null   uint8  \n",
      " 70  Brand_Maruti               1019 non-null   uint8  \n",
      " 71  Brand_Mercedes-Benz        1019 non-null   uint8  \n",
      " 72  Brand_Mini                 1019 non-null   uint8  \n",
      " 73  Brand_Mitsubishi           1019 non-null   uint8  \n",
      " 74  Brand_Nissan               1019 non-null   uint8  \n",
      " 75  Brand_Porsche              1019 non-null   uint8  \n",
      " 76  Brand_Renault              1019 non-null   uint8  \n",
      " 77  Brand_Skoda                1019 non-null   uint8  \n",
      " 78  Brand_Tata                 1019 non-null   uint8  \n",
      " 79  Brand_Toyota               1019 non-null   uint8  \n",
      " 80  Brand_Volkswagen           1019 non-null   uint8  \n",
      " 81  Brand_Volvo                1019 non-null   uint8  \n",
      "dtypes: float64(3), int64(4), uint8(75)\n",
      "memory usage: 130.5 KB\n"
     ]
    }
   ],
   "source": [
    "test_data.info()"
   ]
  },
  {
   "cell_type": "code",
   "execution_count": 273,
   "metadata": {},
   "outputs": [],
   "source": [
    "ex = []\n",
    "for i in range(len(test_data.columns)):\n",
    "    ex.append(test_data.columns[i])"
   ]
  },
  {
   "cell_type": "code",
   "execution_count": 274,
   "metadata": {},
   "outputs": [],
   "source": [
    "ex1 = []\n",
    "for i in range(len(train_data.columns)):\n",
    "    ex1.append(train_data.columns[i])"
   ]
  },
  {
   "cell_type": "code",
   "execution_count": 275,
   "metadata": {},
   "outputs": [],
   "source": [
    "z = list(set(ex1)-set(ex))"
   ]
  },
  {
   "cell_type": "code",
   "execution_count": 276,
   "metadata": {},
   "outputs": [
    {
     "data": {
      "text/plain": [
       "['Fuel_Type_Electric', 'Brand_Isuzu', 'Name_Datsun', 'Price', 'Brand_Datsun']"
      ]
     },
     "execution_count": 276,
     "metadata": {},
     "output_type": "execute_result"
    }
   ],
   "source": [
    "z"
   ]
  },
  {
   "cell_type": "code",
   "execution_count": null,
   "metadata": {},
   "outputs": [],
   "source": []
  },
  {
   "cell_type": "code",
   "execution_count": null,
   "metadata": {},
   "outputs": [],
   "source": []
  },
  {
   "cell_type": "code",
   "execution_count": null,
   "metadata": {},
   "outputs": [],
   "source": []
  },
  {
   "cell_type": "markdown",
   "metadata": {},
   "source": [
    "## 일단 데이터 test 데이터는 null 값 없이 채움 -> train 널값은 날리기로함"
   ]
  },
  {
   "cell_type": "code",
   "execution_count": 277,
   "metadata": {},
   "outputs": [],
   "source": [
    "train_data = train_data.dropna('index')"
   ]
  },
  {
   "cell_type": "code",
   "execution_count": 278,
   "metadata": {},
   "outputs": [
    {
     "name": "stdout",
     "output_type": "stream",
     "text": [
      "<class 'pandas.core.frame.DataFrame'>\n",
      "Int64Index: 4999 entries, 0 to 4998\n",
      "Data columns (total 87 columns):\n",
      " #   Column                     Non-Null Count  Dtype  \n",
      "---  ------                     --------------  -----  \n",
      " 0   ID                         4999 non-null   int64  \n",
      " 1   Year                       4999 non-null   int64  \n",
      " 2   Kilometers_Driven          4999 non-null   float64\n",
      " 3   Mileage                    4999 non-null   float64\n",
      " 4   Engine                     4999 non-null   float64\n",
      " 5   Power                      4999 non-null   float64\n",
      " 6   Seats                      4999 non-null   int64  \n",
      " 7   Price                      4999 non-null   float64\n",
      " 8   Name_Audi                  4999 non-null   uint8  \n",
      " 9   Name_BMW                   4999 non-null   uint8  \n",
      " 10  Name_Bentley               4999 non-null   uint8  \n",
      " 11  Name_Chevrolet             4999 non-null   uint8  \n",
      " 12  Name_Datsun                4999 non-null   uint8  \n",
      " 13  Name_Fiat                  4999 non-null   uint8  \n",
      " 14  Name_Force                 4999 non-null   uint8  \n",
      " 15  Name_Ford                  4999 non-null   uint8  \n",
      " 16  Name_Honda                 4999 non-null   uint8  \n",
      " 17  Name_Hyundai               4999 non-null   uint8  \n",
      " 18  Name_ISUZU                 4999 non-null   uint8  \n",
      " 19  Name_Jaguar                4999 non-null   uint8  \n",
      " 20  Name_Jeep                  4999 non-null   uint8  \n",
      " 21  Name_Lamborghini           4999 non-null   uint8  \n",
      " 22  Name_Land                  4999 non-null   uint8  \n",
      " 23  Name_Mahindra              4999 non-null   uint8  \n",
      " 24  Name_Maruti                4999 non-null   uint8  \n",
      " 25  Name_Mercedes-Benz         4999 non-null   uint8  \n",
      " 26  Name_Mini                  4999 non-null   uint8  \n",
      " 27  Name_Mitsubishi            4999 non-null   uint8  \n",
      " 28  Name_Nissan                4999 non-null   uint8  \n",
      " 29  Name_Porsche               4999 non-null   uint8  \n",
      " 30  Name_Renault               4999 non-null   uint8  \n",
      " 31  Name_Skoda                 4999 non-null   uint8  \n",
      " 32  Name_Tata                  4999 non-null   uint8  \n",
      " 33  Name_Toyota                4999 non-null   uint8  \n",
      " 34  Name_Volkswagen            4999 non-null   uint8  \n",
      " 35  Name_Volvo                 4999 non-null   uint8  \n",
      " 36  Location_Ahmedabad         4999 non-null   uint8  \n",
      " 37  Location_Bangalore         4999 non-null   uint8  \n",
      " 38  Location_Chennai           4999 non-null   uint8  \n",
      " 39  Location_Coimbatore        4999 non-null   uint8  \n",
      " 40  Location_Delhi             4999 non-null   uint8  \n",
      " 41  Location_Hyderabad         4999 non-null   uint8  \n",
      " 42  Location_Jaipur            4999 non-null   uint8  \n",
      " 43  Location_Kochi             4999 non-null   uint8  \n",
      " 44  Location_Kolkata           4999 non-null   uint8  \n",
      " 45  Location_Mumbai            4999 non-null   uint8  \n",
      " 46  Location_Pune              4999 non-null   uint8  \n",
      " 47  Fuel_Type_CNG              4999 non-null   uint8  \n",
      " 48  Fuel_Type_Diesel           4999 non-null   uint8  \n",
      " 49  Fuel_Type_Electric         4999 non-null   uint8  \n",
      " 50  Fuel_Type_LPG              4999 non-null   uint8  \n",
      " 51  Fuel_Type_Petrol           4999 non-null   uint8  \n",
      " 52  Transmission_Automatic     4999 non-null   uint8  \n",
      " 53  Transmission_Manual        4999 non-null   uint8  \n",
      " 54  Owner_Type_First           4999 non-null   uint8  \n",
      " 55  Owner_Type_Fourth & Above  4999 non-null   uint8  \n",
      " 56  Owner_Type_Second          4999 non-null   uint8  \n",
      " 57  Owner_Type_Third           4999 non-null   uint8  \n",
      " 58  Brand_Audi                 4999 non-null   uint8  \n",
      " 59  Brand_BMW                  4999 non-null   uint8  \n",
      " 60  Brand_Bentley              4999 non-null   uint8  \n",
      " 61  Brand_Chevrolet            4999 non-null   uint8  \n",
      " 62  Brand_Datsun               4999 non-null   uint8  \n",
      " 63  Brand_Fiat                 4999 non-null   uint8  \n",
      " 64  Brand_Force                4999 non-null   uint8  \n",
      " 65  Brand_Ford                 4999 non-null   uint8  \n",
      " 66  Brand_Honda                4999 non-null   uint8  \n",
      " 67  Brand_Hyundai              4999 non-null   uint8  \n",
      " 68  Brand_ISUZU                4999 non-null   uint8  \n",
      " 69  Brand_Isuzu                4999 non-null   uint8  \n",
      " 70  Brand_Jaguar               4999 non-null   uint8  \n",
      " 71  Brand_Jeep                 4999 non-null   uint8  \n",
      " 72  Brand_Lamborghini          4999 non-null   uint8  \n",
      " 73  Brand_Land                 4999 non-null   uint8  \n",
      " 74  Brand_Mahindra             4999 non-null   uint8  \n",
      " 75  Brand_Maruti               4999 non-null   uint8  \n",
      " 76  Brand_Mercedes-Benz        4999 non-null   uint8  \n",
      " 77  Brand_Mini                 4999 non-null   uint8  \n",
      " 78  Brand_Mitsubishi           4999 non-null   uint8  \n",
      " 79  Brand_Nissan               4999 non-null   uint8  \n",
      " 80  Brand_Porsche              4999 non-null   uint8  \n",
      " 81  Brand_Renault              4999 non-null   uint8  \n",
      " 82  Brand_Skoda                4999 non-null   uint8  \n",
      " 83  Brand_Tata                 4999 non-null   uint8  \n",
      " 84  Brand_Toyota               4999 non-null   uint8  \n",
      " 85  Brand_Volkswagen           4999 non-null   uint8  \n",
      " 86  Brand_Volvo                4999 non-null   uint8  \n",
      "dtypes: float64(5), int64(3), uint8(79)\n",
      "memory usage: 737.2 KB\n"
     ]
    }
   ],
   "source": [
    "train_data.info() # 5000 -> 4336 개로 줄었음"
   ]
  },
  {
   "cell_type": "code",
   "execution_count": 279,
   "metadata": {},
   "outputs": [
    {
     "name": "stdout",
     "output_type": "stream",
     "text": [
      "<class 'pandas.core.frame.DataFrame'>\n",
      "RangeIndex: 1019 entries, 0 to 1018\n",
      "Data columns (total 82 columns):\n",
      " #   Column                     Non-Null Count  Dtype  \n",
      "---  ------                     --------------  -----  \n",
      " 0   ID                         1019 non-null   int64  \n",
      " 1   Year                       1019 non-null   int64  \n",
      " 2   Kilometers_Driven          1019 non-null   int64  \n",
      " 3   Mileage                    1019 non-null   float64\n",
      " 4   Engine                     1019 non-null   float64\n",
      " 5   Power                      1019 non-null   float64\n",
      " 6   Seats                      1019 non-null   int64  \n",
      " 7   Name_Audi                  1019 non-null   uint8  \n",
      " 8   Name_BMW                   1019 non-null   uint8  \n",
      " 9   Name_Bentley               1019 non-null   uint8  \n",
      " 10  Name_Chevrolet             1019 non-null   uint8  \n",
      " 11  Name_Fiat                  1019 non-null   uint8  \n",
      " 12  Name_Force                 1019 non-null   uint8  \n",
      " 13  Name_Ford                  1019 non-null   uint8  \n",
      " 14  Name_Honda                 1019 non-null   uint8  \n",
      " 15  Name_Hyundai               1019 non-null   uint8  \n",
      " 16  Name_ISUZU                 1019 non-null   uint8  \n",
      " 17  Name_Jaguar                1019 non-null   uint8  \n",
      " 18  Name_Jeep                  1019 non-null   uint8  \n",
      " 19  Name_Lamborghini           1019 non-null   uint8  \n",
      " 20  Name_Land                  1019 non-null   uint8  \n",
      " 21  Name_Mahindra              1019 non-null   uint8  \n",
      " 22  Name_Maruti                1019 non-null   uint8  \n",
      " 23  Name_Mercedes-Benz         1019 non-null   uint8  \n",
      " 24  Name_Mini                  1019 non-null   uint8  \n",
      " 25  Name_Mitsubishi            1019 non-null   uint8  \n",
      " 26  Name_Nissan                1019 non-null   uint8  \n",
      " 27  Name_Porsche               1019 non-null   uint8  \n",
      " 28  Name_Renault               1019 non-null   uint8  \n",
      " 29  Name_Skoda                 1019 non-null   uint8  \n",
      " 30  Name_Tata                  1019 non-null   uint8  \n",
      " 31  Name_Toyota                1019 non-null   uint8  \n",
      " 32  Name_Volkswagen            1019 non-null   uint8  \n",
      " 33  Name_Volvo                 1019 non-null   uint8  \n",
      " 34  Location_Ahmedabad         1019 non-null   uint8  \n",
      " 35  Location_Bangalore         1019 non-null   uint8  \n",
      " 36  Location_Chennai           1019 non-null   uint8  \n",
      " 37  Location_Coimbatore        1019 non-null   uint8  \n",
      " 38  Location_Delhi             1019 non-null   uint8  \n",
      " 39  Location_Hyderabad         1019 non-null   uint8  \n",
      " 40  Location_Jaipur            1019 non-null   uint8  \n",
      " 41  Location_Kochi             1019 non-null   uint8  \n",
      " 42  Location_Kolkata           1019 non-null   uint8  \n",
      " 43  Location_Mumbai            1019 non-null   uint8  \n",
      " 44  Location_Pune              1019 non-null   uint8  \n",
      " 45  Fuel_Type_CNG              1019 non-null   uint8  \n",
      " 46  Fuel_Type_Diesel           1019 non-null   uint8  \n",
      " 47  Fuel_Type_LPG              1019 non-null   uint8  \n",
      " 48  Fuel_Type_Petrol           1019 non-null   uint8  \n",
      " 49  Transmission_Automatic     1019 non-null   uint8  \n",
      " 50  Transmission_Manual        1019 non-null   uint8  \n",
      " 51  Owner_Type_First           1019 non-null   uint8  \n",
      " 52  Owner_Type_Fourth & Above  1019 non-null   uint8  \n",
      " 53  Owner_Type_Second          1019 non-null   uint8  \n",
      " 54  Owner_Type_Third           1019 non-null   uint8  \n",
      " 55  Brand_Audi                 1019 non-null   uint8  \n",
      " 56  Brand_BMW                  1019 non-null   uint8  \n",
      " 57  Brand_Bentley              1019 non-null   uint8  \n",
      " 58  Brand_Chevrolet            1019 non-null   uint8  \n",
      " 59  Brand_Fiat                 1019 non-null   uint8  \n",
      " 60  Brand_Force                1019 non-null   uint8  \n",
      " 61  Brand_Ford                 1019 non-null   uint8  \n",
      " 62  Brand_Honda                1019 non-null   uint8  \n",
      " 63  Brand_Hyundai              1019 non-null   uint8  \n",
      " 64  Brand_ISUZU                1019 non-null   uint8  \n",
      " 65  Brand_Jaguar               1019 non-null   uint8  \n",
      " 66  Brand_Jeep                 1019 non-null   uint8  \n",
      " 67  Brand_Lamborghini          1019 non-null   uint8  \n",
      " 68  Brand_Land                 1019 non-null   uint8  \n",
      " 69  Brand_Mahindra             1019 non-null   uint8  \n",
      " 70  Brand_Maruti               1019 non-null   uint8  \n",
      " 71  Brand_Mercedes-Benz        1019 non-null   uint8  \n",
      " 72  Brand_Mini                 1019 non-null   uint8  \n",
      " 73  Brand_Mitsubishi           1019 non-null   uint8  \n",
      " 74  Brand_Nissan               1019 non-null   uint8  \n",
      " 75  Brand_Porsche              1019 non-null   uint8  \n",
      " 76  Brand_Renault              1019 non-null   uint8  \n",
      " 77  Brand_Skoda                1019 non-null   uint8  \n",
      " 78  Brand_Tata                 1019 non-null   uint8  \n",
      " 79  Brand_Toyota               1019 non-null   uint8  \n",
      " 80  Brand_Volkswagen           1019 non-null   uint8  \n",
      " 81  Brand_Volvo                1019 non-null   uint8  \n",
      "dtypes: float64(3), int64(4), uint8(75)\n",
      "memory usage: 130.5 KB\n"
     ]
    }
   ],
   "source": [
    "test_data.info()"
   ]
  },
  {
   "cell_type": "markdown",
   "metadata": {},
   "source": [
    "### 컬럼 one hot encoding"
   ]
  },
  {
   "cell_type": "markdown",
   "metadata": {},
   "source": [
    "print(train_data['Name'].unique())   # 얜 띄워놓고 하면될듯\n",
    "print(train_data['Location'].unique()) # 얜 11개라 원핫 할만한듯?\n",
    "print(train_data['Fuel_Type'].unique()) # 4개라 원핫인코딩ㄱㄱ\n",
    "print(train_data['Transmission'].unique()) # 얘도 2개라 원핫 인코딩 ㄱㄱ\n",
    "print(train_data['Owner_Type'].unique()) # 개라 원핫인코딩ㄱㄱ"
   ]
  },
  {
   "cell_type": "code",
   "execution_count": 280,
   "metadata": {},
   "outputs": [
    {
     "data": {
      "text/plain": [
       "Index(['ID', 'Year', 'Kilometers_Driven', 'Mileage', 'Engine', 'Power',\n",
       "       'Seats', 'Price', 'Name_Audi', 'Name_BMW', 'Name_Bentley',\n",
       "       'Name_Chevrolet', 'Name_Datsun', 'Name_Fiat', 'Name_Force', 'Name_Ford',\n",
       "       'Name_Honda', 'Name_Hyundai', 'Name_ISUZU', 'Name_Jaguar', 'Name_Jeep',\n",
       "       'Name_Lamborghini', 'Name_Land', 'Name_Mahindra', 'Name_Maruti',\n",
       "       'Name_Mercedes-Benz', 'Name_Mini', 'Name_Mitsubishi', 'Name_Nissan',\n",
       "       'Name_Porsche', 'Name_Renault', 'Name_Skoda', 'Name_Tata',\n",
       "       'Name_Toyota', 'Name_Volkswagen', 'Name_Volvo', 'Location_Ahmedabad',\n",
       "       'Location_Bangalore', 'Location_Chennai', 'Location_Coimbatore',\n",
       "       'Location_Delhi', 'Location_Hyderabad', 'Location_Jaipur',\n",
       "       'Location_Kochi', 'Location_Kolkata', 'Location_Mumbai',\n",
       "       'Location_Pune', 'Fuel_Type_CNG', 'Fuel_Type_Diesel',\n",
       "       'Fuel_Type_Electric', 'Fuel_Type_LPG', 'Fuel_Type_Petrol',\n",
       "       'Transmission_Automatic', 'Transmission_Manual', 'Owner_Type_First',\n",
       "       'Owner_Type_Fourth & Above', 'Owner_Type_Second', 'Owner_Type_Third',\n",
       "       'Brand_Audi', 'Brand_BMW', 'Brand_Bentley', 'Brand_Chevrolet',\n",
       "       'Brand_Datsun', 'Brand_Fiat', 'Brand_Force', 'Brand_Ford',\n",
       "       'Brand_Honda', 'Brand_Hyundai', 'Brand_ISUZU', 'Brand_Isuzu',\n",
       "       'Brand_Jaguar', 'Brand_Jeep', 'Brand_Lamborghini', 'Brand_Land',\n",
       "       'Brand_Mahindra', 'Brand_Maruti', 'Brand_Mercedes-Benz', 'Brand_Mini',\n",
       "       'Brand_Mitsubishi', 'Brand_Nissan', 'Brand_Porsche', 'Brand_Renault',\n",
       "       'Brand_Skoda', 'Brand_Tata', 'Brand_Toyota', 'Brand_Volkswagen',\n",
       "       'Brand_Volvo'],\n",
       "      dtype='object')"
      ]
     },
     "execution_count": 280,
     "metadata": {},
     "output_type": "execute_result"
    }
   ],
   "source": [
    "train_data.columns"
   ]
  },
  {
   "cell_type": "code",
   "execution_count": 281,
   "metadata": {},
   "outputs": [],
   "source": [
    "X = train_data.loc[:,['ID', 'Year', 'Kilometers_Driven', 'Mileage', 'Engine', 'Power',\n",
    "       'Seats', 'Name_Audi', 'Name_BMW', 'Name_Bentley',\n",
    "       'Name_Chevrolet', 'Name_Fiat', 'Name_Force', 'Name_Ford', 'Name_Honda',\n",
    "       'Name_Hyundai', 'Name_ISUZU', 'Name_Jaguar', 'Name_Jeep',\n",
    "       'Name_Lamborghini', 'Name_Land', 'Name_Mahindra', 'Name_Maruti',\n",
    "       'Name_Mercedes-Benz', 'Name_Mini', 'Name_Mitsubishi', 'Name_Nissan',\n",
    "       'Name_Porsche', 'Name_Renault', 'Name_Skoda', 'Name_Tata',\n",
    "       'Name_Toyota', 'Name_Volkswagen', 'Name_Volvo', 'Location_Ahmedabad',\n",
    "       'Location_Bangalore', 'Location_Chennai', 'Location_Coimbatore',\n",
    "       'Location_Delhi', 'Location_Hyderabad', 'Location_Jaipur',\n",
    "       'Location_Kochi', 'Location_Kolkata', 'Location_Mumbai',\n",
    "       'Location_Pune', 'Fuel_Type_CNG', 'Fuel_Type_Diesel', 'Fuel_Type_LPG',\n",
    "       'Fuel_Type_Petrol', 'Transmission_Automatic', 'Transmission_Manual',\n",
    "       'Owner_Type_First', 'Owner_Type_Fourth & Above', 'Owner_Type_Second',\n",
    "       'Owner_Type_Third']]\n",
    "y = train_data['Price']"
   ]
  },
  {
   "cell_type": "code",
   "execution_count": 282,
   "metadata": {},
   "outputs": [],
   "source": [
    "from sklearn.model_selection import train_test_split\n",
    "X_train, X_test, y_train, y_test = train_test_split(X, y, test_size = 0.2, random_state = 25)"
   ]
  },
  {
   "cell_type": "markdown",
   "metadata": {},
   "source": [
    "### LinearRegression 쓸거임\n"
   ]
  },
  {
   "cell_type": "code",
   "execution_count": 283,
   "metadata": {},
   "outputs": [
    {
     "name": "stdout",
     "output_type": "stream",
     "text": [
      "Accuracy on Traing set:  0.7637274758858987\n",
      "Accuracy on Testing set:  0.7945814185846238\n"
     ]
    }
   ],
   "source": [
    "from sklearn.linear_model import LinearRegression\n",
    "linear_reg = LinearRegression()\n",
    "linear_reg.fit(XX, yy)\n",
    "y_pred= linear_reg.predict(X_test)\n",
    "print(\"Accuracy on Traing set: \",linear_reg.score(X_train,y_train))\n",
    "print(\"Accuracy on Testing set: \",linear_reg.score(X_test,y_test))"
   ]
  },
  {
   "cell_type": "code",
   "execution_count": 284,
   "metadata": {},
   "outputs": [
    {
     "ename": "ValueError",
     "evalue": "Number of features of the model must match the input. Model n_features is 55 and input n_features is 82 ",
     "output_type": "error",
     "traceback": [
      "\u001b[1;31m---------------------------------------------------------------------------\u001b[0m",
      "\u001b[1;31mValueError\u001b[0m                                Traceback (most recent call last)",
      "\u001b[1;32m<ipython-input-284-102299de928b>\u001b[0m in \u001b[0;36m<module>\u001b[1;34m\u001b[0m\n\u001b[0;32m      2\u001b[0m \u001b[0mrf_reg\u001b[0m \u001b[1;33m=\u001b[0m \u001b[0mRandomForestRegressor\u001b[0m\u001b[1;33m(\u001b[0m\u001b[1;33m)\u001b[0m\u001b[1;33m\u001b[0m\u001b[1;33m\u001b[0m\u001b[0m\n\u001b[0;32m      3\u001b[0m \u001b[0mrf_reg\u001b[0m\u001b[1;33m.\u001b[0m\u001b[0mfit\u001b[0m\u001b[1;33m(\u001b[0m\u001b[0mXX\u001b[0m\u001b[1;33m,\u001b[0m \u001b[0myy\u001b[0m\u001b[1;33m)\u001b[0m\u001b[1;33m\u001b[0m\u001b[1;33m\u001b[0m\u001b[0m\n\u001b[1;32m----> 4\u001b[1;33m \u001b[0my_pred\u001b[0m\u001b[1;33m=\u001b[0m \u001b[0mrf_reg\u001b[0m\u001b[1;33m.\u001b[0m\u001b[0mpredict\u001b[0m\u001b[1;33m(\u001b[0m\u001b[0mtest_data\u001b[0m\u001b[1;33m)\u001b[0m\u001b[1;33m\u001b[0m\u001b[1;33m\u001b[0m\u001b[0m\n\u001b[0m\u001b[0;32m      5\u001b[0m \u001b[0mprint\u001b[0m\u001b[1;33m(\u001b[0m\u001b[1;34m\"Accuracy on Traing set: \"\u001b[0m\u001b[1;33m,\u001b[0m\u001b[0mrf_reg\u001b[0m\u001b[1;33m.\u001b[0m\u001b[0mscore\u001b[0m\u001b[1;33m(\u001b[0m\u001b[0mX_train\u001b[0m\u001b[1;33m,\u001b[0m\u001b[0my_train\u001b[0m\u001b[1;33m)\u001b[0m\u001b[1;33m)\u001b[0m\u001b[1;33m\u001b[0m\u001b[1;33m\u001b[0m\u001b[0m\n\u001b[0;32m      6\u001b[0m \u001b[0mprint\u001b[0m\u001b[1;33m(\u001b[0m\u001b[1;34m\"Accuracy on Testing set: \"\u001b[0m\u001b[1;33m,\u001b[0m\u001b[0mrf_reg\u001b[0m\u001b[1;33m.\u001b[0m\u001b[0mscore\u001b[0m\u001b[1;33m(\u001b[0m\u001b[0mX_test\u001b[0m\u001b[1;33m,\u001b[0m\u001b[0my_test\u001b[0m\u001b[1;33m)\u001b[0m\u001b[1;33m)\u001b[0m\u001b[1;33m\u001b[0m\u001b[1;33m\u001b[0m\u001b[0m\n",
      "\u001b[1;32m~\\Anaconda3\\lib\\site-packages\\sklearn\\ensemble\\_forest.py\u001b[0m in \u001b[0;36mpredict\u001b[1;34m(self, X)\u001b[0m\n\u001b[0;32m    764\u001b[0m         \u001b[0mcheck_is_fitted\u001b[0m\u001b[1;33m(\u001b[0m\u001b[0mself\u001b[0m\u001b[1;33m)\u001b[0m\u001b[1;33m\u001b[0m\u001b[1;33m\u001b[0m\u001b[0m\n\u001b[0;32m    765\u001b[0m         \u001b[1;31m# Check data\u001b[0m\u001b[1;33m\u001b[0m\u001b[1;33m\u001b[0m\u001b[1;33m\u001b[0m\u001b[0m\n\u001b[1;32m--> 766\u001b[1;33m         \u001b[0mX\u001b[0m \u001b[1;33m=\u001b[0m \u001b[0mself\u001b[0m\u001b[1;33m.\u001b[0m\u001b[0m_validate_X_predict\u001b[0m\u001b[1;33m(\u001b[0m\u001b[0mX\u001b[0m\u001b[1;33m)\u001b[0m\u001b[1;33m\u001b[0m\u001b[1;33m\u001b[0m\u001b[0m\n\u001b[0m\u001b[0;32m    767\u001b[0m \u001b[1;33m\u001b[0m\u001b[0m\n\u001b[0;32m    768\u001b[0m         \u001b[1;31m# Assign chunk of trees to jobs\u001b[0m\u001b[1;33m\u001b[0m\u001b[1;33m\u001b[0m\u001b[1;33m\u001b[0m\u001b[0m\n",
      "\u001b[1;32m~\\Anaconda3\\lib\\site-packages\\sklearn\\ensemble\\_forest.py\u001b[0m in \u001b[0;36m_validate_X_predict\u001b[1;34m(self, X)\u001b[0m\n\u001b[0;32m    410\u001b[0m         \u001b[0mcheck_is_fitted\u001b[0m\u001b[1;33m(\u001b[0m\u001b[0mself\u001b[0m\u001b[1;33m)\u001b[0m\u001b[1;33m\u001b[0m\u001b[1;33m\u001b[0m\u001b[0m\n\u001b[0;32m    411\u001b[0m \u001b[1;33m\u001b[0m\u001b[0m\n\u001b[1;32m--> 412\u001b[1;33m         \u001b[1;32mreturn\u001b[0m \u001b[0mself\u001b[0m\u001b[1;33m.\u001b[0m\u001b[0mestimators_\u001b[0m\u001b[1;33m[\u001b[0m\u001b[1;36m0\u001b[0m\u001b[1;33m]\u001b[0m\u001b[1;33m.\u001b[0m\u001b[0m_validate_X_predict\u001b[0m\u001b[1;33m(\u001b[0m\u001b[0mX\u001b[0m\u001b[1;33m,\u001b[0m \u001b[0mcheck_input\u001b[0m\u001b[1;33m=\u001b[0m\u001b[1;32mTrue\u001b[0m\u001b[1;33m)\u001b[0m\u001b[1;33m\u001b[0m\u001b[1;33m\u001b[0m\u001b[0m\n\u001b[0m\u001b[0;32m    413\u001b[0m \u001b[1;33m\u001b[0m\u001b[0m\n\u001b[0;32m    414\u001b[0m     \u001b[1;33m@\u001b[0m\u001b[0mproperty\u001b[0m\u001b[1;33m\u001b[0m\u001b[1;33m\u001b[0m\u001b[0m\n",
      "\u001b[1;32m~\\Anaconda3\\lib\\site-packages\\sklearn\\tree\\_classes.py\u001b[0m in \u001b[0;36m_validate_X_predict\u001b[1;34m(self, X, check_input)\u001b[0m\n\u001b[0;32m    389\u001b[0m                              \u001b[1;34m\"match the input. Model n_features is %s and \"\u001b[0m\u001b[1;33m\u001b[0m\u001b[1;33m\u001b[0m\u001b[0m\n\u001b[0;32m    390\u001b[0m                              \u001b[1;34m\"input n_features is %s \"\u001b[0m\u001b[1;33m\u001b[0m\u001b[1;33m\u001b[0m\u001b[0m\n\u001b[1;32m--> 391\u001b[1;33m                              % (self.n_features_, n_features))\n\u001b[0m\u001b[0;32m    392\u001b[0m \u001b[1;33m\u001b[0m\u001b[0m\n\u001b[0;32m    393\u001b[0m         \u001b[1;32mreturn\u001b[0m \u001b[0mX\u001b[0m\u001b[1;33m\u001b[0m\u001b[1;33m\u001b[0m\u001b[0m\n",
      "\u001b[1;31mValueError\u001b[0m: Number of features of the model must match the input. Model n_features is 55 and input n_features is 82 "
     ]
    }
   ],
   "source": [
    "from sklearn.ensemble import RandomForestRegressor\n",
    "rf_reg = RandomForestRegressor()\n",
    "rf_reg.fit(XX, yy)\n",
    "y_pred= rf_reg.predict(test_data)\n",
    "print(\"Accuracy on Traing set: \",rf_reg.score(X_train,y_train))\n",
    "print(\"Accuracy on Testing set: \",rf_reg.score(X_test,y_test))\n",
    "\n",
    "submission = pd.read_csv('./data_kaggle/sampleSubmission.csv')\n",
    "submission['Price'] = y_pred\n",
    "submission.to_csv('0908_01.csv',index=False)"
   ]
  },
  {
   "cell_type": "code",
   "execution_count": null,
   "metadata": {},
   "outputs": [],
   "source": []
  },
  {
   "cell_type": "code",
   "execution_count": 286,
   "metadata": {},
   "outputs": [],
   "source": [
    "XX = train_data.loc[:,['ID', 'Year', 'Kilometers_Driven', 'Mileage', 'Engine', 'Power',\n",
    "       'Seats', 'Name_Audi', 'Name_BMW', 'Name_Bentley',\n",
    "       'Name_Chevrolet', 'Name_Fiat', 'Name_Force', 'Name_Ford', 'Name_Honda',\n",
    "       'Name_Hyundai', 'Name_ISUZU', 'Name_Jaguar', 'Name_Jeep',\n",
    "       'Name_Lamborghini', 'Name_Land', 'Name_Mahindra', 'Name_Maruti',\n",
    "       'Name_Mercedes-Benz', 'Name_Mini', 'Name_Mitsubishi', 'Name_Nissan',\n",
    "       'Name_Porsche', 'Name_Renault', 'Name_Skoda', 'Name_Tata',\n",
    "       'Name_Toyota', 'Name_Volkswagen', 'Name_Volvo', 'Location_Ahmedabad',\n",
    "       'Location_Bangalore', 'Location_Chennai', 'Location_Coimbatore',\n",
    "       'Location_Delhi', 'Location_Hyderabad', 'Location_Jaipur',\n",
    "       'Location_Kochi', 'Location_Kolkata', 'Location_Mumbai',\n",
    "       'Location_Pune', 'Fuel_Type_CNG', 'Fuel_Type_Diesel', 'Fuel_Type_LPG',\n",
    "       'Fuel_Type_Petrol', 'Transmission_Automatic', 'Transmission_Manual',\n",
    "       'Owner_Type_First', 'Owner_Type_Fourth & Above', 'Owner_Type_Second',\n",
    "       'Owner_Type_Third']]\n",
    "yy = train_data['Price']"
   ]
  },
  {
   "cell_type": "markdown",
   "metadata": {},
   "source": [
    "### xgboost 쓸거임"
   ]
  },
  {
   "cell_type": "code",
   "execution_count": 287,
   "metadata": {},
   "outputs": [
    {
     "name": "stdout",
     "output_type": "stream",
     "text": [
      "Requirement already satisfied: xgboost in c:\\users\\smhrd\\anaconda3\\lib\\site-packages (1.2.0)\n",
      "Requirement already satisfied: numpy in c:\\users\\smhrd\\anaconda3\\lib\\site-packages (from xgboost) (1.18.1)\n",
      "Requirement already satisfied: scipy in c:\\users\\smhrd\\anaconda3\\lib\\site-packages (from xgboost) (1.4.1)\n"
     ]
    }
   ],
   "source": [
    "!pip install xgboost"
   ]
  },
  {
   "cell_type": "code",
   "execution_count": 288,
   "metadata": {},
   "outputs": [],
   "source": [
    "from xgboost import XGBClassifier"
   ]
  },
  {
   "cell_type": "code",
   "execution_count": 289,
   "metadata": {},
   "outputs": [],
   "source": [
    "xgb = XGBClassifier(booster = 'gbtree')"
   ]
  },
  {
   "cell_type": "code",
   "execution_count": 290,
   "metadata": {},
   "outputs": [
    {
     "data": {
      "text/plain": [
       "XGBClassifier(base_score=0.5, booster='gbtree', colsample_bylevel=1,\n",
       "              colsample_bynode=1, colsample_bytree=1, gamma=0, gpu_id=-1,\n",
       "              importance_type='gain', interaction_constraints='',\n",
       "              learning_rate=0.300000012, max_delta_step=0, max_depth=6,\n",
       "              min_child_weight=1, missing=nan, monotone_constraints='()',\n",
       "              n_estimators=100, n_jobs=0, num_parallel_tree=1,\n",
       "              objective='multi:softprob', random_state=0, reg_alpha=0,\n",
       "              reg_lambda=1, scale_pos_weight=None, subsample=1,\n",
       "              tree_method='exact', validate_parameters=1, verbosity=None)"
      ]
     },
     "execution_count": 290,
     "metadata": {},
     "output_type": "execute_result"
    }
   ],
   "source": [
    "xgb.fit(X_train,y_train)"
   ]
  },
  {
   "cell_type": "code",
   "execution_count": 291,
   "metadata": {},
   "outputs": [
    {
     "data": {
      "text/plain": [
       "array([ 5.75,  4.5 ,  7.85,  5.5 ,  4.45,  3.5 , 22.99,  2.6 ,  8.7 ,\n",
       "        5.91, 10.75,  7.4 , 24.5 , 13.5 ,  1.75,  3.2 ,  5.5 ,  9.58,\n",
       "        1.25,  6.99,  5.2 ,  4.5 ,  4.75,  8.75,  7.99,  6.25, 47.5 ,\n",
       "        4.95,  3.75,  3.65,  4.9 ,  1.6 ,  7.75,  2.95,  5.37,  4.5 ,\n",
       "        7.9 , 32.5 ,  5.25,  3.25,  2.25,  9.25,  8.  ,  5.8 ,  5.53,\n",
       "        6.95,  4.35, 19.75, 12.  , 17.75,  3.47,  5.5 ,  3.45,  2.  ,\n",
       "        9.  ,  4.25,  4.99,  3.75,  9.15, 12.25,  1.75, 13.25, 29.  ,\n",
       "        7.5 , 21.  ,  0.45,  3.3 ,  5.95,  5.1 ,  2.95,  6.21, 44.  ,\n",
       "       20.  ,  3.61, 11.88,  1.95,  8.5 ,  2.49,  2.75,  2.74,  3.9 ,\n",
       "        3.5 ,  6.14,  9.45,  6.75, 36.  , 57.  ,  3.  , 12.5 ,  4.5 ,\n",
       "        3.55,  4.  ,  5.5 ,  4.95, 36.  ,  3.25,  0.7 ,  4.25, 23.  ,\n",
       "       26.  , 10.75,  4.5 ,  4.5 ,  4.5 ,  5.5 ,  6.5 ,  3.6 ,  2.8 ,\n",
       "        4.45, 12.5 ,  5.55,  5.84,  5.25,  8.  ,  3.6 , 24.99, 28.  ,\n",
       "        4.95, 13.5 ,  2.9 , 21.  ,  3.8 ,  1.7 ,  3.41,  3.85,  3.41,\n",
       "        6.01,  5.99,  4.8 ,  3.25,  2.9 , 11.  ,  2.6 ,  7.67,  4.25,\n",
       "        8.25,  3.25, 35.  ,  3.6 ,  6.25,  2.44,  8.75,  3.42,  2.5 ,\n",
       "       29.  ,  9.25,  6.95,  6.3 ,  5.5 ,  4.31,  5.5 ,  1.45,  5.75,\n",
       "        5.75,  3.25,  8.65, 28.  ,  4.25,  6.95,  3.25,  2.3 ,  8.85,\n",
       "        6.75, 13.5 ,  7.57,  8.7 ,  3.5 , 29.  ,  2.95,  1.75,  1.99,\n",
       "        4.  ,  1.5 ,  2.6 ,  4.5 ,  2.6 ,  2.25, 10.75, 28.  ,  7.1 ,\n",
       "        3.3 ,  3.  ,  5.65,  6.17, 11.5 , 13.  ,  5.49,  7.3 ,  3.5 ,\n",
       "        4.95, 24.5 ,  1.5 ,  5.5 ,  1.11,  1.8 ,  5.5 ,  4.35,  5.35,\n",
       "        1.65,  6.  ,  4.85,  6.  ,  6.9 ,  2.5 , 25.5 ,  8.15,  8.92,\n",
       "       12.75, 12.6 ,  6.9 ,  2.9 ,  2.7 ,  8.25, 29.  ,  5.53,  1.75,\n",
       "        2.79,  9.25,  2.5 , 14.5 ,  2.4 ,  3.75,  4.1 ,  2.5 , 75.  ,\n",
       "        5.65,  3.96,  4.85,  1.65,  4.  ,  5.49, 12.  , 15.  ,  2.55,\n",
       "       36.  , 22.  , 18.5 ,  6.7 ,  8.5 ,  5.49,  5.5 ,  7.05,  6.99,\n",
       "        2.1 ,  2.74,  2.75,  7.53, 67.  , 11.5 ,  5.65,  2.55,  1.6 ,\n",
       "        5.75,  7.  ,  1.5 ,  3.42, 10.75,  6.  ,  4.75,  2.21,  3.99,\n",
       "       24.5 ,  4.25,  6.3 ,  4.  ,  5.  , 29.95,  1.8 ,  1.9 , 37.  ,\n",
       "       25.71, 10.3 ,  3.74, 10.  , 12.  ,  2.9 ,  1.75,  2.66, 21.26,\n",
       "        2.5 ,  5.5 ,  5.99,  3.75, 12.75,  3.25,  2.6 , 15.5 , 60.  ,\n",
       "        3.15,  5.85,  1.2 ,  7.75,  5.5 ,  3.15, 24.5 ,  5.75,  4.9 ,\n",
       "        5.5 ,  7.3 ,  4.75,  5.34,  7.5 ,  4.25,  2.3 ,  3.9 , 13.5 ,\n",
       "        6.25,  3.  ,  3.95,  2.9 ,  7.88, 75.  ,  2.6 , 29.95,  2.5 ,\n",
       "        5.  ,  1.5 ,  1.5 ,  1.15, 36.  ,  4.75, 14.  ,  3.5 ,  2.49,\n",
       "        5.  ,  5.75,  2.59,  8.  ,  8.5 , 11.  ,  2.41,  5.3 , 34.  ,\n",
       "       16.  ,  4.1 ,  3.95, 30.  ,  2.3 , 25.5 ,  5.99,  3.5 ,  4.95,\n",
       "        6.85,  5.5 ,  8.45, 16.5 ,  6.95,  2.78,  6.5 ,  4.45,  9.2 ,\n",
       "        3.75,  8.95,  6.51, 11.75,  8.5 , 11.9 ,  2.49,  3.96,  3.41,\n",
       "        3.61,  5.77,  5.5 ,  2.75,  2.65,  6.57, 24.  ,  5.75,  2.79,\n",
       "       25.  ,  7.3 ,  2.1 , 12.5 ,  3.25, 23.  ,  9.  ,  3.65,  6.  ,\n",
       "        2.25,  7.75,  9.25,  5.55,  2.11,  6.17, 22.99,  6.  ,  2.25,\n",
       "       16.5 ,  3.45,  6.5 ,  1.8 ,  6.35,  3.6 ,  1.95,  1.7 ,  9.65,\n",
       "        4.3 ,  8.75, 54.  ,  4.45, 17.49,  2.1 , 13.25, 45.  ,  8.15,\n",
       "        5.1 ,  4.3 ,  4.5 ,  4.65, 12.75, 11.95,  7.55, 18.  ,  3.6 ,\n",
       "        3.5 ,  4.4 ,  3.85,  1.25,  2.6 ,  0.45,  3.55,  1.95,  2.9 ,\n",
       "        4.5 , 11.5 ,  8.4 ,  4.9 ,  4.25,  4.25, 13.5 ,  3.3 ,  2.69,\n",
       "        1.55,  2.25,  8.25,  3.2 ,  6.25,  3.4 ,  3.41,  5.75,  4.75,\n",
       "        6.5 , 17.75,  4.25,  8.36, 19.75,  2.25, 17.5 ,  2.95,  3.79,\n",
       "       12.5 ,  2.5 , 21.  ,  4.35,  5.21,  1.15,  4.3 , 15.  , 23.19,\n",
       "        4.3 ,  2.5 ,  3.88,  2.2 ,  5.65, 54.  , 20.5 ,  2.5 ,  4.45,\n",
       "       20.  , 11.5 ,  3.1 ,  3.25,  2.65,  5.7 , 36.  ,  7.2 ,  3.3 ,\n",
       "        7.65,  4.4 , 20.  ,  1.2 , 24.5 ,  6.1 ,  3.3 ,  4.  , 18.  ,\n",
       "        2.8 ,  4.75, 17.25,  4.99, 35.  ,  7.9 , 19.  ,  4.5 ,  2.9 ,\n",
       "        4.35,  3.75, 24.5 ,  5.5 ,  3.6 ,  6.  ,  2.35, 17.5 ,  3.5 ,\n",
       "       11.5 ,  4.7 ,  1.2 ,  3.35,  6.95,  5.1 ,  5.22,  2.5 , 45.  ,\n",
       "        6.  ,  3.74, 32.  ,  4.75,  5.5 ,  3.99,  6.35,  3.9 ,  7.25,\n",
       "       11.88,  8.9 ,  4.6 ,  5.5 ,  3.85,  4.8 ,  4.95,  6.5 ,  2.6 ,\n",
       "        3.29,  6.51,  5.5 , 16.11, 38.  ,  5.21,  8.5 ,  4.25,  6.25,\n",
       "        5.75,  7.99,  2.5 ,  6.1 ,  5.65, 16.5 , 16.  ,  2.4 ,  3.25,\n",
       "        1.8 , 22.99,  4.45,  3.45,  7.95, 32.5 ,  3.1 , 35.  ,  5.38,\n",
       "        6.67,  4.25, 12.5 , 36.  ,  1.45,  4.5 ,  2.2 , 18.5 , 23.  ,\n",
       "        6.5 , 52.  , 16.  , 21.  ,  4.75,  1.25,  4.95,  8.  ,  8.99,\n",
       "        8.5 ,  7.9 ,  2.5 ,  5.91,  5.75,  3.8 ,  6.5 ,  2.5 ,  5.75,\n",
       "        3.95,  2.6 ,  7.53,  2.75, 23.75,  6.  ,  8.95,  7.29,  6.75,\n",
       "        5.44,  4.65, 12.5 , 26.  ,  5.21,  5.45,  7.5 ,  7.12,  6.57,\n",
       "        7.72, 24.75,  5.6 ,  3.3 ,  1.25,  7.99,  4.25,  2.5 ,  5.8 ,\n",
       "        4.5 ,  3.71,  7.78,  7.99,  8.75,  2.6 ,  1.59, 21.5 , 17.5 ,\n",
       "       26.  ,  5.86,  5.5 , 10.5 , 10.  ,  4.56,  5.75,  5.84,  2.2 ,\n",
       "        6.55,  7.05,  4.75,  1.2 , 21.99, 39.75, 17.49,  5.  ,  0.85,\n",
       "        3.  ,  2.25,  5.75,  4.4 ,  2.75,  3.45,  2.  ,  2.8 ,  3.3 ,\n",
       "       21.5 ,  3.25,  4.68,  3.5 , 12.  , 12.6 ,  1.85,  8.25,  3.75,\n",
       "        3.25, 12.75,  3.5 ,  3.95,  5.75,  6.75,  5.68,  6.5 , 12.5 ,\n",
       "        0.9 ,  3.25,  6.5 ,  5.15,  7.5 ,  4.75, 33.66, 49.  ,  6.9 ,\n",
       "       13.28,  4.  ,  2.79,  8.15, 32.  ,  1.95,  1.75,  8.95,  3.2 ,\n",
       "        4.4 ,  7.4 ,  6.45, 22.75,  4.25,  5.25,  3.7 ,  8.5 ,  3.39,\n",
       "        2.21,  7.9 ,  1.95,  6.5 ,  4.4 ,  6.4 , 11.5 ,  4.25,  4.8 ,\n",
       "        3.3 ,  2.4 ,  6.51,  5.  ,  5.  ,  5.39,  3.95, 36.  , 12.25,\n",
       "        6.25,  8.  ,  2.5 ,  7.5 ,  5.  ,  8.25,  5.27,  6.55,  3.6 ,\n",
       "       56.  ,  4.9 ,  5.25,  6.2 ,  5.84,  6.25, 13.9 ,  7.  ,  5.21,\n",
       "        9.95, 18.25,  4.27,  7.25,  5.23,  4.45, 14.5 , 56.  ,  4.5 ,\n",
       "        2.79, 17.  ,  2.1 ,  9.45,  3.32,  4.5 ,  8.25,  6.75,  4.75,\n",
       "        7.25,  2.5 ,  2.25, 26.  ,  2.5 ,  6.5 ,  3.  ,  2.6 ,  4.3 ,\n",
       "        2.1 ,  3.25,  3.29, 24.5 ,  2.85,  3.15, 18.5 , 33.5 ,  5.5 ,\n",
       "       13.  ,  3.15,  2.85,  8.5 , 15.  ,  6.25,  4.45,  2.45,  3.5 ,\n",
       "       16.5 ,  2.1 , 12.5 ,  9.8 ,  6.79, 13.5 ,  4.25,  6.5 ,  4.25,\n",
       "       16.11, 28.  ,  6.2 ,  8.85, 13.25, 21.  ,  5.53,  5.45,  5.4 ,\n",
       "       11.  ,  1.75,  4.55, 11.45,  5.45,  2.25,  3.74,  1.  ,  4.5 ,\n",
       "        5.35,  2.3 ,  2.5 , 15.  , 10.  , 56.  ,  1.99,  3.3 ,  6.6 ,\n",
       "        4.49,  2.45,  3.2 ,  6.15,  6.35,  4.  ,  2.96,  5.27,  9.5 ,\n",
       "        4.8 ,  5.9 ,  5.75,  0.85,  7.  ,  4.95,  9.95,  3.35, 23.75,\n",
       "        3.3 ,  9.2 , 13.5 ,  7.25,  6.5 ,  3.25, 35.  , 34.88,  7.5 ,\n",
       "        8.6 , 16.  , 20.26,  5.5 ,  8.25,  5.5 , 18.  ,  9.45,  2.5 ,\n",
       "       18.25,  5.5 ,  5.89,  3.2 , 75.  , 10.  , 30.  , 18.  ,  3.25,\n",
       "        2.5 ,  3.38,  5.67, 14.5 ,  6.75, 18.25,  1.  , 23.75,  8.7 ,\n",
       "        5.4 ,  5.9 , 22.45,  4.75,  8.11,  3.45,  8.9 ,  4.25, 10.15,\n",
       "        7.2 ,  3.8 ,  5.  ,  3.5 ,  4.75,  1.25, 45.  , 39.47, 14.  ,\n",
       "        5.  ,  2.  ,  4.27,  3.11, 11.88,  2.75,  3.5 ,  1.75,  6.  ,\n",
       "        0.9 , 18.25,  6.  ,  3.  ,  5.45,  4.28,  6.4 ,  9.2 ,  2.95,\n",
       "       11.  , 10.99,  4.4 ,  1.2 ,  4.31,  8.36,  6.85, 10.99,  5.  ,\n",
       "       10.75, 20.5 ,  2.25, 12.6 ,  1.8 ,  6.25,  5.4 ,  2.5 ,  8.65,\n",
       "        1.5 ,  5.84,  5.5 , 10.5 ,  2.05, 22.75, 10.  , 12.75, 10.75,\n",
       "        1.7 ,  1.2 ,  2.65,  1.4 ,  1.  ,  2.4 ,  4.25, 26.  , 13.85,\n",
       "        0.95,  9.9 , 10.75,  1.3 ,  4.95,  6.  ,  4.  ,  5.5 , 29.  ,\n",
       "        5.49,  3.25,  4.25,  2.6 , 16.95,  6.8 ,  3.2 ,  4.9 ,  7.85,\n",
       "        9.31,  2.  ,  4.95,  6.  ,  5.5 , 16.5 ,  6.32,  3.85,  2.4 ,\n",
       "       17.49, 10.75,  3.4 ,  4.4 ,  1.75,  5.49,  2.  ,  2.1 ,  2.35,\n",
       "       13.5 ,  6.15, 10.  ,  4.  ,  2.21,  4.95,  9.45,  2.4 ,  7.12,\n",
       "        4.75, 23.  , 21.5 ,  4.31,  4.5 , 25.5 ,  6.99, 11.5 ,  7.  ,\n",
       "        3.25,  6.89,  3.  ,  2.4 ,  3.25,  6.  , 52.5 ,  3.25,  4.3 ,\n",
       "        2.4 ])"
      ]
     },
     "execution_count": 291,
     "metadata": {},
     "output_type": "execute_result"
    }
   ],
   "source": [
    "xgb.predict(X_test)"
   ]
  },
  {
   "cell_type": "code",
   "execution_count": 292,
   "metadata": {},
   "outputs": [
    {
     "ename": "ValueError",
     "evalue": "continuous is not supported",
     "output_type": "error",
     "traceback": [
      "\u001b[1;31m---------------------------------------------------------------------------\u001b[0m",
      "\u001b[1;31mValueError\u001b[0m                                Traceback (most recent call last)",
      "\u001b[1;32m<ipython-input-292-0a20c6852488>\u001b[0m in \u001b[0;36m<module>\u001b[1;34m\u001b[0m\n\u001b[1;32m----> 1\u001b[1;33m \u001b[0mxgb\u001b[0m\u001b[1;33m.\u001b[0m\u001b[0mscore\u001b[0m\u001b[1;33m(\u001b[0m\u001b[0mX_train\u001b[0m\u001b[1;33m,\u001b[0m\u001b[0my_train\u001b[0m\u001b[1;33m)\u001b[0m\u001b[1;33m\u001b[0m\u001b[1;33m\u001b[0m\u001b[0m\n\u001b[0m",
      "\u001b[1;32m~\\Anaconda3\\lib\\site-packages\\sklearn\\base.py\u001b[0m in \u001b[0;36mscore\u001b[1;34m(self, X, y, sample_weight)\u001b[0m\n\u001b[0;32m    367\u001b[0m         \"\"\"\n\u001b[0;32m    368\u001b[0m         \u001b[1;32mfrom\u001b[0m \u001b[1;33m.\u001b[0m\u001b[0mmetrics\u001b[0m \u001b[1;32mimport\u001b[0m \u001b[0maccuracy_score\u001b[0m\u001b[1;33m\u001b[0m\u001b[1;33m\u001b[0m\u001b[0m\n\u001b[1;32m--> 369\u001b[1;33m         \u001b[1;32mreturn\u001b[0m \u001b[0maccuracy_score\u001b[0m\u001b[1;33m(\u001b[0m\u001b[0my\u001b[0m\u001b[1;33m,\u001b[0m \u001b[0mself\u001b[0m\u001b[1;33m.\u001b[0m\u001b[0mpredict\u001b[0m\u001b[1;33m(\u001b[0m\u001b[0mX\u001b[0m\u001b[1;33m)\u001b[0m\u001b[1;33m,\u001b[0m \u001b[0msample_weight\u001b[0m\u001b[1;33m=\u001b[0m\u001b[0msample_weight\u001b[0m\u001b[1;33m)\u001b[0m\u001b[1;33m\u001b[0m\u001b[1;33m\u001b[0m\u001b[0m\n\u001b[0m\u001b[0;32m    370\u001b[0m \u001b[1;33m\u001b[0m\u001b[0m\n\u001b[0;32m    371\u001b[0m \u001b[1;33m\u001b[0m\u001b[0m\n",
      "\u001b[1;32m~\\Anaconda3\\lib\\site-packages\\sklearn\\metrics\\_classification.py\u001b[0m in \u001b[0;36maccuracy_score\u001b[1;34m(y_true, y_pred, normalize, sample_weight)\u001b[0m\n\u001b[0;32m    183\u001b[0m \u001b[1;33m\u001b[0m\u001b[0m\n\u001b[0;32m    184\u001b[0m     \u001b[1;31m# Compute accuracy for each possible representation\u001b[0m\u001b[1;33m\u001b[0m\u001b[1;33m\u001b[0m\u001b[1;33m\u001b[0m\u001b[0m\n\u001b[1;32m--> 185\u001b[1;33m     \u001b[0my_type\u001b[0m\u001b[1;33m,\u001b[0m \u001b[0my_true\u001b[0m\u001b[1;33m,\u001b[0m \u001b[0my_pred\u001b[0m \u001b[1;33m=\u001b[0m \u001b[0m_check_targets\u001b[0m\u001b[1;33m(\u001b[0m\u001b[0my_true\u001b[0m\u001b[1;33m,\u001b[0m \u001b[0my_pred\u001b[0m\u001b[1;33m)\u001b[0m\u001b[1;33m\u001b[0m\u001b[1;33m\u001b[0m\u001b[0m\n\u001b[0m\u001b[0;32m    186\u001b[0m     \u001b[0mcheck_consistent_length\u001b[0m\u001b[1;33m(\u001b[0m\u001b[0my_true\u001b[0m\u001b[1;33m,\u001b[0m \u001b[0my_pred\u001b[0m\u001b[1;33m,\u001b[0m \u001b[0msample_weight\u001b[0m\u001b[1;33m)\u001b[0m\u001b[1;33m\u001b[0m\u001b[1;33m\u001b[0m\u001b[0m\n\u001b[0;32m    187\u001b[0m     \u001b[1;32mif\u001b[0m \u001b[0my_type\u001b[0m\u001b[1;33m.\u001b[0m\u001b[0mstartswith\u001b[0m\u001b[1;33m(\u001b[0m\u001b[1;34m'multilabel'\u001b[0m\u001b[1;33m)\u001b[0m\u001b[1;33m:\u001b[0m\u001b[1;33m\u001b[0m\u001b[1;33m\u001b[0m\u001b[0m\n",
      "\u001b[1;32m~\\Anaconda3\\lib\\site-packages\\sklearn\\metrics\\_classification.py\u001b[0m in \u001b[0;36m_check_targets\u001b[1;34m(y_true, y_pred)\u001b[0m\n\u001b[0;32m     95\u001b[0m     \u001b[1;31m# No metrics support \"multiclass-multioutput\" format\u001b[0m\u001b[1;33m\u001b[0m\u001b[1;33m\u001b[0m\u001b[1;33m\u001b[0m\u001b[0m\n\u001b[0;32m     96\u001b[0m     \u001b[1;32mif\u001b[0m \u001b[1;33m(\u001b[0m\u001b[0my_type\u001b[0m \u001b[1;32mnot\u001b[0m \u001b[1;32min\u001b[0m \u001b[1;33m[\u001b[0m\u001b[1;34m\"binary\"\u001b[0m\u001b[1;33m,\u001b[0m \u001b[1;34m\"multiclass\"\u001b[0m\u001b[1;33m,\u001b[0m \u001b[1;34m\"multilabel-indicator\"\u001b[0m\u001b[1;33m]\u001b[0m\u001b[1;33m)\u001b[0m\u001b[1;33m:\u001b[0m\u001b[1;33m\u001b[0m\u001b[1;33m\u001b[0m\u001b[0m\n\u001b[1;32m---> 97\u001b[1;33m         \u001b[1;32mraise\u001b[0m \u001b[0mValueError\u001b[0m\u001b[1;33m(\u001b[0m\u001b[1;34m\"{0} is not supported\"\u001b[0m\u001b[1;33m.\u001b[0m\u001b[0mformat\u001b[0m\u001b[1;33m(\u001b[0m\u001b[0my_type\u001b[0m\u001b[1;33m)\u001b[0m\u001b[1;33m)\u001b[0m\u001b[1;33m\u001b[0m\u001b[1;33m\u001b[0m\u001b[0m\n\u001b[0m\u001b[0;32m     98\u001b[0m \u001b[1;33m\u001b[0m\u001b[0m\n\u001b[0;32m     99\u001b[0m     \u001b[1;32mif\u001b[0m \u001b[0my_type\u001b[0m \u001b[1;32min\u001b[0m \u001b[1;33m[\u001b[0m\u001b[1;34m\"binary\"\u001b[0m\u001b[1;33m,\u001b[0m \u001b[1;34m\"multiclass\"\u001b[0m\u001b[1;33m]\u001b[0m\u001b[1;33m:\u001b[0m\u001b[1;33m\u001b[0m\u001b[1;33m\u001b[0m\u001b[0m\n",
      "\u001b[1;31mValueError\u001b[0m: continuous is not supported"
     ]
    }
   ],
   "source": [
    "xgb.score(X_train,y_train)"
   ]
  },
  {
   "cell_type": "code",
   "execution_count": 293,
   "metadata": {},
   "outputs": [
    {
     "name": "stdout",
     "output_type": "stream",
     "text": [
      "(3999, 55)\n",
      "(1000, 55)\n"
     ]
    }
   ],
   "source": [
    "print(X_train.shape)\n",
    "print(X_test.shape)"
   ]
  },
  {
   "cell_type": "code",
   "execution_count": 294,
   "metadata": {},
   "outputs": [
    {
     "data": {
      "text/plain": [
       "(4999, 87)"
      ]
     },
     "execution_count": 294,
     "metadata": {},
     "output_type": "execute_result"
    }
   ],
   "source": [
    "train_data.shape"
   ]
  },
  {
   "cell_type": "code",
   "execution_count": 295,
   "metadata": {},
   "outputs": [
    {
     "ename": "ValueError",
     "evalue": "feature_names mismatch: ['ID', 'Year', 'Kilometers_Driven', 'Mileage', 'Engine', 'Power', 'Seats', 'Name_Audi', 'Name_BMW', 'Name_Bentley', 'Name_Chevrolet', 'Name_Fiat', 'Name_Force', 'Name_Ford', 'Name_Honda', 'Name_Hyundai', 'Name_ISUZU', 'Name_Jaguar', 'Name_Jeep', 'Name_Lamborghini', 'Name_Land', 'Name_Mahindra', 'Name_Maruti', 'Name_Mercedes-Benz', 'Name_Mini', 'Name_Mitsubishi', 'Name_Nissan', 'Name_Porsche', 'Name_Renault', 'Name_Skoda', 'Name_Tata', 'Name_Toyota', 'Name_Volkswagen', 'Name_Volvo', 'Location_Ahmedabad', 'Location_Bangalore', 'Location_Chennai', 'Location_Coimbatore', 'Location_Delhi', 'Location_Hyderabad', 'Location_Jaipur', 'Location_Kochi', 'Location_Kolkata', 'Location_Mumbai', 'Location_Pune', 'Fuel_Type_CNG', 'Fuel_Type_Diesel', 'Fuel_Type_LPG', 'Fuel_Type_Petrol', 'Transmission_Automatic', 'Transmission_Manual', 'Owner_Type_First', 'Owner_Type_Fourth & Above', 'Owner_Type_Second', 'Owner_Type_Third'] ['ID', 'Year', 'Kilometers_Driven', 'Mileage', 'Engine', 'Power', 'Seats', 'Name_Audi', 'Name_BMW', 'Name_Bentley', 'Name_Chevrolet', 'Name_Fiat', 'Name_Force', 'Name_Ford', 'Name_Honda', 'Name_Hyundai', 'Name_ISUZU', 'Name_Jaguar', 'Name_Jeep', 'Name_Lamborghini', 'Name_Land', 'Name_Mahindra', 'Name_Maruti', 'Name_Mercedes-Benz', 'Name_Mini', 'Name_Mitsubishi', 'Name_Nissan', 'Name_Porsche', 'Name_Renault', 'Name_Skoda', 'Name_Tata', 'Name_Toyota', 'Name_Volkswagen', 'Name_Volvo', 'Location_Ahmedabad', 'Location_Bangalore', 'Location_Chennai', 'Location_Coimbatore', 'Location_Delhi', 'Location_Hyderabad', 'Location_Jaipur', 'Location_Kochi', 'Location_Kolkata', 'Location_Mumbai', 'Location_Pune', 'Fuel_Type_CNG', 'Fuel_Type_Diesel', 'Fuel_Type_LPG', 'Fuel_Type_Petrol', 'Transmission_Automatic', 'Transmission_Manual', 'Owner_Type_First', 'Owner_Type_Fourth & Above', 'Owner_Type_Second', 'Owner_Type_Third', 'Brand_Audi', 'Brand_BMW', 'Brand_Bentley', 'Brand_Chevrolet', 'Brand_Fiat', 'Brand_Force', 'Brand_Ford', 'Brand_Honda', 'Brand_Hyundai', 'Brand_ISUZU', 'Brand_Jaguar', 'Brand_Jeep', 'Brand_Lamborghini', 'Brand_Land', 'Brand_Mahindra', 'Brand_Maruti', 'Brand_Mercedes-Benz', 'Brand_Mini', 'Brand_Mitsubishi', 'Brand_Nissan', 'Brand_Porsche', 'Brand_Renault', 'Brand_Skoda', 'Brand_Tata', 'Brand_Toyota', 'Brand_Volkswagen', 'Brand_Volvo']\ntraining data did not have the following fields: Brand_Ford, Brand_Nissan, Brand_Skoda, Brand_Tata, Brand_Volvo, Brand_Jaguar, Brand_Mercedes-Benz, Brand_Honda, Brand_Volkswagen, Brand_Bentley, Brand_Fiat, Brand_Audi, Brand_Toyota, Brand_Force, Brand_Maruti, Brand_Renault, Brand_Mahindra, Brand_Mitsubishi, Brand_Jeep, Brand_Chevrolet, Brand_Hyundai, Brand_Mini, Brand_ISUZU, Brand_Land, Brand_Porsche, Brand_Lamborghini, Brand_BMW",
     "output_type": "error",
     "traceback": [
      "\u001b[1;31m---------------------------------------------------------------------------\u001b[0m",
      "\u001b[1;31mValueError\u001b[0m                                Traceback (most recent call last)",
      "\u001b[1;32m<ipython-input-295-f714146c7d8c>\u001b[0m in \u001b[0;36m<module>\u001b[1;34m\u001b[0m\n\u001b[1;32m----> 1\u001b[1;33m \u001b[0mpre\u001b[0m \u001b[1;33m=\u001b[0m \u001b[0mxgb\u001b[0m\u001b[1;33m.\u001b[0m\u001b[0mpredict\u001b[0m\u001b[1;33m(\u001b[0m\u001b[0mtest_data\u001b[0m\u001b[1;33m)\u001b[0m   \u001b[1;31m# 컬럼 이름이 mismatch\u001b[0m\u001b[1;33m\u001b[0m\u001b[1;33m\u001b[0m\u001b[0m\n\u001b[0m",
      "\u001b[1;32m~\\Anaconda3\\lib\\site-packages\\xgboost\\sklearn.py\u001b[0m in \u001b[0;36mpredict\u001b[1;34m(self, data, output_margin, ntree_limit, validate_features, base_margin)\u001b[0m\n\u001b[0;32m    896\u001b[0m             \u001b[0moutput_margin\u001b[0m\u001b[1;33m=\u001b[0m\u001b[0moutput_margin\u001b[0m\u001b[1;33m,\u001b[0m\u001b[1;33m\u001b[0m\u001b[1;33m\u001b[0m\u001b[0m\n\u001b[0;32m    897\u001b[0m             \u001b[0mntree_limit\u001b[0m\u001b[1;33m=\u001b[0m\u001b[0mntree_limit\u001b[0m\u001b[1;33m,\u001b[0m\u001b[1;33m\u001b[0m\u001b[1;33m\u001b[0m\u001b[0m\n\u001b[1;32m--> 898\u001b[1;33m             validate_features=validate_features)\n\u001b[0m\u001b[0;32m    899\u001b[0m         \u001b[1;32mif\u001b[0m \u001b[0moutput_margin\u001b[0m\u001b[1;33m:\u001b[0m\u001b[1;33m\u001b[0m\u001b[1;33m\u001b[0m\u001b[0m\n\u001b[0;32m    900\u001b[0m             \u001b[1;31m# If output_margin is active, simply return the scores\u001b[0m\u001b[1;33m\u001b[0m\u001b[1;33m\u001b[0m\u001b[1;33m\u001b[0m\u001b[0m\n",
      "\u001b[1;32m~\\Anaconda3\\lib\\site-packages\\xgboost\\core.py\u001b[0m in \u001b[0;36mpredict\u001b[1;34m(self, data, output_margin, ntree_limit, pred_leaf, pred_contribs, approx_contribs, pred_interactions, validate_features, training)\u001b[0m\n\u001b[0;32m   1362\u001b[0m \u001b[1;33m\u001b[0m\u001b[0m\n\u001b[0;32m   1363\u001b[0m         \u001b[1;32mif\u001b[0m \u001b[0mvalidate_features\u001b[0m\u001b[1;33m:\u001b[0m\u001b[1;33m\u001b[0m\u001b[1;33m\u001b[0m\u001b[0m\n\u001b[1;32m-> 1364\u001b[1;33m             \u001b[0mself\u001b[0m\u001b[1;33m.\u001b[0m\u001b[0m_validate_features\u001b[0m\u001b[1;33m(\u001b[0m\u001b[0mdata\u001b[0m\u001b[1;33m)\u001b[0m\u001b[1;33m\u001b[0m\u001b[1;33m\u001b[0m\u001b[0m\n\u001b[0m\u001b[0;32m   1365\u001b[0m \u001b[1;33m\u001b[0m\u001b[0m\n\u001b[0;32m   1366\u001b[0m         \u001b[0mlength\u001b[0m \u001b[1;33m=\u001b[0m \u001b[0mc_bst_ulong\u001b[0m\u001b[1;33m(\u001b[0m\u001b[1;33m)\u001b[0m\u001b[1;33m\u001b[0m\u001b[1;33m\u001b[0m\u001b[0m\n",
      "\u001b[1;32m~\\Anaconda3\\lib\\site-packages\\xgboost\\core.py\u001b[0m in \u001b[0;36m_validate_features\u001b[1;34m(self, data)\u001b[0m\n\u001b[0;32m   1934\u001b[0m \u001b[1;33m\u001b[0m\u001b[0m\n\u001b[0;32m   1935\u001b[0m                 raise ValueError(msg.format(self.feature_names,\n\u001b[1;32m-> 1936\u001b[1;33m                                             data.feature_names))\n\u001b[0m\u001b[0;32m   1937\u001b[0m \u001b[1;33m\u001b[0m\u001b[0m\n\u001b[0;32m   1938\u001b[0m     def get_split_value_histogram(self, feature, fmap='', bins=None,\n",
      "\u001b[1;31mValueError\u001b[0m: feature_names mismatch: ['ID', 'Year', 'Kilometers_Driven', 'Mileage', 'Engine', 'Power', 'Seats', 'Name_Audi', 'Name_BMW', 'Name_Bentley', 'Name_Chevrolet', 'Name_Fiat', 'Name_Force', 'Name_Ford', 'Name_Honda', 'Name_Hyundai', 'Name_ISUZU', 'Name_Jaguar', 'Name_Jeep', 'Name_Lamborghini', 'Name_Land', 'Name_Mahindra', 'Name_Maruti', 'Name_Mercedes-Benz', 'Name_Mini', 'Name_Mitsubishi', 'Name_Nissan', 'Name_Porsche', 'Name_Renault', 'Name_Skoda', 'Name_Tata', 'Name_Toyota', 'Name_Volkswagen', 'Name_Volvo', 'Location_Ahmedabad', 'Location_Bangalore', 'Location_Chennai', 'Location_Coimbatore', 'Location_Delhi', 'Location_Hyderabad', 'Location_Jaipur', 'Location_Kochi', 'Location_Kolkata', 'Location_Mumbai', 'Location_Pune', 'Fuel_Type_CNG', 'Fuel_Type_Diesel', 'Fuel_Type_LPG', 'Fuel_Type_Petrol', 'Transmission_Automatic', 'Transmission_Manual', 'Owner_Type_First', 'Owner_Type_Fourth & Above', 'Owner_Type_Second', 'Owner_Type_Third'] ['ID', 'Year', 'Kilometers_Driven', 'Mileage', 'Engine', 'Power', 'Seats', 'Name_Audi', 'Name_BMW', 'Name_Bentley', 'Name_Chevrolet', 'Name_Fiat', 'Name_Force', 'Name_Ford', 'Name_Honda', 'Name_Hyundai', 'Name_ISUZU', 'Name_Jaguar', 'Name_Jeep', 'Name_Lamborghini', 'Name_Land', 'Name_Mahindra', 'Name_Maruti', 'Name_Mercedes-Benz', 'Name_Mini', 'Name_Mitsubishi', 'Name_Nissan', 'Name_Porsche', 'Name_Renault', 'Name_Skoda', 'Name_Tata', 'Name_Toyota', 'Name_Volkswagen', 'Name_Volvo', 'Location_Ahmedabad', 'Location_Bangalore', 'Location_Chennai', 'Location_Coimbatore', 'Location_Delhi', 'Location_Hyderabad', 'Location_Jaipur', 'Location_Kochi', 'Location_Kolkata', 'Location_Mumbai', 'Location_Pune', 'Fuel_Type_CNG', 'Fuel_Type_Diesel', 'Fuel_Type_LPG', 'Fuel_Type_Petrol', 'Transmission_Automatic', 'Transmission_Manual', 'Owner_Type_First', 'Owner_Type_Fourth & Above', 'Owner_Type_Second', 'Owner_Type_Third', 'Brand_Audi', 'Brand_BMW', 'Brand_Bentley', 'Brand_Chevrolet', 'Brand_Fiat', 'Brand_Force', 'Brand_Ford', 'Brand_Honda', 'Brand_Hyundai', 'Brand_ISUZU', 'Brand_Jaguar', 'Brand_Jeep', 'Brand_Lamborghini', 'Brand_Land', 'Brand_Mahindra', 'Brand_Maruti', 'Brand_Mercedes-Benz', 'Brand_Mini', 'Brand_Mitsubishi', 'Brand_Nissan', 'Brand_Porsche', 'Brand_Renault', 'Brand_Skoda', 'Brand_Tata', 'Brand_Toyota', 'Brand_Volkswagen', 'Brand_Volvo']\ntraining data did not have the following fields: Brand_Ford, Brand_Nissan, Brand_Skoda, Brand_Tata, Brand_Volvo, Brand_Jaguar, Brand_Mercedes-Benz, Brand_Honda, Brand_Volkswagen, Brand_Bentley, Brand_Fiat, Brand_Audi, Brand_Toyota, Brand_Force, Brand_Maruti, Brand_Renault, Brand_Mahindra, Brand_Mitsubishi, Brand_Jeep, Brand_Chevrolet, Brand_Hyundai, Brand_Mini, Brand_ISUZU, Brand_Land, Brand_Porsche, Brand_Lamborghini, Brand_BMW"
     ]
    }
   ],
   "source": [
    "pre = xgb.predict(test_data)   # 컬럼 이름이 mismatch"
   ]
  },
  {
   "cell_type": "code",
   "execution_count": 296,
   "metadata": {
    "scrolled": false
   },
   "outputs": [
    {
     "name": "stdout",
     "output_type": "stream",
     "text": [
      "<class 'pandas.core.frame.DataFrame'>\n",
      "Int64Index: 3999 entries, 1393 to 318\n",
      "Data columns (total 55 columns):\n",
      " #   Column                     Non-Null Count  Dtype  \n",
      "---  ------                     --------------  -----  \n",
      " 0   ID                         3999 non-null   int64  \n",
      " 1   Year                       3999 non-null   int64  \n",
      " 2   Kilometers_Driven          3999 non-null   float64\n",
      " 3   Mileage                    3999 non-null   float64\n",
      " 4   Engine                     3999 non-null   float64\n",
      " 5   Power                      3999 non-null   float64\n",
      " 6   Seats                      3999 non-null   int64  \n",
      " 7   Name_Audi                  3999 non-null   uint8  \n",
      " 8   Name_BMW                   3999 non-null   uint8  \n",
      " 9   Name_Bentley               3999 non-null   uint8  \n",
      " 10  Name_Chevrolet             3999 non-null   uint8  \n",
      " 11  Name_Fiat                  3999 non-null   uint8  \n",
      " 12  Name_Force                 3999 non-null   uint8  \n",
      " 13  Name_Ford                  3999 non-null   uint8  \n",
      " 14  Name_Honda                 3999 non-null   uint8  \n",
      " 15  Name_Hyundai               3999 non-null   uint8  \n",
      " 16  Name_ISUZU                 3999 non-null   uint8  \n",
      " 17  Name_Jaguar                3999 non-null   uint8  \n",
      " 18  Name_Jeep                  3999 non-null   uint8  \n",
      " 19  Name_Lamborghini           3999 non-null   uint8  \n",
      " 20  Name_Land                  3999 non-null   uint8  \n",
      " 21  Name_Mahindra              3999 non-null   uint8  \n",
      " 22  Name_Maruti                3999 non-null   uint8  \n",
      " 23  Name_Mercedes-Benz         3999 non-null   uint8  \n",
      " 24  Name_Mini                  3999 non-null   uint8  \n",
      " 25  Name_Mitsubishi            3999 non-null   uint8  \n",
      " 26  Name_Nissan                3999 non-null   uint8  \n",
      " 27  Name_Porsche               3999 non-null   uint8  \n",
      " 28  Name_Renault               3999 non-null   uint8  \n",
      " 29  Name_Skoda                 3999 non-null   uint8  \n",
      " 30  Name_Tata                  3999 non-null   uint8  \n",
      " 31  Name_Toyota                3999 non-null   uint8  \n",
      " 32  Name_Volkswagen            3999 non-null   uint8  \n",
      " 33  Name_Volvo                 3999 non-null   uint8  \n",
      " 34  Location_Ahmedabad         3999 non-null   uint8  \n",
      " 35  Location_Bangalore         3999 non-null   uint8  \n",
      " 36  Location_Chennai           3999 non-null   uint8  \n",
      " 37  Location_Coimbatore        3999 non-null   uint8  \n",
      " 38  Location_Delhi             3999 non-null   uint8  \n",
      " 39  Location_Hyderabad         3999 non-null   uint8  \n",
      " 40  Location_Jaipur            3999 non-null   uint8  \n",
      " 41  Location_Kochi             3999 non-null   uint8  \n",
      " 42  Location_Kolkata           3999 non-null   uint8  \n",
      " 43  Location_Mumbai            3999 non-null   uint8  \n",
      " 44  Location_Pune              3999 non-null   uint8  \n",
      " 45  Fuel_Type_CNG              3999 non-null   uint8  \n",
      " 46  Fuel_Type_Diesel           3999 non-null   uint8  \n",
      " 47  Fuel_Type_LPG              3999 non-null   uint8  \n",
      " 48  Fuel_Type_Petrol           3999 non-null   uint8  \n",
      " 49  Transmission_Automatic     3999 non-null   uint8  \n",
      " 50  Transmission_Manual        3999 non-null   uint8  \n",
      " 51  Owner_Type_First           3999 non-null   uint8  \n",
      " 52  Owner_Type_Fourth & Above  3999 non-null   uint8  \n",
      " 53  Owner_Type_Second          3999 non-null   uint8  \n",
      " 54  Owner_Type_Third           3999 non-null   uint8  \n",
      "dtypes: float64(4), int64(3), uint8(48)\n",
      "memory usage: 437.4 KB\n"
     ]
    }
   ],
   "source": [
    "X_train.info()"
   ]
  },
  {
   "cell_type": "code",
   "execution_count": 297,
   "metadata": {},
   "outputs": [
    {
     "data": {
      "text/plain": [
       "1318     4.85\n",
       "1502     5.95\n",
       "1539     6.34\n",
       "1607     5.80\n",
       "704      3.20\n",
       "        ...  \n",
       "1897     4.25\n",
       "410     45.00\n",
       "1590     3.50\n",
       "3120     4.50\n",
       "3543     1.40\n",
       "Name: Price, Length: 1000, dtype: float64"
      ]
     },
     "execution_count": 297,
     "metadata": {},
     "output_type": "execute_result"
    }
   ],
   "source": [
    "y_test"
   ]
  },
  {
   "cell_type": "code",
   "execution_count": 298,
   "metadata": {},
   "outputs": [
    {
     "data": {
      "text/plain": [
       "(1019,)"
      ]
     },
     "execution_count": 298,
     "metadata": {},
     "output_type": "execute_result"
    }
   ],
   "source": [
    "pre.shape"
   ]
  },
  {
   "cell_type": "code",
   "execution_count": 299,
   "metadata": {},
   "outputs": [],
   "source": [
    "kaggle_data = pd.read_csv('data_kaggle/samplesubmission.csv')\n",
    "kaggle_data['Price'] = pre\n",
    "kaggle_data.to_csv('result24.csv', index=False)"
   ]
  },
  {
   "cell_type": "code",
   "execution_count": 300,
   "metadata": {},
   "outputs": [],
   "source": [
    "for i in range(pre.size) :\n",
    "    if pre[i] < 1.2 :\n",
    "        pre[i] = 1.2\n",
    "\n",
    "kaggle_data['Price'] = pre\n",
    "kaggle_data.to_csv('result25.csv', index=False)"
   ]
  },
  {
   "cell_type": "code",
   "execution_count": null,
   "metadata": {},
   "outputs": [],
   "source": [
    "pre"
   ]
  },
  {
   "cell_type": "code",
   "execution_count": null,
   "metadata": {},
   "outputs": [],
   "source": []
  }
 ],
 "metadata": {
  "kernelspec": {
   "display_name": "Python 3",
   "language": "python",
   "name": "python3"
  },
  "language_info": {
   "codemirror_mode": {
    "name": "ipython",
    "version": 3
   },
   "file_extension": ".py",
   "mimetype": "text/x-python",
   "name": "python",
   "nbconvert_exporter": "python",
   "pygments_lexer": "ipython3",
   "version": "3.7.6"
  }
 },
 "nbformat": 4,
 "nbformat_minor": 4
}
